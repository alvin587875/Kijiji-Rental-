{
  "cells": [
    {
      "cell_type": "markdown",
      "metadata": {
        "id": "wRlBaYWVFjr0"
      },
      "source": [
        "![image.png](data:image/png;base64,iVBORw0KGgoAAAANSUhEUgAAATkAAADGCAYAAACpUveJAAAgAElEQVR4Ae2dB3AVV9bnPV9tfVu7tbO7NfXV1M7uztoej9MwNs7GYGwcwRmcsQ1jg8HYxjhiDB4HjLOxDQbnnDE554zIImeEyEIgIYKQQPls/c5Ti9ZTd79+Tw+NnnRuVes99et777n/2/3vc+85596TxJIhYAgYAg0YgZMacNusaYaAIWAIiJGc3QSGgCHQoBEwkmvQ3WuNMwQMASM5uwcMAUOgQSNgJNegu9caZwgYAkZydg8YAoZAg0bASK5Bd681zhAwBIzk7B4wBAyBBo2AkVyD7l5rnCFgCBjJ2T1gCBgCDRoBI7kG3b3WOEPAEDCSs3vAEDAEGjQCRnINunutcYaAIWAkZ/eAIWAINGgEjOQadPda4wwBQ8BIzu4BQ8AQaNAIGMk16O61xhkChoCRnN0DhoAh0KARMJJr0N1rjTMEDAEjObsHDAFDoEEjYCTXoLvXGmcIGAJGcnYPGAKGQINGwEiuQXevNc4QMASM5OweMAQMgQaNgJFcg+5ea5whYAgYydk9YAgYAg0aASO5Bt291jhDwBAwkrN7wBAwBBo0AkZyDbp7rXGGgCFgJGf3gCFgCDRoBIzkGnT3WuMMAUOg3pPcgQMH5OjRo9ZThkBcCJSWlsq+ffviymMXN0wE4iK58vJyWb9+vXTt2lVOPvlkmT17dihUNm/eLJdeeqn07t1b8xcXF4fKx4364osvyvTp00Nd73cRN/svv/wiP/30k8yaNUuPqVOnyltvvSWPPfaYpKWlCXVFJ+TMyMiQ7t27y+9//3v56KOPZNeuXTWuJS/n+Z3rnnvuOdm6dat4tfPIkSOycOFCuemmmxTDYcOGCUReUVFRrXqIffz48XLxxRfrdUuXLq32u/sf6p8zZ45cddVV8vTTT0tmZqbQV+506NAhmTx5svYDfUfbwRU8fvjhB2ndurW89tpr7iyhv9NO2k9fnXTSSfrphZNfgSdCtlWrVsnjjz8uBQUFftXWOL99+3YZM2aMXH/99fKnP/1JBg8erPjQDw8//LBilpeXVyNf9Ilk9x3lrVmzRjp16qT3F3Ll5OTU6GPug7lz58rNN9+s140ePTpatKr/uT8o884775T27dvL6tWra9zXVRdXfnHyfPPNNzJx4kS957h/fvzxR8XnnXfekR07dkRn+5f/HxfJOdJyA7ds2VIefPDBmDcRD+/7778vTZs2lY0bNzpFhPpcu3atnH322aHq8SqQm2PAgAHywQcf+MrJjQ3hQHR+id/CyE/7uC6oLKcOCIUHp7Cw0Dnl+Qk5//GPf5TbbrtN9u7d63mNc5KbbcOGDc6/NT7Lysr0RfPII4/U0I4hWvLXJtHuc845J1AGv/KTKRtlvfTSS/qgJ/KC/P7775X09+/fXyUuZNmlSxd94XFfhUnJ7Dvq4yV97bXXKsEF1U8/QNIoFiglQYmXPS/IWIn7qlu3bsLLNvqFTN6ioiL56quv9Jqw+MSqM1m/J0RyPMy8LXj4Yt1Eu3fvFh6qMCThbhRADh06VIYMGaKaTJiOcOfnpkRLe/vtt2O+oeg46vJLJ4rkvMgmWgbexiNHjtQblvYEaSbcsO4HM7os/odc/eqN9yUUXX5YnKLzOf8nSza06BEjRujL0a+tTp1en5AJmm00ltyLF154oWr3XvmizyW77/zkiq6XfuB+5sUY6+W4YsWKmMoHzx7kGoswIToUCl6Y9SklTHKw9l133eX7wDiNRP3/7bff4ia5PXv26NCBhxqNsUePHvq2cMoN+oQg0eDatWsXCnA6Z/Hixb5Fhn1449XkwjyAPCiUy9QAw8wg0q4tyfkCEPKHsDj5FRdEcn55vM5zz3H/8AIGs6C+9crvRyY87K1atZKsrCyvbDXOJbvv/OSKrph+4ICU0OaCXo6xSG7btm1y5ZVXCm0Jk7Zs2RLqmQtTVrKuSZjkpk2bpm9L1GI/LQtG543CQ8o8RzyaAg8sb2RSvDcr+ejczz77LCk4hX14TyTJQdw///yzas98eg0ZakNyJSUlnmXGA2BYnPzK9CO5eGRz7jnwSeQFiWx+ZML99O677wrD4TDJIblk9Z2fXNGyOCTH+Vgvx1gkh2bWpk0byc3Nja4mZf5PmOQAhxsKbclPywLgdevWKbmFnasCOW5O5jOcm+nw4cPSsWNHefbZZ0NpczzsTIDT2clIYR/eE0lytIOJZTQ5P6NPoiTHQ8iEdW3nUsLi5NcnXiQXr2zIwD3npClTpsjpp5+uc0nOuVifXmTC/DCGpXgwckiO+pLRd15yebUFDDhIsQg2iOTy8/OlQ4cOqgkeO3bMq6qUOFcrkqOFzH2gzUUPCdxEFc/DT5np6el6uBHkZmVSG6tZrMTNEO8cYFCZ3DB/+MMf1ArFENPvwErFdc4NFlSm1wPtdb37QeF3cGX44TWpHJbkwBGjh9OOu+++OykTxrS7NriDSW1kY9oBLZdPJzkvyD59+sScm3XycP/wInnooYfUUgxWvGDRKONJye67REgOeYMINojkmJOsjdU9HqxO5LW1JjncM2699dYaWpabqOIhObQ3tBX3Q8jDyA2HpRWrmaPh+QHDzcDbOwwh+pXhPh/24Y2nnYmSHHJhZfWaVA5LcuDp1kh4CJjHcp9ztz/s97A4+ZXnhUk8sqHBoXk45O18Yj2HPNHGwqRoMmFuq1mzZsKLNp4UTXLkrU3fRcvlJwv9wOFOfi/HMCSHW5KXO5S7/Pr8vdYkR+MwQvDmc3y5uDHpEIAl4dODdcZv7s4NEPNpPKxeCa0xjKZAPQxX/crxKjvoXNiHt65IDlm9JpUTJTnKwwpe2yFJWJz8sPYiubCyMSxj/tfLsudMq7z55psxX5DUF00mlI17DdozPp9hkxfJkTfRvouWy08OL5LjWi+CDSI53JtQNvClw5fRK6Hd8vIYNWqUWlZRUDA0+l3vVcaJPpcUksOSBYk5QwLeqO43iaP20kmxEm9LrxuVfI7WiN8dN55fcuQJo/X5leE+H/bhrUuSQ77oSeXakJy7vYl+D4uTX/l+JOd3vfs8fR70EuXeg6QcY5Y7b/R3LzJxNKEgS2V0OX4kx3WJ9J2XXNF18r8fyfFbNMEGkRzXo8B4TUd51YuDcBglxCvviTyXEMl5gQgYDCfxoo5+o4YlOcgt1pCAemLdrM6bF3nCDFkZ/uLV7qeSh31465rkaKfb4gp20b5d0TdPEJGAA3NYiaYwOPGG98O5NrJBcBCdX3JefLFekOT3IxOHIILceNz1B5FcIn3nJ5e7Tr57PZ/ua9wEu2TJkkCvBzR8ImnCGP2oN4yzsluWuvieNJJzwLj33nvVedUtfFiSQxOJNRxwblb84IK0Od68Tz75ZExnSOTk5sVU7pfCPLzkrWuSo06mBnBrYA6SG7E2JIf/F1gkmmLhRH9BxH5zf0EkFyQbL0cIIOh+oE28IFu0aCH4fgWlIDJBfpzg/dx43OUGkRzXxdt3QXK5641FcuD066+/qoaGZsp9G5R4gTRp0iRmm6nXy4k6qOy6+C0hkoOMoocGAPfFF18ok0e/USEcDAdBRMKNGuYhpR4nTCzWA4mVjTi/tm3b+oYaQc5M4gf51MV6eJ2OipfkmO+IFdZFbGtQqBZ187CgXcS6wdDUiB+ONjy4y6CtiSbyBhl86K+BAwd6Fl8b2SATXI5iJcd/sl+/foqZ3/VeYV3OtQ7WzEEzYomOEXau4zOZfUd5kFwYTYlnM/r5dMvFd54jiJoIjlgkx/UMazEwvvfee1Vz7e4ynec/5YerdPCiRYs01hN3CdxG3EMP3pBff/11tTcq5EVnM3TEykVwOkHqTqJMvKSx4BDc/vrrr/sGt3MtcbMvvPCCGhbw0WM4GnSjUQ/aDQ9B3759Zdy4cRp0jYMxxEZZCxYs8CwDjYPhtxOgD0nTRuRwJ/7nfP/+/VUuAvR5oN3YONczXMMnDSzABGyQj5vEnagbh2uGCgRmU15QO3mRgJ2fJkc/0HaG+jygr776qhpmCLAmbAzCDXvDu+XkO+1EPggUgw+RMDxAzmIITAUwP3rmmWd6LgKQqGxgOXbsWJ0HwtmcPqWsaCyRkXuO33kIcfP59NNPawzNwdDpGzD67rvvhNjmaNzpb7RnNDrujfnz51dzW0l231Ee3grcB8yPcd+i2XrJxfATQwH3F89q9L3q7jt+GzRoUCiSIx/X8yLjmUHRQNlx+viTTz7R8xgd8K+rTykhTa4+NcBkOY4AD0PQTX38SvtW3xD4V/Ud1lG3X2F9wyUZ8hjJJQNFK8MQMATqLQJGcvW2a0wwQ8AQSAYCRnLJQNHKMAQMgXqLgJFcve0aE8wQMASSgYCRXDJQtDIMAUOg3iJgJFdvu8YEMwQMgWQgYCSXDBStDEPAEKi3CBjJ1duuMcEMAUMgGQgYySUDRSvDEDAE6i0CRnL1tmtMMEPAEEgGAkZyyUDRyjAEDIF6i4CRXL3tGhPMEDAEkoGAkVwyULQyDAFDoN4iYCRXb7vGBDMEDIFkIGAklwwUrQxDwBCotwgYydXbrjHBDAFDIBkIGMklA8U4y2DXsfq4uCUyIVtjSKwUvGPHjtBNZbXbMMuEhy7QLqwzBIzk6gzqSEXshvXoo4+G3uiYXKwayxLiF198cbX9bb1Eh6hY359l01lSPjMzs8Yy2V75OMdS8o8//rjnGv5eeVhmnCXIZ8yYocuqs7Q6393L23vl4xzLlH/zzTe6JDr7Qnjtlsby3sjEUt4snc5GNH7Lu7N0OXt/snw5S3KzTypLk/vtWUE5bdq00WucZbzZKwLcWPqcJcadpb1Z9p5zsfZN8Gurnf/XImAkV8f4s88Ae1kksics+1SwrwAb77BRcFDiIY+1AY47PxvJIBOyIWM8CRJmc5xXXnnFc3+FoLLYHg+SY/cor8TS3C+//HLgLmK8ONhXI3pPVfadIK/XXhsZGRm6qU60Rs2OYV4bDLGxuR9heslt5+oPAkZyddgXPLBs8MIOYonsaoSmwaYzaEyxNjlGO/HTeryaDEHwID/44IOeu3l55XHOOSQHQcSbIBl2GqNNkFJ0YpeoWOQyZswYT5nRNP22QGTjITZQik5+2yJCiitXroy+3P5PAQSM5Oqwk9atW6cPrLN3bJiNjt3iOft4ujcHjtZEnOvjJTmIArnQ4hiasRNb2FQbkqOOnJwcYee1aOJGQ2PbP782OvKxVV+HDh08d4ny28yauUeGuNHJj+QYXjP0t5R6CBjJ1VGfoVXwwPKwkJhfQnuJHmIFieOQHGWhEQZtchwPySETslEuDz7aXI8ePULv4lRbkqPNaGsMW2kXcnCwhWJ2dnYQJPobeYOwiFmA6wI/knNdYl9TDAEjuTrqMLQktCUnsak1k9wDBgwIPY/lkBxlOMM8tC40u+gUD8lBEmiZTmKIB+EsXbrUORX4mQySg9TAgmE8w9a1a9fqfqaBFVf+6GDBfqoYCbw0tDDlcI2RXFikUuc6I7k66itIx6218VB/8cUXSnQQXpjkJjmu52FmiOc1nxWW5Jx5QvfemwwTO3bsKH369Ik5VESOZJAc5Tj1tm3bVjXdWMNUN2Zci2EGKyxWaDbmjt582X2933cjOT9kUve8kVwd9B1k1LNnT+natatOkGOJ5HjggQd0/ouha5gUTXLkwcqKtTXa4hqW5NDgmM9yZHI+cds455xzQrm6JIvkaM/y5ctVi4xlbPDDi/m9Xr16qZWYF0BeXp7fpZ7njeQ8YUnpk0ZyddB96enpwhGd0OYwPtx6662hnHC9SI4yGd5FW1zDkBz1u+cJ3fIxT4cx4M033xTcS4JSMkkOh1uGrImSHHLSLvJTTufOnVVDDJLf/ZuRnBuNhvHdSO4E9yMEwVycezjortJ5qHHfiJX8SI580RbXMCTHPGGQgytWyzDGkX8lyTEk9RvWghcGiXj8/ozkYt2Fqfe7kdwJ7jP8sYLcMRwnXLQmx/LqJ1IQyaG9uC2uGA9i+clBcBCdX+K3a6+9VrVNyvdLYUgOkmfOLVZySD+sJldYWOipJVNPVlaWtGrVSiDrsMlILixSqXOdkdwJ7CuIYciQIZKbmxtYC5ZE5r8gsaAURHLkQ6N59913dU7r2WefDSQ5CJWHP4i8KJP5whYtWghk7ZfCkBxGF0K0YqV4SY66+/fv7/mCgOSZCvCaKvCTw0jOD5nUPW8kdwL7DmJ48cUX1foYVA1aDn5pTPYH+YUNGzYsZqgWREcEQevWrQNJDsLEGhkrQU4MWfv16+c7LHRIrnfv3p7zd8g0aNCgUAHuhKJB+GE1OeSHmGhz9LCVOFoIMPp8UJspyyusKyiP/Va/ETCSOwH9Q6wkWkv79u3VeoqryK5duzwfNq4lZAgL50knnaQWWMjRrWFBIrhE4FfXqVMnNTQEuUdgzX399dc9SY4IgLFjx+qk/PXXX6/zVWh17vocSAi0Zz6LCXx80D799NNqQ07yoC3htAsR4r7Rt29fYT7QCW5HE7zrrru0DLQ0vwQR0W5IBhwgTAjWK+40ugxWE4GEu3XrpoH+BOkT/gZRBuHklMM1WGUnTJhQFaBP7K9fnzn57DM1EDCSS41+iltKiDEeDSbuCiyDIZAiCBjJpUhHmZiGgCGQGAJGconhZrkMAUMgRRAwkkuRjjIxDQFDIDEEjOQSw81yGQKGQIogYCSXIh1lYhoChkBiCBjJJYab5TIEDIEUQcBILkU6ysQ0BAyBxBAwkksMN8tlCBgCKYKAkVyKdJSJaQgYAokhYCSXGG6WyxAwBFIEASO5FOkoE9MQMAQSQ8BILjHcLJchYAikCAJGcinSUSamIWAIJIaAkVxiuFkuQ8AQSBEEjORSpKNMTEPAEEgMASO5xHCzXIaAIZAiCBjJpUhHmZiGgCGQGAJGconhZrkMAUMgRRAwkkuRjjIxDQFDIDEEjOQSw81yGQKGQIogYCSXIh1lYhoChkBiCBjJJYab5TIEDIEUQcBILkU6ysQ0BAyBxBAwkksMN8tlCBgCKYKAkVyKdJSJaQgYAokhYCSXGG6WyxAwBFIEASO5FOkoE9MQMAQSQ8BILjHcLJchYAikCAJGcinSUSamIWAIJIaAkVxiuFkuQ8AQSBEEjORSpKNMTEPAEEgMASO5xHCzXIaAIZAiCBjJpUhHmZiGgCGQGAJGconhZrkMAUMgRRAwkkuRjjIxDQFDIDEEjOQSw81yGQKGQIogYCSXIh1lYhoChkBiCBjJJYab5TIEDIEUQcBILkU6ysQ0BAyBxBAwkksMN8tlCBgCKYKAkVyKdJSJaQgYAokhYCSXGG6WyxAwBFIEASO5FOkoE9MQMAQSQ8BILjHcLJchYAikCAJGcinSUSamIWAIJIaAkVxiuFkuQ8AQSBEEjORSpKNMTEPAEEgMASO5xHCzXIaAIZAiCBjJpUhHmZiGgCGQGAJGconhZrkMAUMgRRAwkkuRjjIxDQFDIDEEjOQSw81yGQKGQIogYCSXIh1lYhoChkBiCBjJJYab5TIEDIEUQcBILqijysqkfH+elG7KkJKNm+I6Srdkal4pK/OsobykRIr250n+1u1yeNMWyc/cLsdy9ktZUZFIRYVnnjo/WVEhyFlaUChlx45JRXl5nYhQdqxISo4ckfLi4vqDRVTLwaLs6DHFBows1V8EjOQC+qaisFCOTZ8pB1/4pxx4pldcx6G+b8ixGbOk4siRGjUc3Zsj2XPmy6avfpDlr7wtS3u+LMtfflM2fvat7Jk5Vwr3ZEuFDznWKCzqRMnhI7J33kLZN2+R7E9fIcf25VS/oqJCig8elv3LVkrOwqVSsGt3DfKCXAqz9sj+9JWye8pM2T5inOwcN1n2pS1SQi4+dLhGnuIDByVv5Rq9hvqrjrRFWs+BtRvkaPa+CHFVl0j/g0jzM7dJ7pLlWte2oaNk96TpmpfzkKyb/CtKS6VwV5bkLFgiuYuXydHsvVLh8XLgBbJv/mI9kJsEKR3enHlcRre8ru85i9LlyLYdx2WuqJCS/CNycN1G7b8dYybK9uFjJWvqLG07/VpeWioVZeX6AgOPKhxc5dY8t0jyVqyWkkr5POCxU7VAwEguALzyg4fkyBdfS/aFzWVPkwviOvbdcJsU/DJEKMOdCnfvkU1f/iCz7+8qE6+8Scacf6WM+nsLGXP+FTKh5Y0y+74usvHz7yR/yzZ9YNx5w3w/tHGzzGjXQY+0h7rrQ4hm5CTI4cCqdbLoiV4yt+Ojsm34GCkrKnZ+lrKjR5Uc1/YfLGmde8i0m++VKa3vkKk33i2z7+0s6b37apn68Ls0mP3LVsnSnq/IzDv+UVW/ynF7B5l1b2dZ1OMF2fDxV1o2hOZORXkHJGvabFnR912Z26GbTLvxHply3e0y7aZ7ZM79XWTFq29L1tSZShyONllaUCA7Ro5XvJATMoZgotO6gZ/LrLsfkll3d5KDazcoURYfPCTrB39ZXc5KzBzs+Jz7j8ck44chgnzUeywnV3aOniiLn35R2zn1hrtkyvV3yPRb75f5jzwjm774Xg5t2KxEyAskvderMeuIYNRRljz7UkS+6AbY/7VGwEguAMLyAwcl/+PPJOusc2X3yWfEdeTcfo8cnTxN0AaddHRfjmprU9vcKcNPv0iGnnxujWP4GRcpqawf9IUc2b4zbo0ud9nKqjJHnHmJzH/kaclbubZK80KLQSObfE07Gd20pT7sDLtIkB2a1OKn+8i4ZtcJ+YeffqGMPvdyGXXu5TLijItl9HlXyMzbO8qGT7+ulC8yhM2eOU+m33KfDPvL+VXXjbmglealnJFNLpNJrW6RZX36KdHpsFxEIJwdoycqoY675BoZ/tcLZeRZl8jYC6+SEadfJMP/eoGMufAqmXN/V0G7U20HjerQYdn46Tcy8m+XybhLr5XMn4ephuZg7XwuefpFxRrZ0czQBo/l7pclz72sOA077QIZ9ffmgqzRx6Srb5N1Az9Tcis6cFC2/jJcCRM8nHodnEaefan226o3P5B9CxarNspLxCkT3Lhm2Knn6UF+XnD8TltpH9q1peQjYCQXgGmiJJf11yZyoMczUrJ2nUhpZE6O4SfDm+m33qcPshfBOed4sKfedLdsHz5GSvILAiSs+ZOb5Iae0lTGXXKtrBvAg7pfLw4iucLdWbKk58sy+tyWSm6Tr7lNljz3kqx+Z4Cs7Peean5KPmderBrKtmGjxRkCukluapu7ZMWr78ja9z+W1W99qFrc5GvayoizLpWJrW5WjY6hK0SXPStN5nd5Uslw5FmXyozbO8iy3v1k7QefyPKX3pDpt92vZAvxzW7/sA47y4tLkkJyw05tKmMvuloWdn9eZUVe97Hhk29k79wFUpKfLwdWrVUiGnHWJUqqaK1og2inS3u9KtNubi+jmlwmk69tp+cZkmb+MryqvJWv91dtcuTfmsmoJs1lXqfusvqdgZHfP/hEtvw0VAp2ZdXsUDtTawSM5AIgTJTksptdIfmDPpGyvXurSj+2N0fS+/RTrcEhs6BPtJ/l/3wjoi3FMeFfjeROPleGn3aBTG/7gGRNn63DOT+SKy8q1rmlMRe2Um0MgmOO8NDGDJ0jLNixS8tg2IkGOOqcFkqAzHkxlHOT3IJHn9M5JoisMCtb9q9YLave+lDGN7teiW7hE72EYTUP9ep3PpLxl10vI864SObc11V2jJog+Vu26vxdwc7dsmvCVJlxe8dKjbKlQBZof8nQ5NA6J193u2wbNkbrQ173cWxfrg49GV7vHD9F5UTzQ0NjXo7fOQ5v3iJbh4zUobZqnMPHyNG9+6Ro/4Gq8g6t3ySrXu+vmhsaK9ge2baz6neMUJC3peQjYCQXgGlCJHfa3yT3gYekaPZcqWCyvDIxsTynwyM6/Aoit6rfTmkqczt2k9wlyzyHYU650Z9ukht5djMlI4aK6b36qiXXj+R4yFa9/aEOpRhaLXuxn5IQk+iaMFgcOiy7xk/R+SiGlTPu6KiGEtXIXMPVJc/8U5h7dBL5tvzwm0y66lbVYtO6PKXzTxg25nd9SpBzYqtbJOO7X9RQ4sy7kR+Cyfh+iGpckNLMO/+hxgCIrrbDVcpjrjFr+hxHVM9PZNg2fGyVDJDunpnzlGzJgJYO2aGVMjdI26MNR+C7bsCnWsa4ZtdL5q8j1DrrWaGdTCoCRnIBcCZCctktropocVl7qlkD96Yt0gd02GnnV82ZVRGax9wcvzF02zNrXjXDQIC4+pNDcsz9MDSe9+DjSlwTr7xZtv46Qh9Mrzk55v/mdOym1zIXtfW3UTUe1IryCp1YZ+Kd+aXJ17bVh7XkcH51Ta7bM5K7dLkU7NitGhtW0sVP9ak0sjSXpc+/IocztqqxgeEoZDP3wcckZ9FSQaOMTmg8DHfBBDKkbEij1iR36nmqnWHYoL3OgWaXPTtN60CW8pJS2Tt3oQ5FwZU5OYbO5MPYsHvyjCrNrrTwaA3cKMNILrpX6+5/I7kArOMluawmF0he96eleGm6VODj5UrM0WB55IGORW7O7zPaPiB7ZsyN+M65ygr6WkVyfzlf58Iyfx6uVlsMGlgumXzXBzbK8ADpYElV7eaGu1Qj8aqHISaT62MvaCUQ5+Zvf1bidA9XJ1x+g6Q93EMtuPO7PKXDzbEXX61aLASqFssDB2XX+Kk6XKS9i7o/LwfWrPe0kKJJYazhOsrG/aYod3+tSW7oKecKuDCMhkSdgzlFiPjg+o0RCCoqBPeQ9R99rtdCdORjyM5QG6LGwLPm3Y9k79z5Unw4vwZ0RnI1IKmzE0ZyAVDHQ3IYG3LuuFcKR42V8kPV3UaogjkctCqMCg6JxfpM6/yE+l95uUb4ie0mufTer0n+1h36wDqWUQwBzHtFW1cPZ2TK1BvuVpKbxhBu2izPKpibwwiBZXDiFTfJ5m9+qkFyECX1Ma/Ip2MxndH2ftn4+bcqU0VpmQ590QaV5J54QYewXm3F+ou7hmwIIi0AABe/SURBVJJcixt0WJgUkmPO8oyLheGjQ3B8Ulc1kqsckuKXt+23UWp95jrty1Oa6rwnbcUog0GBIav69bkQNJJzgVHHX43kAgAPS3JKcLfcIQU/D5GynBwRD0MB2giOv8yPxSI3foccIBMmsN1OsAHi6k9uksNdA7cQnFWn3dJeCQyDAkSHO4fbheTIjl3qF4aWMunqW2Xr0NGeVeVnbFWfrhFnXyqTrrpFtvwwROfqqmlyzVtrWWldeqgWSXuoC2spfmQOkUEGqj2eep6kdXlSXSi8Jt+P7sut0vjQHnOXrtBJ/TDDVQwBDulGu5DQVnwV1330ueydt6jqwHkYrRLHXycxT8jcI+cwjDDkxxF47fuD1RAB6WPNhujoZxyY3clIzo1G3X43kgvAOwzJQXD7bmonBT/9ImU5uZ4E51TBw4Olk4chFtExVMUi6nbkdcoJ+qxGci/2U4LkAVvz/mDVvtCqcOPAlcFNcji6ruj7jsqGYzLzTUzuuxPaCREZs+55SOfuIE7mo9C03CTHEHXf/EU63MPNYkLLG3R4N+eBR2Rv2sIqQ0ru4uWS1ukJwXUE0kVLUpeUqMiF7SPHqdvGsFOaqqGA+UO34YEXAkNJDQNzCQx2OOuC94gzLxa0VbefnA7NK7VWSCz6cIriPHlxF1ErdXGJRjUwfwi2RDaseW+QDl2Zq4SwIWJ3MpJzo1G3343kAvAOJLlTzpSss8+TnLvul4Lfhkl5bm5MjYtoAh7YKW3uEFwRapDdKU1V6yDCAOdWXBDi0eJoSg2Sqxxq5a1ep0MphlhoMNTtJjm0FCynPKRcM6XNnWqo0BhS4lcLC9UVhGHc6KaXq4Mt81AMwyEBN8k51lXOExnBsBnfsDEXXHlcy6mokMLd2bL67QEy7qKr1UVk3j8ek31pC1VbwgqMTDgnz7rrwciQt0kzWfnau0pwRG7gREwbeGFgpSWioay4WA0FEB4EjLsGv6NhlR49WpPkdP5xRiRPSWnNz+IS1cqWvfi6zsdhcNgzY46+fJCRg5A2fOIYvhO9svip3qoJum8tIzk3GnX73UguAG9PkoPcTv+7ZDdvJQd79paiuWlSTsxhlPbhVyyOpVhM8Tcbf1lrnbzG414nsZtdJwsefVZ9w/DKhyTiTV4kRxkMlzN/HqrDM4dc3SSH/Ayx0ELQ9tCOmC/DGZjh3Op3P1JnWNxL0IAcIiYOluRFcpzX4fK02TLzjo4R8rzudh3iQuAQBEQ0666HVNNCuyTMafnLb8mGwV/qJxZitDCImTpzFi+rGu7iljPrnk76wsDiCXaExGHYWP3WANX6aAvHou69IrGtrogHysTokP7i65Lx42+ex46xk9RYg3aKIzAHc3bpfV6TTV//KBnf/6paHK4t/Da+RRtZ//FXcmx/nuLi/DGSc5Co+08juQDMq0ju7KZKbHvOuUiyL79G8ro9IYXDR0rptu1SwaohcSYe/CPbd0n2nAU6r7N1yAh1SIUoIBrcEMKSZnTVfiRH8Dr+W8t6vyYjmzRX7aYaySkhFamHP/GzzB2ibaLZ4SDMEBaLIuFojlc/zroOEfuRHO0gnI2hHpZRhqZMzjN0B4fivINKehgliBggjAzCH3vRVeo4jVZJHurcNnR0tXkyhqybvvpRNSjkwt9u7MXXqCGBtulc3FmXaBgaoW2aXCSHhgcBMp+G8cHrYIiNP1/WlJkaJ0u5KlOTyzSahLAu8mN44HPhY8/pogLmJxd9Z/7r/jeSC8C+/PBhDbLPaXe37O/8iBx+f6Acmz5LSrfvkIqCgoSJyKmSCXgIDS2LTzSbRMnNKZMJ8wnN28jEljfJmvc+ck7rJ+XjyjKnQzeZ0KKNaiRoIu55P+TAX235K2+pJjShxQ1aHtdjtCAYnqG0rl5SGbJG4awGwm8TW96oUQlEDjiJdh5Yu14D1nEIRlvDKss8IO3FUrpr4jS1aOKcqyR8SlMlWIL0CV7HSAGpqdGiciUqCBajxPZhYyStU3d1aUFO2s8xqdXN6p+Xuzj9eDQB9eUdUDcY57qgT9xuDq7fpP2D5oihYXq7B5Swq/JdfoMuJsCcJj58+pJyGl/5yZCWNhPfS/t3jJlUDfeoy+3fJCJgJBcEZlmJlO/bLqXr5klpRrqU5+ySiqLjUQxBWWv9W3mpSPERkcJckaN5ImX43cVeZ674wCHZPWGq7J44rca8EIRSeqRAA+Rx0MVNBEthtNbBfBZLF+1fvlqypsyKlDd5RmSppYytgvOvo8E57YSw9qUtjtS7aq2uZuL8xifGCUKb9kybLVmTZ2gsKLJoQq7CoxoCBsHOe6i7Dv3Q3giKh1xwCM7fnBlxM3E7DFe2iVVbiDOl3dr+CVN1CSbIWF8eLmHQIIlFda4L+sSn0InPZR6QYSfLRmGAqMo3eYbOHepSS1H+kU61YJqfkanzedkz5opqwQkup+WUaZ/hEDCSC8KprFDkwHSRLS+IbHtNZO8vIgfniRzdIlKGw2f8c2ZB1QnEBqHt3yiyfbbI6p9EFvYXWfWdyKHtxA8FZudHyAcrKEf0w62ZKxfCjFxTVDW/5VUw5Mfkf9W1JSWea7ZV1VtUfLze6DnKigrBN84pj4eeCIroRHQBcZ3MVzJHh68gLi+402BcQKursUaeClCh2prTdj6pzzNVwyCClTtfte9FyFm9nxXjyrZGrg3GUWWgztJS1d7QnKNfLJ5y2smkIGAkFwRj6UGRnQNF0v63yNz/EJn/Z5GlF4ls6CKS9ZVIfrpI6YHakx3klr9bZPsskSWDRMZ2Fvn+KpEvLxT57ByRcQ+LZC8XJcEgeRvIbwfWrFOHW13S6KxL1YLKUk/MuWHAYN4ymngaSNOtGScAASO5IFDLC0V2fyYy+7+JzDgpcsz8TyKz/7vIgr+IrG4nsmuQSP5ykbLjjqNBRVb7DW3n2EGRHfNE5vYT+eVGkc/PExn0V5EB/0/kw/8bOUbeJ7InvdGQHFoea6ut7NdfHW2xsEJu8zo9IRs+/loK9+w1kqt2I9k/QQgYyQWhwxzY3iEis39/nOQcspvxbyKz/2uE7NY9IJIzQqSYyfbqQxvf4ivKRQ7tEFnxrcjwe0U+ayoy8JTjxOYQHJ+NjOTAjKE2C1Xi+4Zf2l6ci9dt0nO+w1BfsO2HxoyAkVys3t83zIfkHM3u30Tm/E+R5VeJZH0mUrQ7BNFViOzfIDLvDZHvrxQZdJrIh3/2JjhIbnQHkewVjUaTc3dJZF6wWOfbbB7LjYx9D4uAkVwspHLHiaT9H5EZv/PQ5iqJjt/Q6pZeKrL749hEd2CLyKyXRL68SGTAyf7k5mhzk56IGCNCGB5iNcd+NwQaGwJGcrF6/MBskSUXiMwMIjnI7ncis/6LSPplInu+EinJ9S75yB6Rua+JfHFh9Xk3h9C8Pue8KpKfhenUu8ygs+yHcOSIWiSdvRyCLq/6DdeMgkI5umevFOUd9LdUVmVIgS84Jmfvk4KdWVLiuK+kgNgmYu0QMJKLhd+R1SKrbxeZ+W8Bmpyj0Z0U0ehW3SySN1kEFxR3Ki8RWfa5yNfNRAYEDE/dRIcRYhnD4OrB8u5ivb6zWgY+Xmv6D5aFPXrJgm7P6C5Tq958XzdZYc8Hry388F3DsZc9FhY92VvdNhY+/rwG7LORDKuVVK0WXFkxK5Ns+ORrSX+hrzoKE5IWlNjuMPOnobLsn2/I5q9+jFhLPXbacsrAP43lxYkfJXY26MDhFsOEOxE/m/H9b5pvftenda07NutZ03+Q7J0zv5rzLj50GD1Y0CCoHn5b9cb76lztrsu+1z8EjORi9UnxXpHM3iJYVauMDi5Sq3HudyLz/kMko6fI0a3VHXh3zRcZdoe/gcFNbs73by8X2ThGpDS8EzLe9Rnf/iLTbro3Eo51eiR+k9Cn0ee0kCnXtdPYy4NrN1bT0HBmZTUNVhchRIkQK439PP3Cqt22eLj3LVyi/m4OdJAigev4tRGcziohQYmgfmevCFYhyVm0rMYKIu78LL/ExjG4lNCGoCOt61O6L4UTObJ78nSZ99DjGuGh+TSW9QINURtz3hW6oCdE6zj8shDBjtETInGvAXWxJwUB+Rnf/eoW1b7XQwSM5GJ1SkWJSPYPInP/EJLkTopofctaiuSOOu5aUlIgMuc1kU+axJ6DcwiOz7EPi+xdFdrowDCMsKsJzVtrUDvLE0E+hFs5G8YM+8t5Mua8K3V1EEKcSHwSiM+Kv/xO3CeEOOnKm3UlD+JYCWhnJ69FT7ygEQOOrxpxqDN1pZALdOcrNKegdGDNBlnw2HPq98amMOxRigbll3ApYcl1AuAhXWJgWUJpaus7axxs0n1ka6R+9lxgT1TIDRyQf+KVtyiBEfTPQgX8xkIEW34cohZdhuisFDP5unbCbl6j/n6Z7k3hVRfhcRCipfqNgJFcmP5hyLrmjvAkh3Y353+IZPYRKarcZg4/txH3xqfFDT5DZOGHkSiIECFdkM7+5atUw9AH+IyLdWUO4lXZdYtQpvWDv5Dxza/Xh57NrHdNnCqlR48Je1CwB6gS2XlXyNKeL0veslVyaFOG5C1frRti6+q8pzSV8c1by9oPP6kaFtYlyUX2WB2uIWIMk6OPwqy9utxS0cFDunAnpAgWk69uq4uHHt6UoWvDsYcDG2wTpM8CoAsefUb3o3CTHCuxzLn/Ed20Jroe/ofMHQ0wzG1k1/xrEDCSC4M7c2s7PxSZ9Z/jILrfiay+Q+TwEpy+RFb9IPJNi/DGBrS4oXeIbJ/DekVhpFQDw4aPv5ShlRsYz33gESW2SFB7hTrQMl+1tNcrumwRmlvBzl2qxa394GMlAzQclmlny0DV1AjHKisXlv5e9+EnkcUr2XimQzctG8HqkuRYMICdslTzw5na6xDRJd7RXCEx1ngjBldXHaY9FRWanzjZOe276Koo2XPSdBOdaiR31iXCHB77X3jWEx26FqqX7KK6RsBILhTiFSL5y0RW3RIHyZ0ksvQSkZzhIsV5EYvqx2eFH6p+2kRkkaPFhRJSN5Be1KOXsEHLuEuvk83f/FwjRhJH2oLde3QFEI3vLK/QOTTWdEPjmXD5jRoU7wxFnZrJh0ZH8DzEwWohLLKJxbauSY5hqNcy6Y6sfLKfK0s20SbWxCtl1ZioBPljoOHAuEHyIjmC/y2lLgJGcmH7DvcNHIMXnBqe6OafGvGby1stMvlJkUGnhye50R0r41XDbzjMTlrTbrxHH2zmkFgpI0xi2DWj3QM6VIW89i1c6pkNy+ryl97Udd/YBwILKcO1uiQ5hpDspjXrns4yu32XqoNljthdyyHnuf94TMmY4TcbVIeNknCTHHkxwLAUvbsuvq8b+LknRnay/iFgJBdPn5TuF9nWr3osaw3rqsvyOu9PIjvfF9kzN2JA0MiGynhUt3HB/Z2Y1Z9bi2waLVIS5YISQ1ZIbqpDcm3ulKwZwZsmO8UpybWNkBxrnbEjvFdiyMou8KObXqHWStxGcBepS5JDi4R8IsaR45+sEMzw8zjJPVpFciy/RLQEBowVr72n5ynHObAis1BozuL0apqc/l5psIiub2H3570gsnP1EAEjubg6pTyyzNLGxyOOv0EEx28z/11kS2+RraNFRrQX+egvwZocvnPfthRZ+a1IUWRZ8XjEU03u5vaqyWF9ZJcuz8Rckmv5ILcmx+5ZrC7slVgDbUXfd3UYqDvef/uL7m9QlySHkWDmnQ/K/G7PqIUWKy3H2vc/VnJ2lm8imJ+hKoTIApVocpAce8aOOP0iPdTq+pfz1VXGi+SwMGPowALs1ON8siKxpdRAwEgu3n6qYFmkdJF1HSpjWmNEQmQ8K5I5MjbJEd711SUi896sjG6oudZaLFFZZw2nXx5u1mPL+H6IVJRE5pqcvGg0LIN+YPU6dexlPqpg+06Zfe/Dmo+JffY7cDQid74Dq9eqIy0aDiv2spov83p1SXLIF2ZObuVr78nIv12mbVr5en8pY2f70lLZOW6SLH3uZVny3Muy8PGeutWhnyaHywqGB5uTc+6C1Pw0kkuk38qLRQ4vFtnQWWTeH4OjIcKQ3MBTRb5vJbJksMiR7ISXQGdyfdMX36mPG64T8zr30GXHy8vKdIFKCI59XIl6YBer2e07y86xkzTUafV7HykhqDtFt2er1mxDM1JizMqWTZ9/p0uM4zOHdZXIAMiwGsk93lPyt25XCyZWTPcRsVCKrliMRsT6cGhJ+xYs0cUk3dc638nj9pM7bl0tqla2+3q6dNtvo9X4AiGzV+v+pctVVuTlWowOWJAhulgkx3aETvnRn9qmRO4hy1NnCBjJJQo1wfKFm0QyXxRZcJrIrH/3DuIPJLk/i+ALN+TWyBD1aMQxN2GRyst1qXD2VcX5lYUmiRRgr1OiDPYvW6X+bnjq4+iKU+32EeM0rAljA5uyoAXi8Mu2guxXwPJGuekrNB/am2O5JTKiMCtbRXWTHNsK4oN2eEtmjUP3Sz2cL3mr1lU5AzP03DZ8rBoNvPJg2GAlXccZGKsxS6If3LCpRvnkL9ixU/3+mD/EODH8tPO1rbPv66ohWCzdxJwjBL1+4OfqG+hLcuon11WyZ871rCs/c6tatBPtL8tXNwgYydUGZ4ju2HaRXR+JLLsisuRSdIyrH8kxPGWBzPFdRbZNFyEiIgmJzV42DP5Kd5JiTokHePzlbTTsavot7XUI51gNiQVlzTYSEQ/4yhE6Fdnl6lL19Geuavpt90XOawRAc41nzVm4pMqNw01ykBA7XM1/5Kkax7J/vi7Zc+frfgiOJsd+qLPufFDSuvSocT1lMDRlTwmH5EZW7r7F1oledSx/6Q05uGGzasNbfx0pk6++VXfXgrxxdp51dyetC2sylloMCszN+c7JXXKNbsXoVdfC7j0l89cRSeg1K+JEImAklwx0Sw+L5E0UWf+QyIK/VholKufqokkO6yna20/Xi6S9JZKztnKTmmQIEimDlUPWDfxMpt50t4w6p7kQZ8mDzEPNEJEds9iN69CmLVV+dAzjMECsePVdmXLd7RoK5uRjK0Ly4UNHbCqLWLKyiZM0dpVtDP/WTOuhLq+D8Cm2X8QK6sSuel3nPoebCqughI1dnXzd7bJv/hIlubLiEo0tZU/UUZUbYmvZZ1wkI866VOct0U4h9rn/eFRylyzTTbQ1dvWmuz3b4JYNJ2M2u7ZUvxEwkktW/xDjWrhBZNcAkRXXi8z7X5EhbMZzEcMDq/viDPxdS5EpT4tsGityrHbD0yDR0ejYK3T1OwNkSc+XZfEz/5T051/VTWG2DR8jx/bm6DxTtTJ0u7482TF2olohIRbysXkMGz5v+eE3ObRhs0YGuPMd3pwp6wd/qaFgXO93sGoHhEhI1Jbvh0j6C6/5XuuUQbgZc42ZPw+Xpb36xrx+1VsfCvI4c2XlRcW6ixfRHU6ZfC7r008NM/jQ4fu38dNv1MCgq5Ckr9DNtN3Xe31f+vyrGufqxsK+1z8EjOSS3SdsfnNwlsjWl0SWXSmy/U2RbeMjxDahm8iqHyM7b7F5TR0ktvpjdRHmz1heKVakgIpE2NOxIiVClkVCM2RlE8/dv3RT6mI5lpundXC934EcpQVHNaSKYTLl+l3rnMc5Fy2z+CDXZ8e8no2s2RGsRmJz7Swnf7b69xEODKkd25crRbl5kZVQKrdHZItFRwa/T+Sx2NUaSNe7E0ZyJ6RLykVYoilvaiR29eBmkZ3zIkPTOB18T4h4Vqgh0IgQMJI7oZ3NSr5lkf1SE1nV94TKZoUbAo0DASO5xtHP1kpDoNEiYCTXaLveGm4INA4EjOQaRz9bKw2BRouAkVyj7XpruCHQOBAwkmsc/WytNAQaLQJGco22663hhkDjQMBIrnH0s7XSEGi0CBjJNdqut4YbAo0DASO5xtHP1kpDoNEiYCTXaLveGm4INA4EjOQaRz9bKw2BRouAkVyj7XpruCHQOBAwkmsc/WytNAQaLQJGco22663hhkDjQMBIrnH0s7XSEGi0CBjJNdqut4YbAo0DASO5xtHP1kpDoNEiYCTXaLveGm4INA4EjOQaRz9bKw2BRouAkVyj7XpruCHQOBAwkmsc/WytNAQaLQJGco22663hhkDjQOD/A/uqlJDBwiRMAAAAAElFTkSuQmCC)"
      ]
    },
    {
      "cell_type": "markdown",
      "metadata": {
        "id": "0mIGM6qhND_p"
      },
      "source": [
        "# Machine Learning\n",
        "\n"
      ]
    },
    {
      "cell_type": "markdown",
      "metadata": {
        "id": "ZgjjpTFijt2q"
      },
      "source": [
        "# Load cleaned data from previous EDA"
      ]
    },
    {
      "cell_type": "code",
      "execution_count": null,
      "metadata": {
        "id": "-lf-wb2NzQjr"
      },
      "outputs": [],
      "source": [
        "# load kijiji_cleaned.csv\n",
        "\n",
        "import pandas as pd\n",
        "data = pd.read_csv('data_set_ML_01.csv')\n"
      ]
    },
    {
      "cell_type": "code",
      "execution_count": null,
      "metadata": {
        "colab": {
          "base_uri": "https://localhost:8080/",
          "height": 206
        },
        "id": "cVidSKJDzdBH",
        "outputId": "384caf89-7735-4cdb-8c9e-459f52c73449"
      },
      "outputs": [
        {
          "data": {
            "application/vnd.google.colaboratory.intrinsic+json": {
              "summary": "{\n  \"name\": \"data\",\n  \"rows\": 10550,\n  \"fields\": [\n    {\n      \"column\": \"CSDUID\",\n      \"properties\": {\n        \"dtype\": \"number\",\n        \"std\": 10732,\n        \"min\": 3501005,\n        \"max\": 3560010,\n        \"num_unique_values\": 214,\n        \"samples\": [\n          3502025,\n          3549066,\n          3519070\n        ],\n        \"semantic_type\": \"\",\n        \"description\": \"\"\n      }\n    },\n    {\n      \"column\": \"Population\",\n      \"properties\": {\n        \"dtype\": \"number\",\n        \"std\": 1276741,\n        \"min\": 1055,\n        \"max\": 3025647,\n        \"num_unique_values\": 212,\n        \"samples\": [\n          57363,\n          14179,\n          448051\n        ],\n        \"semantic_type\": \"\",\n        \"description\": \"\"\n      }\n    },\n    {\n      \"column\": \"CSDNAME\",\n      \"properties\": {\n        \"dtype\": \"category\",\n        \"num_unique_values\": 213,\n        \"samples\": [\n          \"The Nation / La Nation\",\n          \"Parry Sound, Unorganized, Centre Part\",\n          \"Georgina\"\n        ],\n        \"semantic_type\": \"\",\n        \"description\": \"\"\n      }\n    },\n    {\n      \"column\": \"Latitude\",\n      \"properties\": {\n        \"dtype\": \"number\",\n        \"std\": 0.9486719068128704,\n        \"min\": 42.0267405,\n        \"max\": 49.7991595,\n        \"num_unique_values\": 7241,\n        \"samples\": [\n          45.3523725,\n          43.6737023,\n          42.3127599\n        ],\n        \"semantic_type\": \"\",\n        \"description\": \"\"\n      }\n    },\n    {\n      \"column\": \"Longitude\",\n      \"properties\": {\n        \"dtype\": \"number\",\n        \"std\": 1.9036485128622151,\n        \"min\": -94.4883286,\n        \"max\": -74.3746039,\n        \"num_unique_values\": 6859,\n        \"samples\": [\n          -79.7906144,\n          -79.4730252,\n          -80.3662329\n        ],\n        \"semantic_type\": \"\",\n        \"description\": \"\"\n      }\n    },\n    {\n      \"column\": \"Type\",\n      \"properties\": {\n        \"dtype\": \"number\",\n        \"std\": 1.4856944451807454,\n        \"min\": 1.0,\n        \"max\": 6.0,\n        \"num_unique_values\": 6,\n        \"samples\": [\n          1.0,\n          2.0,\n          5.0\n        ],\n        \"semantic_type\": \"\",\n        \"description\": \"\"\n      }\n    },\n    {\n      \"column\": \"Price\",\n      \"properties\": {\n        \"dtype\": \"number\",\n        \"std\": 545.9722971038307,\n        \"min\": 287.0,\n        \"max\": 6000.0,\n        \"num_unique_values\": 827,\n        \"samples\": [\n          2650.0,\n          1570.0,\n          1705.0\n        ],\n        \"semantic_type\": \"\",\n        \"description\": \"\"\n      }\n    },\n    {\n      \"column\": \"Bedrooms\",\n      \"properties\": {\n        \"dtype\": \"number\",\n        \"std\": 0.6195076426424179,\n        \"min\": 0.5,\n        \"max\": 5.0,\n        \"num_unique_values\": 10,\n        \"samples\": [\n          4.5,\n          1.0,\n          2.5\n        ],\n        \"semantic_type\": \"\",\n        \"description\": \"\"\n      }\n    },\n    {\n      \"column\": \"Bathrooms\",\n      \"properties\": {\n        \"dtype\": \"number\",\n        \"std\": 0.31362468129073445,\n        \"min\": 1.0,\n        \"max\": 4.0,\n        \"num_unique_values\": 7,\n        \"samples\": [\n          1.0,\n          1.5,\n          4.0\n        ],\n        \"semantic_type\": \"\",\n        \"description\": \"\"\n      }\n    },\n    {\n      \"column\": \"Hydro\",\n      \"properties\": {\n        \"dtype\": \"number\",\n        \"std\": 0.46494243313586636,\n        \"min\": 0.0,\n        \"max\": 1.0,\n        \"num_unique_values\": 2,\n        \"samples\": [\n          1.0,\n          0.0\n        ],\n        \"semantic_type\": \"\",\n        \"description\": \"\"\n      }\n    },\n    {\n      \"column\": \"Heat\",\n      \"properties\": {\n        \"dtype\": \"number\",\n        \"std\": 0.4742090993243944,\n        \"min\": 0.0,\n        \"max\": 1.0,\n        \"num_unique_values\": 2,\n        \"samples\": [\n          0.0,\n          1.0\n        ],\n        \"semantic_type\": \"\",\n        \"description\": \"\"\n      }\n    },\n    {\n      \"column\": \"Water\",\n      \"properties\": {\n        \"dtype\": \"number\",\n        \"std\": 0.4492057518654327,\n        \"min\": 0.0,\n        \"max\": 1.0,\n        \"num_unique_values\": 2,\n        \"samples\": [\n          0.0,\n          1.0\n        ],\n        \"semantic_type\": \"\",\n        \"description\": \"\"\n      }\n    },\n    {\n      \"column\": \"Size\",\n      \"properties\": {\n        \"dtype\": \"number\",\n        \"std\": 154.91960439360105,\n        \"min\": 303.0,\n        \"max\": 999.0,\n        \"num_unique_values\": 628,\n        \"samples\": [\n          822.0,\n          509.0\n        ],\n        \"semantic_type\": \"\",\n        \"description\": \"\"\n      }\n    },\n    {\n      \"column\": \"Agreement Type\",\n      \"properties\": {\n        \"dtype\": \"category\",\n        \"num_unique_values\": 3,\n        \"samples\": [\n          \"1 Year\",\n          \"Month-to-month\"\n        ],\n        \"semantic_type\": \"\",\n        \"description\": \"\"\n      }\n    }\n  ]\n}",
              "type": "dataframe",
              "variable_name": "data"
            },
            "text/html": [
              "\n",
              "  <div id=\"df-5a29cbf4-d729-4b51-a683-bf985851e7cb\" class=\"colab-df-container\">\n",
              "    <div>\n",
              "<style scoped>\n",
              "    .dataframe tbody tr th:only-of-type {\n",
              "        vertical-align: middle;\n",
              "    }\n",
              "\n",
              "    .dataframe tbody tr th {\n",
              "        vertical-align: top;\n",
              "    }\n",
              "\n",
              "    .dataframe thead th {\n",
              "        text-align: right;\n",
              "    }\n",
              "</style>\n",
              "<table border=\"1\" class=\"dataframe\">\n",
              "  <thead>\n",
              "    <tr style=\"text-align: right;\">\n",
              "      <th></th>\n",
              "      <th>CSDUID</th>\n",
              "      <th>Population</th>\n",
              "      <th>CSDNAME</th>\n",
              "      <th>Latitude</th>\n",
              "      <th>Longitude</th>\n",
              "      <th>Type</th>\n",
              "      <th>Price</th>\n",
              "      <th>Bedrooms</th>\n",
              "      <th>Bathrooms</th>\n",
              "      <th>Hydro</th>\n",
              "      <th>Heat</th>\n",
              "      <th>Water</th>\n",
              "      <th>Size</th>\n",
              "      <th>Agreement Type</th>\n",
              "    </tr>\n",
              "  </thead>\n",
              "  <tbody>\n",
              "    <tr>\n",
              "      <th>0</th>\n",
              "      <td>3501005</td>\n",
              "      <td>14211</td>\n",
              "      <td>South Glengarry</td>\n",
              "      <td>45.256161</td>\n",
              "      <td>-74.595385</td>\n",
              "      <td>1.0</td>\n",
              "      <td>1425.0</td>\n",
              "      <td>2.0</td>\n",
              "      <td>1.0</td>\n",
              "      <td>0.0</td>\n",
              "      <td>1.0</td>\n",
              "      <td>1.0</td>\n",
              "      <td>950.0</td>\n",
              "      <td>1 Year</td>\n",
              "    </tr>\n",
              "    <tr>\n",
              "      <th>1</th>\n",
              "      <td>3501005</td>\n",
              "      <td>14211</td>\n",
              "      <td>South Glengarry</td>\n",
              "      <td>45.192003</td>\n",
              "      <td>-74.374604</td>\n",
              "      <td>1.0</td>\n",
              "      <td>1100.0</td>\n",
              "      <td>2.0</td>\n",
              "      <td>1.0</td>\n",
              "      <td>0.0</td>\n",
              "      <td>0.0</td>\n",
              "      <td>1.0</td>\n",
              "      <td>780.0</td>\n",
              "      <td>1 Year</td>\n",
              "    </tr>\n",
              "    <tr>\n",
              "      <th>2</th>\n",
              "      <td>3501005</td>\n",
              "      <td>14211</td>\n",
              "      <td>South Glengarry</td>\n",
              "      <td>45.143726</td>\n",
              "      <td>-74.502708</td>\n",
              "      <td>2.0</td>\n",
              "      <td>1200.0</td>\n",
              "      <td>2.0</td>\n",
              "      <td>1.5</td>\n",
              "      <td>0.0</td>\n",
              "      <td>0.0</td>\n",
              "      <td>1.0</td>\n",
              "      <td>900.0</td>\n",
              "      <td>1 Year</td>\n",
              "    </tr>\n",
              "    <tr>\n",
              "      <th>3</th>\n",
              "      <td>3501005</td>\n",
              "      <td>14211</td>\n",
              "      <td>South Glengarry</td>\n",
              "      <td>45.059039</td>\n",
              "      <td>-74.558464</td>\n",
              "      <td>1.0</td>\n",
              "      <td>1695.0</td>\n",
              "      <td>1.0</td>\n",
              "      <td>1.0</td>\n",
              "      <td>1.0</td>\n",
              "      <td>1.0</td>\n",
              "      <td>1.0</td>\n",
              "      <td>850.0</td>\n",
              "      <td>1 Year</td>\n",
              "    </tr>\n",
              "    <tr>\n",
              "      <th>4</th>\n",
              "      <td>3501005</td>\n",
              "      <td>14211</td>\n",
              "      <td>South Glengarry</td>\n",
              "      <td>45.135981</td>\n",
              "      <td>-74.619588</td>\n",
              "      <td>1.0</td>\n",
              "      <td>1095.0</td>\n",
              "      <td>1.0</td>\n",
              "      <td>1.0</td>\n",
              "      <td>0.0</td>\n",
              "      <td>0.0</td>\n",
              "      <td>1.0</td>\n",
              "      <td>600.0</td>\n",
              "      <td>1 Year</td>\n",
              "    </tr>\n",
              "  </tbody>\n",
              "</table>\n",
              "</div>\n",
              "    <div class=\"colab-df-buttons\">\n",
              "\n",
              "  <div class=\"colab-df-container\">\n",
              "    <button class=\"colab-df-convert\" onclick=\"convertToInteractive('df-5a29cbf4-d729-4b51-a683-bf985851e7cb')\"\n",
              "            title=\"Convert this dataframe to an interactive table.\"\n",
              "            style=\"display:none;\">\n",
              "\n",
              "  <svg xmlns=\"http://www.w3.org/2000/svg\" height=\"24px\" viewBox=\"0 -960 960 960\">\n",
              "    <path d=\"M120-120v-720h720v720H120Zm60-500h600v-160H180v160Zm220 220h160v-160H400v160Zm0 220h160v-160H400v160ZM180-400h160v-160H180v160Zm440 0h160v-160H620v160ZM180-180h160v-160H180v160Zm440 0h160v-160H620v160Z\"/>\n",
              "  </svg>\n",
              "    </button>\n",
              "\n",
              "  <style>\n",
              "    .colab-df-container {\n",
              "      display:flex;\n",
              "      gap: 12px;\n",
              "    }\n",
              "\n",
              "    .colab-df-convert {\n",
              "      background-color: #E8F0FE;\n",
              "      border: none;\n",
              "      border-radius: 50%;\n",
              "      cursor: pointer;\n",
              "      display: none;\n",
              "      fill: #1967D2;\n",
              "      height: 32px;\n",
              "      padding: 0 0 0 0;\n",
              "      width: 32px;\n",
              "    }\n",
              "\n",
              "    .colab-df-convert:hover {\n",
              "      background-color: #E2EBFA;\n",
              "      box-shadow: 0px 1px 2px rgba(60, 64, 67, 0.3), 0px 1px 3px 1px rgba(60, 64, 67, 0.15);\n",
              "      fill: #174EA6;\n",
              "    }\n",
              "\n",
              "    .colab-df-buttons div {\n",
              "      margin-bottom: 4px;\n",
              "    }\n",
              "\n",
              "    [theme=dark] .colab-df-convert {\n",
              "      background-color: #3B4455;\n",
              "      fill: #D2E3FC;\n",
              "    }\n",
              "\n",
              "    [theme=dark] .colab-df-convert:hover {\n",
              "      background-color: #434B5C;\n",
              "      box-shadow: 0px 1px 3px 1px rgba(0, 0, 0, 0.15);\n",
              "      filter: drop-shadow(0px 1px 2px rgba(0, 0, 0, 0.3));\n",
              "      fill: #FFFFFF;\n",
              "    }\n",
              "  </style>\n",
              "\n",
              "    <script>\n",
              "      const buttonEl =\n",
              "        document.querySelector('#df-5a29cbf4-d729-4b51-a683-bf985851e7cb button.colab-df-convert');\n",
              "      buttonEl.style.display =\n",
              "        google.colab.kernel.accessAllowed ? 'block' : 'none';\n",
              "\n",
              "      async function convertToInteractive(key) {\n",
              "        const element = document.querySelector('#df-5a29cbf4-d729-4b51-a683-bf985851e7cb');\n",
              "        const dataTable =\n",
              "          await google.colab.kernel.invokeFunction('convertToInteractive',\n",
              "                                                    [key], {});\n",
              "        if (!dataTable) return;\n",
              "\n",
              "        const docLinkHtml = 'Like what you see? Visit the ' +\n",
              "          '<a target=\"_blank\" href=https://colab.research.google.com/notebooks/data_table.ipynb>data table notebook</a>'\n",
              "          + ' to learn more about interactive tables.';\n",
              "        element.innerHTML = '';\n",
              "        dataTable['output_type'] = 'display_data';\n",
              "        await google.colab.output.renderOutput(dataTable, element);\n",
              "        const docLink = document.createElement('div');\n",
              "        docLink.innerHTML = docLinkHtml;\n",
              "        element.appendChild(docLink);\n",
              "      }\n",
              "    </script>\n",
              "  </div>\n",
              "\n",
              "\n",
              "<div id=\"df-ed30e444-88b0-43a2-b463-f35236171f35\">\n",
              "  <button class=\"colab-df-quickchart\" onclick=\"quickchart('df-ed30e444-88b0-43a2-b463-f35236171f35')\"\n",
              "            title=\"Suggest charts\"\n",
              "            style=\"display:none;\">\n",
              "\n",
              "<svg xmlns=\"http://www.w3.org/2000/svg\" height=\"24px\"viewBox=\"0 0 24 24\"\n",
              "     width=\"24px\">\n",
              "    <g>\n",
              "        <path d=\"M19 3H5c-1.1 0-2 .9-2 2v14c0 1.1.9 2 2 2h14c1.1 0 2-.9 2-2V5c0-1.1-.9-2-2-2zM9 17H7v-7h2v7zm4 0h-2V7h2v10zm4 0h-2v-4h2v4z\"/>\n",
              "    </g>\n",
              "</svg>\n",
              "  </button>\n",
              "\n",
              "<style>\n",
              "  .colab-df-quickchart {\n",
              "      --bg-color: #E8F0FE;\n",
              "      --fill-color: #1967D2;\n",
              "      --hover-bg-color: #E2EBFA;\n",
              "      --hover-fill-color: #174EA6;\n",
              "      --disabled-fill-color: #AAA;\n",
              "      --disabled-bg-color: #DDD;\n",
              "  }\n",
              "\n",
              "  [theme=dark] .colab-df-quickchart {\n",
              "      --bg-color: #3B4455;\n",
              "      --fill-color: #D2E3FC;\n",
              "      --hover-bg-color: #434B5C;\n",
              "      --hover-fill-color: #FFFFFF;\n",
              "      --disabled-bg-color: #3B4455;\n",
              "      --disabled-fill-color: #666;\n",
              "  }\n",
              "\n",
              "  .colab-df-quickchart {\n",
              "    background-color: var(--bg-color);\n",
              "    border: none;\n",
              "    border-radius: 50%;\n",
              "    cursor: pointer;\n",
              "    display: none;\n",
              "    fill: var(--fill-color);\n",
              "    height: 32px;\n",
              "    padding: 0;\n",
              "    width: 32px;\n",
              "  }\n",
              "\n",
              "  .colab-df-quickchart:hover {\n",
              "    background-color: var(--hover-bg-color);\n",
              "    box-shadow: 0 1px 2px rgba(60, 64, 67, 0.3), 0 1px 3px 1px rgba(60, 64, 67, 0.15);\n",
              "    fill: var(--button-hover-fill-color);\n",
              "  }\n",
              "\n",
              "  .colab-df-quickchart-complete:disabled,\n",
              "  .colab-df-quickchart-complete:disabled:hover {\n",
              "    background-color: var(--disabled-bg-color);\n",
              "    fill: var(--disabled-fill-color);\n",
              "    box-shadow: none;\n",
              "  }\n",
              "\n",
              "  .colab-df-spinner {\n",
              "    border: 2px solid var(--fill-color);\n",
              "    border-color: transparent;\n",
              "    border-bottom-color: var(--fill-color);\n",
              "    animation:\n",
              "      spin 1s steps(1) infinite;\n",
              "  }\n",
              "\n",
              "  @keyframes spin {\n",
              "    0% {\n",
              "      border-color: transparent;\n",
              "      border-bottom-color: var(--fill-color);\n",
              "      border-left-color: var(--fill-color);\n",
              "    }\n",
              "    20% {\n",
              "      border-color: transparent;\n",
              "      border-left-color: var(--fill-color);\n",
              "      border-top-color: var(--fill-color);\n",
              "    }\n",
              "    30% {\n",
              "      border-color: transparent;\n",
              "      border-left-color: var(--fill-color);\n",
              "      border-top-color: var(--fill-color);\n",
              "      border-right-color: var(--fill-color);\n",
              "    }\n",
              "    40% {\n",
              "      border-color: transparent;\n",
              "      border-right-color: var(--fill-color);\n",
              "      border-top-color: var(--fill-color);\n",
              "    }\n",
              "    60% {\n",
              "      border-color: transparent;\n",
              "      border-right-color: var(--fill-color);\n",
              "    }\n",
              "    80% {\n",
              "      border-color: transparent;\n",
              "      border-right-color: var(--fill-color);\n",
              "      border-bottom-color: var(--fill-color);\n",
              "    }\n",
              "    90% {\n",
              "      border-color: transparent;\n",
              "      border-bottom-color: var(--fill-color);\n",
              "    }\n",
              "  }\n",
              "</style>\n",
              "\n",
              "  <script>\n",
              "    async function quickchart(key) {\n",
              "      const quickchartButtonEl =\n",
              "        document.querySelector('#' + key + ' button');\n",
              "      quickchartButtonEl.disabled = true;  // To prevent multiple clicks.\n",
              "      quickchartButtonEl.classList.add('colab-df-spinner');\n",
              "      try {\n",
              "        const charts = await google.colab.kernel.invokeFunction(\n",
              "            'suggestCharts', [key], {});\n",
              "      } catch (error) {\n",
              "        console.error('Error during call to suggestCharts:', error);\n",
              "      }\n",
              "      quickchartButtonEl.classList.remove('colab-df-spinner');\n",
              "      quickchartButtonEl.classList.add('colab-df-quickchart-complete');\n",
              "    }\n",
              "    (() => {\n",
              "      let quickchartButtonEl =\n",
              "        document.querySelector('#df-ed30e444-88b0-43a2-b463-f35236171f35 button');\n",
              "      quickchartButtonEl.style.display =\n",
              "        google.colab.kernel.accessAllowed ? 'block' : 'none';\n",
              "    })();\n",
              "  </script>\n",
              "</div>\n",
              "\n",
              "    </div>\n",
              "  </div>\n"
            ],
            "text/plain": [
              "    CSDUID  Population          CSDNAME   Latitude  Longitude  Type   Price  \\\n",
              "0  3501005       14211  South Glengarry  45.256161 -74.595385   1.0  1425.0   \n",
              "1  3501005       14211  South Glengarry  45.192003 -74.374604   1.0  1100.0   \n",
              "2  3501005       14211  South Glengarry  45.143726 -74.502708   2.0  1200.0   \n",
              "3  3501005       14211  South Glengarry  45.059039 -74.558464   1.0  1695.0   \n",
              "4  3501005       14211  South Glengarry  45.135981 -74.619588   1.0  1095.0   \n",
              "\n",
              "   Bedrooms  Bathrooms  Hydro  Heat  Water   Size Agreement Type  \n",
              "0       2.0        1.0    0.0   1.0    1.0  950.0         1 Year  \n",
              "1       2.0        1.0    0.0   0.0    1.0  780.0         1 Year  \n",
              "2       2.0        1.5    0.0   0.0    1.0  900.0         1 Year  \n",
              "3       1.0        1.0    1.0   1.0    1.0  850.0         1 Year  \n",
              "4       1.0        1.0    0.0   0.0    1.0  600.0         1 Year  "
            ]
          },
          "execution_count": 81,
          "metadata": {},
          "output_type": "execute_result"
        }
      ],
      "source": [
        "data.head()"
      ]
    },
    {
      "cell_type": "markdown",
      "metadata": {
        "id": "PUFgj44dgJsg"
      },
      "source": [
        "# Modelling"
      ]
    },
    {
      "cell_type": "markdown",
      "metadata": {
        "id": "voUDOV8O1CCO"
      },
      "source": [
        "# Solution 1: Predicting Price"
      ]
    },
    {
      "cell_type": "markdown",
      "metadata": {
        "id": "JePrOAAmNQ6E"
      },
      "source": [
        "To begin with regression for price prediction, we'll follow these steps:\n",
        "\n",
        "1.  **Feature Selection**: Identify which features from the dataset will be used to predict the price. Typically, this includes numerical features like bedrooms, bathrooms, size, and categorical features like property type.\n",
        "    \n",
        "2.  **Preprocessing**: Handle categorical features by converting them into a format suitable for regression (e.g., one-hot encoding). Also, ensure that the data is scaled appropriately.\n",
        "    \n",
        "3.  **Model Selection**: Choose a regression model. Common choices include linear regression, ridge regression, lasso regression, or more complex models like random forests or gradient boosting machines, depending on the complexity of the dataset.\n",
        "    \n",
        "4.  **Model Training**: Train the model on the dataset.\n",
        "    \n",
        "5.  **Evaluation**: Evaluate the model's performance using appropriate metrics like Mean Absolute Error (MAE), Mean Squared Error (MSE), or R-squared."
      ]
    },
    {
      "cell_type": "code",
      "execution_count": null,
      "metadata": {
        "colab": {
          "base_uri": "https://localhost:8080/"
        },
        "id": "qVmv3oAXWPnM",
        "outputId": "f09b42f1-e000-490d-f82a-7972250c62e5"
      },
      "outputs": [
        {
          "data": {
            "text/plain": [
              "CSDUID              int64\n",
              "Population          int64\n",
              "CSDNAME            object\n",
              "Latitude          float64\n",
              "Longitude         float64\n",
              "Type              float64\n",
              "Price             float64\n",
              "Bedrooms          float64\n",
              "Bathrooms         float64\n",
              "Hydro             float64\n",
              "Heat              float64\n",
              "Water             float64\n",
              "Size              float64\n",
              "Agreement Type     object\n",
              "dtype: object"
            ]
          },
          "execution_count": 82,
          "metadata": {},
          "output_type": "execute_result"
        }
      ],
      "source": [
        "data.dtypes"
      ]
    },
    {
      "cell_type": "markdown",
      "metadata": {
        "id": "O0MmIba9rlVT"
      },
      "source": [
        "##  Import Necessary Libraries"
      ]
    },
    {
      "cell_type": "code",
      "execution_count": null,
      "metadata": {
        "id": "5hhlsl1ZVpOt"
      },
      "outputs": [],
      "source": [
        "# Import ColumnTransformer for applying different preprocessing steps to different feature types.\n",
        "# Import Pipeline to create a sequential data processing pipeline.\n",
        "# Import train_test_split for splitting data into training and testing sets.\n",
        "from sklearn.model_selection import train_test_split\n",
        "from sklearn.linear_model import LinearRegression\n",
        "from sklearn.metrics import mean_squared_error, r2_score\n",
        "from sklearn.preprocessing import OneHotEncoder, StandardScaler\n",
        "from sklearn.compose import ColumnTransformer\n",
        "from sklearn.pipeline import Pipeline\n",
        "from sklearn.impute import SimpleImputer\n",
        "\n"
      ]
    },
    {
      "cell_type": "code",
      "execution_count": null,
      "metadata": {
        "colab": {
          "base_uri": "https://localhost:8080/",
          "height": 206
        },
        "id": "ahy1OPo1zl60",
        "outputId": "9c7b21e1-ae1e-43e8-f4ca-a9127db27ed4"
      },
      "outputs": [
        {
          "data": {
            "application/vnd.google.colaboratory.intrinsic+json": {
              "summary": "{\n  \"name\": \"data\",\n  \"rows\": 10550,\n  \"fields\": [\n    {\n      \"column\": \"CSDUID\",\n      \"properties\": {\n        \"dtype\": \"number\",\n        \"std\": 10732,\n        \"min\": 3501005,\n        \"max\": 3560010,\n        \"num_unique_values\": 214,\n        \"samples\": [\n          3502025,\n          3549066,\n          3519070\n        ],\n        \"semantic_type\": \"\",\n        \"description\": \"\"\n      }\n    },\n    {\n      \"column\": \"Population\",\n      \"properties\": {\n        \"dtype\": \"number\",\n        \"std\": 1276741,\n        \"min\": 1055,\n        \"max\": 3025647,\n        \"num_unique_values\": 212,\n        \"samples\": [\n          57363,\n          14179,\n          448051\n        ],\n        \"semantic_type\": \"\",\n        \"description\": \"\"\n      }\n    },\n    {\n      \"column\": \"CSDNAME\",\n      \"properties\": {\n        \"dtype\": \"category\",\n        \"num_unique_values\": 213,\n        \"samples\": [\n          \"The Nation / La Nation\",\n          \"Parry Sound, Unorganized, Centre Part\",\n          \"Georgina\"\n        ],\n        \"semantic_type\": \"\",\n        \"description\": \"\"\n      }\n    },\n    {\n      \"column\": \"Latitude\",\n      \"properties\": {\n        \"dtype\": \"number\",\n        \"std\": 0.9486719068128704,\n        \"min\": 42.0267405,\n        \"max\": 49.7991595,\n        \"num_unique_values\": 7241,\n        \"samples\": [\n          45.3523725,\n          43.6737023,\n          42.3127599\n        ],\n        \"semantic_type\": \"\",\n        \"description\": \"\"\n      }\n    },\n    {\n      \"column\": \"Longitude\",\n      \"properties\": {\n        \"dtype\": \"number\",\n        \"std\": 1.9036485128622151,\n        \"min\": -94.4883286,\n        \"max\": -74.3746039,\n        \"num_unique_values\": 6859,\n        \"samples\": [\n          -79.7906144,\n          -79.4730252,\n          -80.3662329\n        ],\n        \"semantic_type\": \"\",\n        \"description\": \"\"\n      }\n    },\n    {\n      \"column\": \"Type\",\n      \"properties\": {\n        \"dtype\": \"number\",\n        \"std\": 1.4856944451807454,\n        \"min\": 1.0,\n        \"max\": 6.0,\n        \"num_unique_values\": 6,\n        \"samples\": [\n          1.0,\n          2.0,\n          5.0\n        ],\n        \"semantic_type\": \"\",\n        \"description\": \"\"\n      }\n    },\n    {\n      \"column\": \"Price\",\n      \"properties\": {\n        \"dtype\": \"number\",\n        \"std\": 545.9722971038307,\n        \"min\": 287.0,\n        \"max\": 6000.0,\n        \"num_unique_values\": 827,\n        \"samples\": [\n          2650.0,\n          1570.0,\n          1705.0\n        ],\n        \"semantic_type\": \"\",\n        \"description\": \"\"\n      }\n    },\n    {\n      \"column\": \"Bedrooms\",\n      \"properties\": {\n        \"dtype\": \"number\",\n        \"std\": 0.6195076426424179,\n        \"min\": 0.5,\n        \"max\": 5.0,\n        \"num_unique_values\": 10,\n        \"samples\": [\n          4.5,\n          1.0,\n          2.5\n        ],\n        \"semantic_type\": \"\",\n        \"description\": \"\"\n      }\n    },\n    {\n      \"column\": \"Bathrooms\",\n      \"properties\": {\n        \"dtype\": \"number\",\n        \"std\": 0.31362468129073445,\n        \"min\": 1.0,\n        \"max\": 4.0,\n        \"num_unique_values\": 7,\n        \"samples\": [\n          1.0,\n          1.5,\n          4.0\n        ],\n        \"semantic_type\": \"\",\n        \"description\": \"\"\n      }\n    },\n    {\n      \"column\": \"Hydro\",\n      \"properties\": {\n        \"dtype\": \"number\",\n        \"std\": 0.46494243313586636,\n        \"min\": 0.0,\n        \"max\": 1.0,\n        \"num_unique_values\": 2,\n        \"samples\": [\n          1.0,\n          0.0\n        ],\n        \"semantic_type\": \"\",\n        \"description\": \"\"\n      }\n    },\n    {\n      \"column\": \"Heat\",\n      \"properties\": {\n        \"dtype\": \"number\",\n        \"std\": 0.4742090993243944,\n        \"min\": 0.0,\n        \"max\": 1.0,\n        \"num_unique_values\": 2,\n        \"samples\": [\n          0.0,\n          1.0\n        ],\n        \"semantic_type\": \"\",\n        \"description\": \"\"\n      }\n    },\n    {\n      \"column\": \"Water\",\n      \"properties\": {\n        \"dtype\": \"number\",\n        \"std\": 0.4492057518654327,\n        \"min\": 0.0,\n        \"max\": 1.0,\n        \"num_unique_values\": 2,\n        \"samples\": [\n          0.0,\n          1.0\n        ],\n        \"semantic_type\": \"\",\n        \"description\": \"\"\n      }\n    },\n    {\n      \"column\": \"Size\",\n      \"properties\": {\n        \"dtype\": \"number\",\n        \"std\": 154.91960439360105,\n        \"min\": 303.0,\n        \"max\": 999.0,\n        \"num_unique_values\": 628,\n        \"samples\": [\n          822.0,\n          509.0\n        ],\n        \"semantic_type\": \"\",\n        \"description\": \"\"\n      }\n    },\n    {\n      \"column\": \"Agreement Type\",\n      \"properties\": {\n        \"dtype\": \"category\",\n        \"num_unique_values\": 3,\n        \"samples\": [\n          \"1 Year\",\n          \"Month-to-month\"\n        ],\n        \"semantic_type\": \"\",\n        \"description\": \"\"\n      }\n    }\n  ]\n}",
              "type": "dataframe",
              "variable_name": "data"
            },
            "text/html": [
              "\n",
              "  <div id=\"df-907fe21e-6611-4442-bb6e-adfd0b4602ca\" class=\"colab-df-container\">\n",
              "    <div>\n",
              "<style scoped>\n",
              "    .dataframe tbody tr th:only-of-type {\n",
              "        vertical-align: middle;\n",
              "    }\n",
              "\n",
              "    .dataframe tbody tr th {\n",
              "        vertical-align: top;\n",
              "    }\n",
              "\n",
              "    .dataframe thead th {\n",
              "        text-align: right;\n",
              "    }\n",
              "</style>\n",
              "<table border=\"1\" class=\"dataframe\">\n",
              "  <thead>\n",
              "    <tr style=\"text-align: right;\">\n",
              "      <th></th>\n",
              "      <th>CSDUID</th>\n",
              "      <th>Population</th>\n",
              "      <th>CSDNAME</th>\n",
              "      <th>Latitude</th>\n",
              "      <th>Longitude</th>\n",
              "      <th>Type</th>\n",
              "      <th>Price</th>\n",
              "      <th>Bedrooms</th>\n",
              "      <th>Bathrooms</th>\n",
              "      <th>Hydro</th>\n",
              "      <th>Heat</th>\n",
              "      <th>Water</th>\n",
              "      <th>Size</th>\n",
              "      <th>Agreement Type</th>\n",
              "    </tr>\n",
              "  </thead>\n",
              "  <tbody>\n",
              "    <tr>\n",
              "      <th>0</th>\n",
              "      <td>3501005</td>\n",
              "      <td>14211</td>\n",
              "      <td>South Glengarry</td>\n",
              "      <td>45.256161</td>\n",
              "      <td>-74.595385</td>\n",
              "      <td>1.0</td>\n",
              "      <td>1425.0</td>\n",
              "      <td>2.0</td>\n",
              "      <td>1.0</td>\n",
              "      <td>0.0</td>\n",
              "      <td>1.0</td>\n",
              "      <td>1.0</td>\n",
              "      <td>950.0</td>\n",
              "      <td>1 Year</td>\n",
              "    </tr>\n",
              "    <tr>\n",
              "      <th>1</th>\n",
              "      <td>3501005</td>\n",
              "      <td>14211</td>\n",
              "      <td>South Glengarry</td>\n",
              "      <td>45.192003</td>\n",
              "      <td>-74.374604</td>\n",
              "      <td>1.0</td>\n",
              "      <td>1100.0</td>\n",
              "      <td>2.0</td>\n",
              "      <td>1.0</td>\n",
              "      <td>0.0</td>\n",
              "      <td>0.0</td>\n",
              "      <td>1.0</td>\n",
              "      <td>780.0</td>\n",
              "      <td>1 Year</td>\n",
              "    </tr>\n",
              "    <tr>\n",
              "      <th>2</th>\n",
              "      <td>3501005</td>\n",
              "      <td>14211</td>\n",
              "      <td>South Glengarry</td>\n",
              "      <td>45.143726</td>\n",
              "      <td>-74.502708</td>\n",
              "      <td>2.0</td>\n",
              "      <td>1200.0</td>\n",
              "      <td>2.0</td>\n",
              "      <td>1.5</td>\n",
              "      <td>0.0</td>\n",
              "      <td>0.0</td>\n",
              "      <td>1.0</td>\n",
              "      <td>900.0</td>\n",
              "      <td>1 Year</td>\n",
              "    </tr>\n",
              "    <tr>\n",
              "      <th>3</th>\n",
              "      <td>3501005</td>\n",
              "      <td>14211</td>\n",
              "      <td>South Glengarry</td>\n",
              "      <td>45.059039</td>\n",
              "      <td>-74.558464</td>\n",
              "      <td>1.0</td>\n",
              "      <td>1695.0</td>\n",
              "      <td>1.0</td>\n",
              "      <td>1.0</td>\n",
              "      <td>1.0</td>\n",
              "      <td>1.0</td>\n",
              "      <td>1.0</td>\n",
              "      <td>850.0</td>\n",
              "      <td>1 Year</td>\n",
              "    </tr>\n",
              "    <tr>\n",
              "      <th>4</th>\n",
              "      <td>3501005</td>\n",
              "      <td>14211</td>\n",
              "      <td>South Glengarry</td>\n",
              "      <td>45.135981</td>\n",
              "      <td>-74.619588</td>\n",
              "      <td>1.0</td>\n",
              "      <td>1095.0</td>\n",
              "      <td>1.0</td>\n",
              "      <td>1.0</td>\n",
              "      <td>0.0</td>\n",
              "      <td>0.0</td>\n",
              "      <td>1.0</td>\n",
              "      <td>600.0</td>\n",
              "      <td>1 Year</td>\n",
              "    </tr>\n",
              "  </tbody>\n",
              "</table>\n",
              "</div>\n",
              "    <div class=\"colab-df-buttons\">\n",
              "\n",
              "  <div class=\"colab-df-container\">\n",
              "    <button class=\"colab-df-convert\" onclick=\"convertToInteractive('df-907fe21e-6611-4442-bb6e-adfd0b4602ca')\"\n",
              "            title=\"Convert this dataframe to an interactive table.\"\n",
              "            style=\"display:none;\">\n",
              "\n",
              "  <svg xmlns=\"http://www.w3.org/2000/svg\" height=\"24px\" viewBox=\"0 -960 960 960\">\n",
              "    <path d=\"M120-120v-720h720v720H120Zm60-500h600v-160H180v160Zm220 220h160v-160H400v160Zm0 220h160v-160H400v160ZM180-400h160v-160H180v160Zm440 0h160v-160H620v160ZM180-180h160v-160H180v160Zm440 0h160v-160H620v160Z\"/>\n",
              "  </svg>\n",
              "    </button>\n",
              "\n",
              "  <style>\n",
              "    .colab-df-container {\n",
              "      display:flex;\n",
              "      gap: 12px;\n",
              "    }\n",
              "\n",
              "    .colab-df-convert {\n",
              "      background-color: #E8F0FE;\n",
              "      border: none;\n",
              "      border-radius: 50%;\n",
              "      cursor: pointer;\n",
              "      display: none;\n",
              "      fill: #1967D2;\n",
              "      height: 32px;\n",
              "      padding: 0 0 0 0;\n",
              "      width: 32px;\n",
              "    }\n",
              "\n",
              "    .colab-df-convert:hover {\n",
              "      background-color: #E2EBFA;\n",
              "      box-shadow: 0px 1px 2px rgba(60, 64, 67, 0.3), 0px 1px 3px 1px rgba(60, 64, 67, 0.15);\n",
              "      fill: #174EA6;\n",
              "    }\n",
              "\n",
              "    .colab-df-buttons div {\n",
              "      margin-bottom: 4px;\n",
              "    }\n",
              "\n",
              "    [theme=dark] .colab-df-convert {\n",
              "      background-color: #3B4455;\n",
              "      fill: #D2E3FC;\n",
              "    }\n",
              "\n",
              "    [theme=dark] .colab-df-convert:hover {\n",
              "      background-color: #434B5C;\n",
              "      box-shadow: 0px 1px 3px 1px rgba(0, 0, 0, 0.15);\n",
              "      filter: drop-shadow(0px 1px 2px rgba(0, 0, 0, 0.3));\n",
              "      fill: #FFFFFF;\n",
              "    }\n",
              "  </style>\n",
              "\n",
              "    <script>\n",
              "      const buttonEl =\n",
              "        document.querySelector('#df-907fe21e-6611-4442-bb6e-adfd0b4602ca button.colab-df-convert');\n",
              "      buttonEl.style.display =\n",
              "        google.colab.kernel.accessAllowed ? 'block' : 'none';\n",
              "\n",
              "      async function convertToInteractive(key) {\n",
              "        const element = document.querySelector('#df-907fe21e-6611-4442-bb6e-adfd0b4602ca');\n",
              "        const dataTable =\n",
              "          await google.colab.kernel.invokeFunction('convertToInteractive',\n",
              "                                                    [key], {});\n",
              "        if (!dataTable) return;\n",
              "\n",
              "        const docLinkHtml = 'Like what you see? Visit the ' +\n",
              "          '<a target=\"_blank\" href=https://colab.research.google.com/notebooks/data_table.ipynb>data table notebook</a>'\n",
              "          + ' to learn more about interactive tables.';\n",
              "        element.innerHTML = '';\n",
              "        dataTable['output_type'] = 'display_data';\n",
              "        await google.colab.output.renderOutput(dataTable, element);\n",
              "        const docLink = document.createElement('div');\n",
              "        docLink.innerHTML = docLinkHtml;\n",
              "        element.appendChild(docLink);\n",
              "      }\n",
              "    </script>\n",
              "  </div>\n",
              "\n",
              "\n",
              "<div id=\"df-15c1e79f-bdbf-4f66-ab87-dfbaa0bc78da\">\n",
              "  <button class=\"colab-df-quickchart\" onclick=\"quickchart('df-15c1e79f-bdbf-4f66-ab87-dfbaa0bc78da')\"\n",
              "            title=\"Suggest charts\"\n",
              "            style=\"display:none;\">\n",
              "\n",
              "<svg xmlns=\"http://www.w3.org/2000/svg\" height=\"24px\"viewBox=\"0 0 24 24\"\n",
              "     width=\"24px\">\n",
              "    <g>\n",
              "        <path d=\"M19 3H5c-1.1 0-2 .9-2 2v14c0 1.1.9 2 2 2h14c1.1 0 2-.9 2-2V5c0-1.1-.9-2-2-2zM9 17H7v-7h2v7zm4 0h-2V7h2v10zm4 0h-2v-4h2v4z\"/>\n",
              "    </g>\n",
              "</svg>\n",
              "  </button>\n",
              "\n",
              "<style>\n",
              "  .colab-df-quickchart {\n",
              "      --bg-color: #E8F0FE;\n",
              "      --fill-color: #1967D2;\n",
              "      --hover-bg-color: #E2EBFA;\n",
              "      --hover-fill-color: #174EA6;\n",
              "      --disabled-fill-color: #AAA;\n",
              "      --disabled-bg-color: #DDD;\n",
              "  }\n",
              "\n",
              "  [theme=dark] .colab-df-quickchart {\n",
              "      --bg-color: #3B4455;\n",
              "      --fill-color: #D2E3FC;\n",
              "      --hover-bg-color: #434B5C;\n",
              "      --hover-fill-color: #FFFFFF;\n",
              "      --disabled-bg-color: #3B4455;\n",
              "      --disabled-fill-color: #666;\n",
              "  }\n",
              "\n",
              "  .colab-df-quickchart {\n",
              "    background-color: var(--bg-color);\n",
              "    border: none;\n",
              "    border-radius: 50%;\n",
              "    cursor: pointer;\n",
              "    display: none;\n",
              "    fill: var(--fill-color);\n",
              "    height: 32px;\n",
              "    padding: 0;\n",
              "    width: 32px;\n",
              "  }\n",
              "\n",
              "  .colab-df-quickchart:hover {\n",
              "    background-color: var(--hover-bg-color);\n",
              "    box-shadow: 0 1px 2px rgba(60, 64, 67, 0.3), 0 1px 3px 1px rgba(60, 64, 67, 0.15);\n",
              "    fill: var(--button-hover-fill-color);\n",
              "  }\n",
              "\n",
              "  .colab-df-quickchart-complete:disabled,\n",
              "  .colab-df-quickchart-complete:disabled:hover {\n",
              "    background-color: var(--disabled-bg-color);\n",
              "    fill: var(--disabled-fill-color);\n",
              "    box-shadow: none;\n",
              "  }\n",
              "\n",
              "  .colab-df-spinner {\n",
              "    border: 2px solid var(--fill-color);\n",
              "    border-color: transparent;\n",
              "    border-bottom-color: var(--fill-color);\n",
              "    animation:\n",
              "      spin 1s steps(1) infinite;\n",
              "  }\n",
              "\n",
              "  @keyframes spin {\n",
              "    0% {\n",
              "      border-color: transparent;\n",
              "      border-bottom-color: var(--fill-color);\n",
              "      border-left-color: var(--fill-color);\n",
              "    }\n",
              "    20% {\n",
              "      border-color: transparent;\n",
              "      border-left-color: var(--fill-color);\n",
              "      border-top-color: var(--fill-color);\n",
              "    }\n",
              "    30% {\n",
              "      border-color: transparent;\n",
              "      border-left-color: var(--fill-color);\n",
              "      border-top-color: var(--fill-color);\n",
              "      border-right-color: var(--fill-color);\n",
              "    }\n",
              "    40% {\n",
              "      border-color: transparent;\n",
              "      border-right-color: var(--fill-color);\n",
              "      border-top-color: var(--fill-color);\n",
              "    }\n",
              "    60% {\n",
              "      border-color: transparent;\n",
              "      border-right-color: var(--fill-color);\n",
              "    }\n",
              "    80% {\n",
              "      border-color: transparent;\n",
              "      border-right-color: var(--fill-color);\n",
              "      border-bottom-color: var(--fill-color);\n",
              "    }\n",
              "    90% {\n",
              "      border-color: transparent;\n",
              "      border-bottom-color: var(--fill-color);\n",
              "    }\n",
              "  }\n",
              "</style>\n",
              "\n",
              "  <script>\n",
              "    async function quickchart(key) {\n",
              "      const quickchartButtonEl =\n",
              "        document.querySelector('#' + key + ' button');\n",
              "      quickchartButtonEl.disabled = true;  // To prevent multiple clicks.\n",
              "      quickchartButtonEl.classList.add('colab-df-spinner');\n",
              "      try {\n",
              "        const charts = await google.colab.kernel.invokeFunction(\n",
              "            'suggestCharts', [key], {});\n",
              "      } catch (error) {\n",
              "        console.error('Error during call to suggestCharts:', error);\n",
              "      }\n",
              "      quickchartButtonEl.classList.remove('colab-df-spinner');\n",
              "      quickchartButtonEl.classList.add('colab-df-quickchart-complete');\n",
              "    }\n",
              "    (() => {\n",
              "      let quickchartButtonEl =\n",
              "        document.querySelector('#df-15c1e79f-bdbf-4f66-ab87-dfbaa0bc78da button');\n",
              "      quickchartButtonEl.style.display =\n",
              "        google.colab.kernel.accessAllowed ? 'block' : 'none';\n",
              "    })();\n",
              "  </script>\n",
              "</div>\n",
              "\n",
              "    </div>\n",
              "  </div>\n"
            ],
            "text/plain": [
              "    CSDUID  Population          CSDNAME   Latitude  Longitude  Type   Price  \\\n",
              "0  3501005       14211  South Glengarry  45.256161 -74.595385   1.0  1425.0   \n",
              "1  3501005       14211  South Glengarry  45.192003 -74.374604   1.0  1100.0   \n",
              "2  3501005       14211  South Glengarry  45.143726 -74.502708   2.0  1200.0   \n",
              "3  3501005       14211  South Glengarry  45.059039 -74.558464   1.0  1695.0   \n",
              "4  3501005       14211  South Glengarry  45.135981 -74.619588   1.0  1095.0   \n",
              "\n",
              "   Bedrooms  Bathrooms  Hydro  Heat  Water   Size Agreement Type  \n",
              "0       2.0        1.0    0.0   1.0    1.0  950.0         1 Year  \n",
              "1       2.0        1.0    0.0   0.0    1.0  780.0         1 Year  \n",
              "2       2.0        1.5    0.0   0.0    1.0  900.0         1 Year  \n",
              "3       1.0        1.0    1.0   1.0    1.0  850.0         1 Year  \n",
              "4       1.0        1.0    0.0   0.0    1.0  600.0         1 Year  "
            ]
          },
          "execution_count": 84,
          "metadata": {},
          "output_type": "execute_result"
        }
      ],
      "source": [
        "data.head()"
      ]
    },
    {
      "cell_type": "code",
      "execution_count": null,
      "metadata": {
        "colab": {
          "base_uri": "https://localhost:8080/",
          "height": 206
        },
        "id": "jjhl4XGl2RyG",
        "outputId": "ce232633-539a-4fc7-c2dc-24f85a5ddc2c"
      },
      "outputs": [
        {
          "data": {
            "application/vnd.google.colaboratory.intrinsic+json": {
              "summary": "{\n  \"name\": \"data\",\n  \"rows\": 10550,\n  \"fields\": [\n    {\n      \"column\": \"CSDUID\",\n      \"properties\": {\n        \"dtype\": \"number\",\n        \"std\": 10732,\n        \"min\": 3501005,\n        \"max\": 3560010,\n        \"num_unique_values\": 214,\n        \"samples\": [\n          3502025,\n          3549066,\n          3519070\n        ],\n        \"semantic_type\": \"\",\n        \"description\": \"\"\n      }\n    },\n    {\n      \"column\": \"Population\",\n      \"properties\": {\n        \"dtype\": \"number\",\n        \"std\": 1276741,\n        \"min\": 1055,\n        \"max\": 3025647,\n        \"num_unique_values\": 212,\n        \"samples\": [\n          57363,\n          14179,\n          448051\n        ],\n        \"semantic_type\": \"\",\n        \"description\": \"\"\n      }\n    },\n    {\n      \"column\": \"CSDNAME\",\n      \"properties\": {\n        \"dtype\": \"category\",\n        \"num_unique_values\": 213,\n        \"samples\": [\n          \"The Nation / La Nation\",\n          \"Parry Sound, Unorganized, Centre Part\",\n          \"Georgina\"\n        ],\n        \"semantic_type\": \"\",\n        \"description\": \"\"\n      }\n    },\n    {\n      \"column\": \"Latitude\",\n      \"properties\": {\n        \"dtype\": \"number\",\n        \"std\": 0.9486719068128704,\n        \"min\": 42.0267405,\n        \"max\": 49.7991595,\n        \"num_unique_values\": 7241,\n        \"samples\": [\n          45.3523725,\n          43.6737023,\n          42.3127599\n        ],\n        \"semantic_type\": \"\",\n        \"description\": \"\"\n      }\n    },\n    {\n      \"column\": \"Longitude\",\n      \"properties\": {\n        \"dtype\": \"number\",\n        \"std\": 1.9036485128622151,\n        \"min\": -94.4883286,\n        \"max\": -74.3746039,\n        \"num_unique_values\": 6859,\n        \"samples\": [\n          -79.7906144,\n          -79.4730252,\n          -80.3662329\n        ],\n        \"semantic_type\": \"\",\n        \"description\": \"\"\n      }\n    },\n    {\n      \"column\": \"Type\",\n      \"properties\": {\n        \"dtype\": \"number\",\n        \"std\": 1.4856944451807454,\n        \"min\": 1.0,\n        \"max\": 6.0,\n        \"num_unique_values\": 6,\n        \"samples\": [\n          1.0,\n          2.0,\n          5.0\n        ],\n        \"semantic_type\": \"\",\n        \"description\": \"\"\n      }\n    },\n    {\n      \"column\": \"Price\",\n      \"properties\": {\n        \"dtype\": \"number\",\n        \"std\": 545.9722971038307,\n        \"min\": 287.0,\n        \"max\": 6000.0,\n        \"num_unique_values\": 827,\n        \"samples\": [\n          2650.0,\n          1570.0,\n          1705.0\n        ],\n        \"semantic_type\": \"\",\n        \"description\": \"\"\n      }\n    },\n    {\n      \"column\": \"Bedrooms\",\n      \"properties\": {\n        \"dtype\": \"number\",\n        \"std\": 0.6195076426424179,\n        \"min\": 0.5,\n        \"max\": 5.0,\n        \"num_unique_values\": 10,\n        \"samples\": [\n          4.5,\n          1.0,\n          2.5\n        ],\n        \"semantic_type\": \"\",\n        \"description\": \"\"\n      }\n    },\n    {\n      \"column\": \"Bathrooms\",\n      \"properties\": {\n        \"dtype\": \"number\",\n        \"std\": 0.31362468129073445,\n        \"min\": 1.0,\n        \"max\": 4.0,\n        \"num_unique_values\": 7,\n        \"samples\": [\n          1.0,\n          1.5,\n          4.0\n        ],\n        \"semantic_type\": \"\",\n        \"description\": \"\"\n      }\n    },\n    {\n      \"column\": \"Hydro\",\n      \"properties\": {\n        \"dtype\": \"number\",\n        \"std\": 0.46494243313586636,\n        \"min\": 0.0,\n        \"max\": 1.0,\n        \"num_unique_values\": 2,\n        \"samples\": [\n          1.0,\n          0.0\n        ],\n        \"semantic_type\": \"\",\n        \"description\": \"\"\n      }\n    },\n    {\n      \"column\": \"Heat\",\n      \"properties\": {\n        \"dtype\": \"number\",\n        \"std\": 0.4742090993243944,\n        \"min\": 0.0,\n        \"max\": 1.0,\n        \"num_unique_values\": 2,\n        \"samples\": [\n          0.0,\n          1.0\n        ],\n        \"semantic_type\": \"\",\n        \"description\": \"\"\n      }\n    },\n    {\n      \"column\": \"Water\",\n      \"properties\": {\n        \"dtype\": \"number\",\n        \"std\": 0.4492057518654327,\n        \"min\": 0.0,\n        \"max\": 1.0,\n        \"num_unique_values\": 2,\n        \"samples\": [\n          0.0,\n          1.0\n        ],\n        \"semantic_type\": \"\",\n        \"description\": \"\"\n      }\n    },\n    {\n      \"column\": \"Size\",\n      \"properties\": {\n        \"dtype\": \"number\",\n        \"std\": 154.91960439360105,\n        \"min\": 303.0,\n        \"max\": 999.0,\n        \"num_unique_values\": 628,\n        \"samples\": [\n          822.0,\n          509.0\n        ],\n        \"semantic_type\": \"\",\n        \"description\": \"\"\n      }\n    },\n    {\n      \"column\": \"Agreement Type\",\n      \"properties\": {\n        \"dtype\": \"category\",\n        \"num_unique_values\": 3,\n        \"samples\": [\n          \"1 Year\",\n          \"Month-to-month\"\n        ],\n        \"semantic_type\": \"\",\n        \"description\": \"\"\n      }\n    }\n  ]\n}",
              "type": "dataframe",
              "variable_name": "data"
            },
            "text/html": [
              "\n",
              "  <div id=\"df-ff5e15c7-2dbe-45b4-a761-b0fbe3d6d1b3\" class=\"colab-df-container\">\n",
              "    <div>\n",
              "<style scoped>\n",
              "    .dataframe tbody tr th:only-of-type {\n",
              "        vertical-align: middle;\n",
              "    }\n",
              "\n",
              "    .dataframe tbody tr th {\n",
              "        vertical-align: top;\n",
              "    }\n",
              "\n",
              "    .dataframe thead th {\n",
              "        text-align: right;\n",
              "    }\n",
              "</style>\n",
              "<table border=\"1\" class=\"dataframe\">\n",
              "  <thead>\n",
              "    <tr style=\"text-align: right;\">\n",
              "      <th></th>\n",
              "      <th>CSDUID</th>\n",
              "      <th>Population</th>\n",
              "      <th>CSDNAME</th>\n",
              "      <th>Latitude</th>\n",
              "      <th>Longitude</th>\n",
              "      <th>Type</th>\n",
              "      <th>Price</th>\n",
              "      <th>Bedrooms</th>\n",
              "      <th>Bathrooms</th>\n",
              "      <th>Hydro</th>\n",
              "      <th>Heat</th>\n",
              "      <th>Water</th>\n",
              "      <th>Size</th>\n",
              "      <th>Agreement Type</th>\n",
              "    </tr>\n",
              "  </thead>\n",
              "  <tbody>\n",
              "    <tr>\n",
              "      <th>0</th>\n",
              "      <td>3501005</td>\n",
              "      <td>14211</td>\n",
              "      <td>South Glengarry</td>\n",
              "      <td>45.256161</td>\n",
              "      <td>-74.595385</td>\n",
              "      <td>1.0</td>\n",
              "      <td>1425.0</td>\n",
              "      <td>2.0</td>\n",
              "      <td>1.0</td>\n",
              "      <td>0.0</td>\n",
              "      <td>1.0</td>\n",
              "      <td>1.0</td>\n",
              "      <td>950.0</td>\n",
              "      <td>1 Year</td>\n",
              "    </tr>\n",
              "    <tr>\n",
              "      <th>1</th>\n",
              "      <td>3501005</td>\n",
              "      <td>14211</td>\n",
              "      <td>South Glengarry</td>\n",
              "      <td>45.192003</td>\n",
              "      <td>-74.374604</td>\n",
              "      <td>1.0</td>\n",
              "      <td>1100.0</td>\n",
              "      <td>2.0</td>\n",
              "      <td>1.0</td>\n",
              "      <td>0.0</td>\n",
              "      <td>0.0</td>\n",
              "      <td>1.0</td>\n",
              "      <td>780.0</td>\n",
              "      <td>1 Year</td>\n",
              "    </tr>\n",
              "    <tr>\n",
              "      <th>2</th>\n",
              "      <td>3501005</td>\n",
              "      <td>14211</td>\n",
              "      <td>South Glengarry</td>\n",
              "      <td>45.143726</td>\n",
              "      <td>-74.502708</td>\n",
              "      <td>2.0</td>\n",
              "      <td>1200.0</td>\n",
              "      <td>2.0</td>\n",
              "      <td>1.5</td>\n",
              "      <td>0.0</td>\n",
              "      <td>0.0</td>\n",
              "      <td>1.0</td>\n",
              "      <td>900.0</td>\n",
              "      <td>1 Year</td>\n",
              "    </tr>\n",
              "    <tr>\n",
              "      <th>3</th>\n",
              "      <td>3501005</td>\n",
              "      <td>14211</td>\n",
              "      <td>South Glengarry</td>\n",
              "      <td>45.059039</td>\n",
              "      <td>-74.558464</td>\n",
              "      <td>1.0</td>\n",
              "      <td>1695.0</td>\n",
              "      <td>1.0</td>\n",
              "      <td>1.0</td>\n",
              "      <td>1.0</td>\n",
              "      <td>1.0</td>\n",
              "      <td>1.0</td>\n",
              "      <td>850.0</td>\n",
              "      <td>1 Year</td>\n",
              "    </tr>\n",
              "    <tr>\n",
              "      <th>4</th>\n",
              "      <td>3501005</td>\n",
              "      <td>14211</td>\n",
              "      <td>South Glengarry</td>\n",
              "      <td>45.135981</td>\n",
              "      <td>-74.619588</td>\n",
              "      <td>1.0</td>\n",
              "      <td>1095.0</td>\n",
              "      <td>1.0</td>\n",
              "      <td>1.0</td>\n",
              "      <td>0.0</td>\n",
              "      <td>0.0</td>\n",
              "      <td>1.0</td>\n",
              "      <td>600.0</td>\n",
              "      <td>1 Year</td>\n",
              "    </tr>\n",
              "  </tbody>\n",
              "</table>\n",
              "</div>\n",
              "    <div class=\"colab-df-buttons\">\n",
              "\n",
              "  <div class=\"colab-df-container\">\n",
              "    <button class=\"colab-df-convert\" onclick=\"convertToInteractive('df-ff5e15c7-2dbe-45b4-a761-b0fbe3d6d1b3')\"\n",
              "            title=\"Convert this dataframe to an interactive table.\"\n",
              "            style=\"display:none;\">\n",
              "\n",
              "  <svg xmlns=\"http://www.w3.org/2000/svg\" height=\"24px\" viewBox=\"0 -960 960 960\">\n",
              "    <path d=\"M120-120v-720h720v720H120Zm60-500h600v-160H180v160Zm220 220h160v-160H400v160Zm0 220h160v-160H400v160ZM180-400h160v-160H180v160Zm440 0h160v-160H620v160ZM180-180h160v-160H180v160Zm440 0h160v-160H620v160Z\"/>\n",
              "  </svg>\n",
              "    </button>\n",
              "\n",
              "  <style>\n",
              "    .colab-df-container {\n",
              "      display:flex;\n",
              "      gap: 12px;\n",
              "    }\n",
              "\n",
              "    .colab-df-convert {\n",
              "      background-color: #E8F0FE;\n",
              "      border: none;\n",
              "      border-radius: 50%;\n",
              "      cursor: pointer;\n",
              "      display: none;\n",
              "      fill: #1967D2;\n",
              "      height: 32px;\n",
              "      padding: 0 0 0 0;\n",
              "      width: 32px;\n",
              "    }\n",
              "\n",
              "    .colab-df-convert:hover {\n",
              "      background-color: #E2EBFA;\n",
              "      box-shadow: 0px 1px 2px rgba(60, 64, 67, 0.3), 0px 1px 3px 1px rgba(60, 64, 67, 0.15);\n",
              "      fill: #174EA6;\n",
              "    }\n",
              "\n",
              "    .colab-df-buttons div {\n",
              "      margin-bottom: 4px;\n",
              "    }\n",
              "\n",
              "    [theme=dark] .colab-df-convert {\n",
              "      background-color: #3B4455;\n",
              "      fill: #D2E3FC;\n",
              "    }\n",
              "\n",
              "    [theme=dark] .colab-df-convert:hover {\n",
              "      background-color: #434B5C;\n",
              "      box-shadow: 0px 1px 3px 1px rgba(0, 0, 0, 0.15);\n",
              "      filter: drop-shadow(0px 1px 2px rgba(0, 0, 0, 0.3));\n",
              "      fill: #FFFFFF;\n",
              "    }\n",
              "  </style>\n",
              "\n",
              "    <script>\n",
              "      const buttonEl =\n",
              "        document.querySelector('#df-ff5e15c7-2dbe-45b4-a761-b0fbe3d6d1b3 button.colab-df-convert');\n",
              "      buttonEl.style.display =\n",
              "        google.colab.kernel.accessAllowed ? 'block' : 'none';\n",
              "\n",
              "      async function convertToInteractive(key) {\n",
              "        const element = document.querySelector('#df-ff5e15c7-2dbe-45b4-a761-b0fbe3d6d1b3');\n",
              "        const dataTable =\n",
              "          await google.colab.kernel.invokeFunction('convertToInteractive',\n",
              "                                                    [key], {});\n",
              "        if (!dataTable) return;\n",
              "\n",
              "        const docLinkHtml = 'Like what you see? Visit the ' +\n",
              "          '<a target=\"_blank\" href=https://colab.research.google.com/notebooks/data_table.ipynb>data table notebook</a>'\n",
              "          + ' to learn more about interactive tables.';\n",
              "        element.innerHTML = '';\n",
              "        dataTable['output_type'] = 'display_data';\n",
              "        await google.colab.output.renderOutput(dataTable, element);\n",
              "        const docLink = document.createElement('div');\n",
              "        docLink.innerHTML = docLinkHtml;\n",
              "        element.appendChild(docLink);\n",
              "      }\n",
              "    </script>\n",
              "  </div>\n",
              "\n",
              "\n",
              "<div id=\"df-964a20ac-03bf-4f54-b8a3-d561ce671431\">\n",
              "  <button class=\"colab-df-quickchart\" onclick=\"quickchart('df-964a20ac-03bf-4f54-b8a3-d561ce671431')\"\n",
              "            title=\"Suggest charts\"\n",
              "            style=\"display:none;\">\n",
              "\n",
              "<svg xmlns=\"http://www.w3.org/2000/svg\" height=\"24px\"viewBox=\"0 0 24 24\"\n",
              "     width=\"24px\">\n",
              "    <g>\n",
              "        <path d=\"M19 3H5c-1.1 0-2 .9-2 2v14c0 1.1.9 2 2 2h14c1.1 0 2-.9 2-2V5c0-1.1-.9-2-2-2zM9 17H7v-7h2v7zm4 0h-2V7h2v10zm4 0h-2v-4h2v4z\"/>\n",
              "    </g>\n",
              "</svg>\n",
              "  </button>\n",
              "\n",
              "<style>\n",
              "  .colab-df-quickchart {\n",
              "      --bg-color: #E8F0FE;\n",
              "      --fill-color: #1967D2;\n",
              "      --hover-bg-color: #E2EBFA;\n",
              "      --hover-fill-color: #174EA6;\n",
              "      --disabled-fill-color: #AAA;\n",
              "      --disabled-bg-color: #DDD;\n",
              "  }\n",
              "\n",
              "  [theme=dark] .colab-df-quickchart {\n",
              "      --bg-color: #3B4455;\n",
              "      --fill-color: #D2E3FC;\n",
              "      --hover-bg-color: #434B5C;\n",
              "      --hover-fill-color: #FFFFFF;\n",
              "      --disabled-bg-color: #3B4455;\n",
              "      --disabled-fill-color: #666;\n",
              "  }\n",
              "\n",
              "  .colab-df-quickchart {\n",
              "    background-color: var(--bg-color);\n",
              "    border: none;\n",
              "    border-radius: 50%;\n",
              "    cursor: pointer;\n",
              "    display: none;\n",
              "    fill: var(--fill-color);\n",
              "    height: 32px;\n",
              "    padding: 0;\n",
              "    width: 32px;\n",
              "  }\n",
              "\n",
              "  .colab-df-quickchart:hover {\n",
              "    background-color: var(--hover-bg-color);\n",
              "    box-shadow: 0 1px 2px rgba(60, 64, 67, 0.3), 0 1px 3px 1px rgba(60, 64, 67, 0.15);\n",
              "    fill: var(--button-hover-fill-color);\n",
              "  }\n",
              "\n",
              "  .colab-df-quickchart-complete:disabled,\n",
              "  .colab-df-quickchart-complete:disabled:hover {\n",
              "    background-color: var(--disabled-bg-color);\n",
              "    fill: var(--disabled-fill-color);\n",
              "    box-shadow: none;\n",
              "  }\n",
              "\n",
              "  .colab-df-spinner {\n",
              "    border: 2px solid var(--fill-color);\n",
              "    border-color: transparent;\n",
              "    border-bottom-color: var(--fill-color);\n",
              "    animation:\n",
              "      spin 1s steps(1) infinite;\n",
              "  }\n",
              "\n",
              "  @keyframes spin {\n",
              "    0% {\n",
              "      border-color: transparent;\n",
              "      border-bottom-color: var(--fill-color);\n",
              "      border-left-color: var(--fill-color);\n",
              "    }\n",
              "    20% {\n",
              "      border-color: transparent;\n",
              "      border-left-color: var(--fill-color);\n",
              "      border-top-color: var(--fill-color);\n",
              "    }\n",
              "    30% {\n",
              "      border-color: transparent;\n",
              "      border-left-color: var(--fill-color);\n",
              "      border-top-color: var(--fill-color);\n",
              "      border-right-color: var(--fill-color);\n",
              "    }\n",
              "    40% {\n",
              "      border-color: transparent;\n",
              "      border-right-color: var(--fill-color);\n",
              "      border-top-color: var(--fill-color);\n",
              "    }\n",
              "    60% {\n",
              "      border-color: transparent;\n",
              "      border-right-color: var(--fill-color);\n",
              "    }\n",
              "    80% {\n",
              "      border-color: transparent;\n",
              "      border-right-color: var(--fill-color);\n",
              "      border-bottom-color: var(--fill-color);\n",
              "    }\n",
              "    90% {\n",
              "      border-color: transparent;\n",
              "      border-bottom-color: var(--fill-color);\n",
              "    }\n",
              "  }\n",
              "</style>\n",
              "\n",
              "  <script>\n",
              "    async function quickchart(key) {\n",
              "      const quickchartButtonEl =\n",
              "        document.querySelector('#' + key + ' button');\n",
              "      quickchartButtonEl.disabled = true;  // To prevent multiple clicks.\n",
              "      quickchartButtonEl.classList.add('colab-df-spinner');\n",
              "      try {\n",
              "        const charts = await google.colab.kernel.invokeFunction(\n",
              "            'suggestCharts', [key], {});\n",
              "      } catch (error) {\n",
              "        console.error('Error during call to suggestCharts:', error);\n",
              "      }\n",
              "      quickchartButtonEl.classList.remove('colab-df-spinner');\n",
              "      quickchartButtonEl.classList.add('colab-df-quickchart-complete');\n",
              "    }\n",
              "    (() => {\n",
              "      let quickchartButtonEl =\n",
              "        document.querySelector('#df-964a20ac-03bf-4f54-b8a3-d561ce671431 button');\n",
              "      quickchartButtonEl.style.display =\n",
              "        google.colab.kernel.accessAllowed ? 'block' : 'none';\n",
              "    })();\n",
              "  </script>\n",
              "</div>\n",
              "\n",
              "    </div>\n",
              "  </div>\n"
            ],
            "text/plain": [
              "    CSDUID  Population          CSDNAME   Latitude  Longitude  Type   Price  \\\n",
              "0  3501005       14211  South Glengarry  45.256161 -74.595385   1.0  1425.0   \n",
              "1  3501005       14211  South Glengarry  45.192003 -74.374604   1.0  1100.0   \n",
              "2  3501005       14211  South Glengarry  45.143726 -74.502708   2.0  1200.0   \n",
              "3  3501005       14211  South Glengarry  45.059039 -74.558464   1.0  1695.0   \n",
              "4  3501005       14211  South Glengarry  45.135981 -74.619588   1.0  1095.0   \n",
              "\n",
              "   Bedrooms  Bathrooms  Hydro  Heat  Water   Size Agreement Type  \n",
              "0       2.0        1.0    0.0   1.0    1.0  950.0         1 Year  \n",
              "1       2.0        1.0    0.0   0.0    1.0  780.0         1 Year  \n",
              "2       2.0        1.5    0.0   0.0    1.0  900.0         1 Year  \n",
              "3       1.0        1.0    1.0   1.0    1.0  850.0         1 Year  \n",
              "4       1.0        1.0    0.0   0.0    1.0  600.0         1 Year  "
            ]
          },
          "execution_count": 85,
          "metadata": {},
          "output_type": "execute_result"
        }
      ],
      "source": [
        "data.head()"
      ]
    },
    {
      "cell_type": "markdown",
      "metadata": {
        "id": "Z_wTWMSOYz9i"
      },
      "source": [
        "## Feature Selection\n",
        "\n",
        "Let's drop Latitude, Longitude and Date. We can use them for a different analysis.\n"
      ]
    },
    {
      "cell_type": "markdown",
      "metadata": {
        "id": "tw5crVVpo_Lg"
      },
      "source": [
        "## Prepare Your Data"
      ]
    },
    {
      "cell_type": "code",
      "execution_count": null,
      "metadata": {
        "colab": {
          "base_uri": "https://localhost:8080/"
        },
        "id": "Iu6FUgxm9t5L",
        "outputId": "6757b164-4540-4352-f6af-525eaf91f9da"
      },
      "outputs": [
        {
          "data": {
            "text/plain": [
              "CSDUID             214\n",
              "Population         212\n",
              "CSDNAME            213\n",
              "Latitude          7241\n",
              "Longitude         6859\n",
              "Type                 6\n",
              "Price              827\n",
              "Bedrooms            10\n",
              "Bathrooms            7\n",
              "Hydro                2\n",
              "Heat                 2\n",
              "Water                2\n",
              "Size               628\n",
              "Agreement Type       3\n",
              "dtype: int64"
            ]
          },
          "execution_count": 86,
          "metadata": {},
          "output_type": "execute_result"
        }
      ],
      "source": [
        "data.nunique()"
      ]
    },
    {
      "cell_type": "code",
      "execution_count": null,
      "metadata": {
        "id": "3uOTf_eAYzbz"
      },
      "outputs": [],
      "source": [
        "columns_to_drop = ['Latitude','Longitude','Agreement Type',\"Population\",\"CSDUID\"]\n",
        "data = data.drop(columns=columns_to_drop)"
      ]
    },
    {
      "cell_type": "code",
      "execution_count": null,
      "metadata": {
        "colab": {
          "base_uri": "https://localhost:8080/",
          "height": 206
        },
        "id": "vOA-qF7DavTr",
        "outputId": "5fe74281-ef92-4f36-f143-ece63e08890d"
      },
      "outputs": [
        {
          "data": {
            "application/vnd.google.colaboratory.intrinsic+json": {
              "summary": "{\n  \"name\": \"data\",\n  \"rows\": 10550,\n  \"fields\": [\n    {\n      \"column\": \"CSDNAME\",\n      \"properties\": {\n        \"dtype\": \"category\",\n        \"num_unique_values\": 213,\n        \"samples\": [\n          \"The Nation / La Nation\",\n          \"Parry Sound, Unorganized, Centre Part\",\n          \"Georgina\"\n        ],\n        \"semantic_type\": \"\",\n        \"description\": \"\"\n      }\n    },\n    {\n      \"column\": \"Type\",\n      \"properties\": {\n        \"dtype\": \"number\",\n        \"std\": 1.4856944451807454,\n        \"min\": 1.0,\n        \"max\": 6.0,\n        \"num_unique_values\": 6,\n        \"samples\": [\n          1.0,\n          2.0,\n          5.0\n        ],\n        \"semantic_type\": \"\",\n        \"description\": \"\"\n      }\n    },\n    {\n      \"column\": \"Price\",\n      \"properties\": {\n        \"dtype\": \"number\",\n        \"std\": 545.9722971038307,\n        \"min\": 287.0,\n        \"max\": 6000.0,\n        \"num_unique_values\": 827,\n        \"samples\": [\n          2650.0,\n          1570.0,\n          1705.0\n        ],\n        \"semantic_type\": \"\",\n        \"description\": \"\"\n      }\n    },\n    {\n      \"column\": \"Bedrooms\",\n      \"properties\": {\n        \"dtype\": \"number\",\n        \"std\": 0.6195076426424179,\n        \"min\": 0.5,\n        \"max\": 5.0,\n        \"num_unique_values\": 10,\n        \"samples\": [\n          4.5,\n          1.0,\n          2.5\n        ],\n        \"semantic_type\": \"\",\n        \"description\": \"\"\n      }\n    },\n    {\n      \"column\": \"Bathrooms\",\n      \"properties\": {\n        \"dtype\": \"number\",\n        \"std\": 0.31362468129073445,\n        \"min\": 1.0,\n        \"max\": 4.0,\n        \"num_unique_values\": 7,\n        \"samples\": [\n          1.0,\n          1.5,\n          4.0\n        ],\n        \"semantic_type\": \"\",\n        \"description\": \"\"\n      }\n    },\n    {\n      \"column\": \"Hydro\",\n      \"properties\": {\n        \"dtype\": \"number\",\n        \"std\": 0.46494243313586636,\n        \"min\": 0.0,\n        \"max\": 1.0,\n        \"num_unique_values\": 2,\n        \"samples\": [\n          1.0,\n          0.0\n        ],\n        \"semantic_type\": \"\",\n        \"description\": \"\"\n      }\n    },\n    {\n      \"column\": \"Heat\",\n      \"properties\": {\n        \"dtype\": \"number\",\n        \"std\": 0.4742090993243944,\n        \"min\": 0.0,\n        \"max\": 1.0,\n        \"num_unique_values\": 2,\n        \"samples\": [\n          0.0,\n          1.0\n        ],\n        \"semantic_type\": \"\",\n        \"description\": \"\"\n      }\n    },\n    {\n      \"column\": \"Water\",\n      \"properties\": {\n        \"dtype\": \"number\",\n        \"std\": 0.4492057518654327,\n        \"min\": 0.0,\n        \"max\": 1.0,\n        \"num_unique_values\": 2,\n        \"samples\": [\n          0.0,\n          1.0\n        ],\n        \"semantic_type\": \"\",\n        \"description\": \"\"\n      }\n    },\n    {\n      \"column\": \"Size\",\n      \"properties\": {\n        \"dtype\": \"number\",\n        \"std\": 154.91960439360105,\n        \"min\": 303.0,\n        \"max\": 999.0,\n        \"num_unique_values\": 628,\n        \"samples\": [\n          822.0,\n          509.0\n        ],\n        \"semantic_type\": \"\",\n        \"description\": \"\"\n      }\n    }\n  ]\n}",
              "type": "dataframe",
              "variable_name": "data"
            },
            "text/html": [
              "\n",
              "  <div id=\"df-94cb2959-2336-45a0-9368-7c3b2db5c222\" class=\"colab-df-container\">\n",
              "    <div>\n",
              "<style scoped>\n",
              "    .dataframe tbody tr th:only-of-type {\n",
              "        vertical-align: middle;\n",
              "    }\n",
              "\n",
              "    .dataframe tbody tr th {\n",
              "        vertical-align: top;\n",
              "    }\n",
              "\n",
              "    .dataframe thead th {\n",
              "        text-align: right;\n",
              "    }\n",
              "</style>\n",
              "<table border=\"1\" class=\"dataframe\">\n",
              "  <thead>\n",
              "    <tr style=\"text-align: right;\">\n",
              "      <th></th>\n",
              "      <th>CSDNAME</th>\n",
              "      <th>Type</th>\n",
              "      <th>Price</th>\n",
              "      <th>Bedrooms</th>\n",
              "      <th>Bathrooms</th>\n",
              "      <th>Hydro</th>\n",
              "      <th>Heat</th>\n",
              "      <th>Water</th>\n",
              "      <th>Size</th>\n",
              "    </tr>\n",
              "  </thead>\n",
              "  <tbody>\n",
              "    <tr>\n",
              "      <th>0</th>\n",
              "      <td>South Glengarry</td>\n",
              "      <td>1.0</td>\n",
              "      <td>1425.0</td>\n",
              "      <td>2.0</td>\n",
              "      <td>1.0</td>\n",
              "      <td>0.0</td>\n",
              "      <td>1.0</td>\n",
              "      <td>1.0</td>\n",
              "      <td>950.0</td>\n",
              "    </tr>\n",
              "    <tr>\n",
              "      <th>1</th>\n",
              "      <td>South Glengarry</td>\n",
              "      <td>1.0</td>\n",
              "      <td>1100.0</td>\n",
              "      <td>2.0</td>\n",
              "      <td>1.0</td>\n",
              "      <td>0.0</td>\n",
              "      <td>0.0</td>\n",
              "      <td>1.0</td>\n",
              "      <td>780.0</td>\n",
              "    </tr>\n",
              "    <tr>\n",
              "      <th>2</th>\n",
              "      <td>South Glengarry</td>\n",
              "      <td>2.0</td>\n",
              "      <td>1200.0</td>\n",
              "      <td>2.0</td>\n",
              "      <td>1.5</td>\n",
              "      <td>0.0</td>\n",
              "      <td>0.0</td>\n",
              "      <td>1.0</td>\n",
              "      <td>900.0</td>\n",
              "    </tr>\n",
              "    <tr>\n",
              "      <th>3</th>\n",
              "      <td>South Glengarry</td>\n",
              "      <td>1.0</td>\n",
              "      <td>1695.0</td>\n",
              "      <td>1.0</td>\n",
              "      <td>1.0</td>\n",
              "      <td>1.0</td>\n",
              "      <td>1.0</td>\n",
              "      <td>1.0</td>\n",
              "      <td>850.0</td>\n",
              "    </tr>\n",
              "    <tr>\n",
              "      <th>4</th>\n",
              "      <td>South Glengarry</td>\n",
              "      <td>1.0</td>\n",
              "      <td>1095.0</td>\n",
              "      <td>1.0</td>\n",
              "      <td>1.0</td>\n",
              "      <td>0.0</td>\n",
              "      <td>0.0</td>\n",
              "      <td>1.0</td>\n",
              "      <td>600.0</td>\n",
              "    </tr>\n",
              "  </tbody>\n",
              "</table>\n",
              "</div>\n",
              "    <div class=\"colab-df-buttons\">\n",
              "\n",
              "  <div class=\"colab-df-container\">\n",
              "    <button class=\"colab-df-convert\" onclick=\"convertToInteractive('df-94cb2959-2336-45a0-9368-7c3b2db5c222')\"\n",
              "            title=\"Convert this dataframe to an interactive table.\"\n",
              "            style=\"display:none;\">\n",
              "\n",
              "  <svg xmlns=\"http://www.w3.org/2000/svg\" height=\"24px\" viewBox=\"0 -960 960 960\">\n",
              "    <path d=\"M120-120v-720h720v720H120Zm60-500h600v-160H180v160Zm220 220h160v-160H400v160Zm0 220h160v-160H400v160ZM180-400h160v-160H180v160Zm440 0h160v-160H620v160ZM180-180h160v-160H180v160Zm440 0h160v-160H620v160Z\"/>\n",
              "  </svg>\n",
              "    </button>\n",
              "\n",
              "  <style>\n",
              "    .colab-df-container {\n",
              "      display:flex;\n",
              "      gap: 12px;\n",
              "    }\n",
              "\n",
              "    .colab-df-convert {\n",
              "      background-color: #E8F0FE;\n",
              "      border: none;\n",
              "      border-radius: 50%;\n",
              "      cursor: pointer;\n",
              "      display: none;\n",
              "      fill: #1967D2;\n",
              "      height: 32px;\n",
              "      padding: 0 0 0 0;\n",
              "      width: 32px;\n",
              "    }\n",
              "\n",
              "    .colab-df-convert:hover {\n",
              "      background-color: #E2EBFA;\n",
              "      box-shadow: 0px 1px 2px rgba(60, 64, 67, 0.3), 0px 1px 3px 1px rgba(60, 64, 67, 0.15);\n",
              "      fill: #174EA6;\n",
              "    }\n",
              "\n",
              "    .colab-df-buttons div {\n",
              "      margin-bottom: 4px;\n",
              "    }\n",
              "\n",
              "    [theme=dark] .colab-df-convert {\n",
              "      background-color: #3B4455;\n",
              "      fill: #D2E3FC;\n",
              "    }\n",
              "\n",
              "    [theme=dark] .colab-df-convert:hover {\n",
              "      background-color: #434B5C;\n",
              "      box-shadow: 0px 1px 3px 1px rgba(0, 0, 0, 0.15);\n",
              "      filter: drop-shadow(0px 1px 2px rgba(0, 0, 0, 0.3));\n",
              "      fill: #FFFFFF;\n",
              "    }\n",
              "  </style>\n",
              "\n",
              "    <script>\n",
              "      const buttonEl =\n",
              "        document.querySelector('#df-94cb2959-2336-45a0-9368-7c3b2db5c222 button.colab-df-convert');\n",
              "      buttonEl.style.display =\n",
              "        google.colab.kernel.accessAllowed ? 'block' : 'none';\n",
              "\n",
              "      async function convertToInteractive(key) {\n",
              "        const element = document.querySelector('#df-94cb2959-2336-45a0-9368-7c3b2db5c222');\n",
              "        const dataTable =\n",
              "          await google.colab.kernel.invokeFunction('convertToInteractive',\n",
              "                                                    [key], {});\n",
              "        if (!dataTable) return;\n",
              "\n",
              "        const docLinkHtml = 'Like what you see? Visit the ' +\n",
              "          '<a target=\"_blank\" href=https://colab.research.google.com/notebooks/data_table.ipynb>data table notebook</a>'\n",
              "          + ' to learn more about interactive tables.';\n",
              "        element.innerHTML = '';\n",
              "        dataTable['output_type'] = 'display_data';\n",
              "        await google.colab.output.renderOutput(dataTable, element);\n",
              "        const docLink = document.createElement('div');\n",
              "        docLink.innerHTML = docLinkHtml;\n",
              "        element.appendChild(docLink);\n",
              "      }\n",
              "    </script>\n",
              "  </div>\n",
              "\n",
              "\n",
              "<div id=\"df-50e320ba-b9c0-4eed-93de-0120ade6ce08\">\n",
              "  <button class=\"colab-df-quickchart\" onclick=\"quickchart('df-50e320ba-b9c0-4eed-93de-0120ade6ce08')\"\n",
              "            title=\"Suggest charts\"\n",
              "            style=\"display:none;\">\n",
              "\n",
              "<svg xmlns=\"http://www.w3.org/2000/svg\" height=\"24px\"viewBox=\"0 0 24 24\"\n",
              "     width=\"24px\">\n",
              "    <g>\n",
              "        <path d=\"M19 3H5c-1.1 0-2 .9-2 2v14c0 1.1.9 2 2 2h14c1.1 0 2-.9 2-2V5c0-1.1-.9-2-2-2zM9 17H7v-7h2v7zm4 0h-2V7h2v10zm4 0h-2v-4h2v4z\"/>\n",
              "    </g>\n",
              "</svg>\n",
              "  </button>\n",
              "\n",
              "<style>\n",
              "  .colab-df-quickchart {\n",
              "      --bg-color: #E8F0FE;\n",
              "      --fill-color: #1967D2;\n",
              "      --hover-bg-color: #E2EBFA;\n",
              "      --hover-fill-color: #174EA6;\n",
              "      --disabled-fill-color: #AAA;\n",
              "      --disabled-bg-color: #DDD;\n",
              "  }\n",
              "\n",
              "  [theme=dark] .colab-df-quickchart {\n",
              "      --bg-color: #3B4455;\n",
              "      --fill-color: #D2E3FC;\n",
              "      --hover-bg-color: #434B5C;\n",
              "      --hover-fill-color: #FFFFFF;\n",
              "      --disabled-bg-color: #3B4455;\n",
              "      --disabled-fill-color: #666;\n",
              "  }\n",
              "\n",
              "  .colab-df-quickchart {\n",
              "    background-color: var(--bg-color);\n",
              "    border: none;\n",
              "    border-radius: 50%;\n",
              "    cursor: pointer;\n",
              "    display: none;\n",
              "    fill: var(--fill-color);\n",
              "    height: 32px;\n",
              "    padding: 0;\n",
              "    width: 32px;\n",
              "  }\n",
              "\n",
              "  .colab-df-quickchart:hover {\n",
              "    background-color: var(--hover-bg-color);\n",
              "    box-shadow: 0 1px 2px rgba(60, 64, 67, 0.3), 0 1px 3px 1px rgba(60, 64, 67, 0.15);\n",
              "    fill: var(--button-hover-fill-color);\n",
              "  }\n",
              "\n",
              "  .colab-df-quickchart-complete:disabled,\n",
              "  .colab-df-quickchart-complete:disabled:hover {\n",
              "    background-color: var(--disabled-bg-color);\n",
              "    fill: var(--disabled-fill-color);\n",
              "    box-shadow: none;\n",
              "  }\n",
              "\n",
              "  .colab-df-spinner {\n",
              "    border: 2px solid var(--fill-color);\n",
              "    border-color: transparent;\n",
              "    border-bottom-color: var(--fill-color);\n",
              "    animation:\n",
              "      spin 1s steps(1) infinite;\n",
              "  }\n",
              "\n",
              "  @keyframes spin {\n",
              "    0% {\n",
              "      border-color: transparent;\n",
              "      border-bottom-color: var(--fill-color);\n",
              "      border-left-color: var(--fill-color);\n",
              "    }\n",
              "    20% {\n",
              "      border-color: transparent;\n",
              "      border-left-color: var(--fill-color);\n",
              "      border-top-color: var(--fill-color);\n",
              "    }\n",
              "    30% {\n",
              "      border-color: transparent;\n",
              "      border-left-color: var(--fill-color);\n",
              "      border-top-color: var(--fill-color);\n",
              "      border-right-color: var(--fill-color);\n",
              "    }\n",
              "    40% {\n",
              "      border-color: transparent;\n",
              "      border-right-color: var(--fill-color);\n",
              "      border-top-color: var(--fill-color);\n",
              "    }\n",
              "    60% {\n",
              "      border-color: transparent;\n",
              "      border-right-color: var(--fill-color);\n",
              "    }\n",
              "    80% {\n",
              "      border-color: transparent;\n",
              "      border-right-color: var(--fill-color);\n",
              "      border-bottom-color: var(--fill-color);\n",
              "    }\n",
              "    90% {\n",
              "      border-color: transparent;\n",
              "      border-bottom-color: var(--fill-color);\n",
              "    }\n",
              "  }\n",
              "</style>\n",
              "\n",
              "  <script>\n",
              "    async function quickchart(key) {\n",
              "      const quickchartButtonEl =\n",
              "        document.querySelector('#' + key + ' button');\n",
              "      quickchartButtonEl.disabled = true;  // To prevent multiple clicks.\n",
              "      quickchartButtonEl.classList.add('colab-df-spinner');\n",
              "      try {\n",
              "        const charts = await google.colab.kernel.invokeFunction(\n",
              "            'suggestCharts', [key], {});\n",
              "      } catch (error) {\n",
              "        console.error('Error during call to suggestCharts:', error);\n",
              "      }\n",
              "      quickchartButtonEl.classList.remove('colab-df-spinner');\n",
              "      quickchartButtonEl.classList.add('colab-df-quickchart-complete');\n",
              "    }\n",
              "    (() => {\n",
              "      let quickchartButtonEl =\n",
              "        document.querySelector('#df-50e320ba-b9c0-4eed-93de-0120ade6ce08 button');\n",
              "      quickchartButtonEl.style.display =\n",
              "        google.colab.kernel.accessAllowed ? 'block' : 'none';\n",
              "    })();\n",
              "  </script>\n",
              "</div>\n",
              "\n",
              "    </div>\n",
              "  </div>\n"
            ],
            "text/plain": [
              "           CSDNAME  Type   Price  Bedrooms  Bathrooms  Hydro  Heat  Water  \\\n",
              "0  South Glengarry   1.0  1425.0       2.0        1.0    0.0   1.0    1.0   \n",
              "1  South Glengarry   1.0  1100.0       2.0        1.0    0.0   0.0    1.0   \n",
              "2  South Glengarry   2.0  1200.0       2.0        1.5    0.0   0.0    1.0   \n",
              "3  South Glengarry   1.0  1695.0       1.0        1.0    1.0   1.0    1.0   \n",
              "4  South Glengarry   1.0  1095.0       1.0        1.0    0.0   0.0    1.0   \n",
              "\n",
              "    Size  \n",
              "0  950.0  \n",
              "1  780.0  \n",
              "2  900.0  \n",
              "3  850.0  \n",
              "4  600.0  "
            ]
          },
          "execution_count": 88,
          "metadata": {},
          "output_type": "execute_result"
        }
      ],
      "source": [
        "data.head()"
      ]
    },
    {
      "cell_type": "markdown",
      "metadata": {
        "id": "kpJ_dl5vpCXV"
      },
      "source": [
        "## Data Preprocessing"
      ]
    },
    {
      "cell_type": "code",
      "execution_count": null,
      "metadata": {
        "id": "ryImWyuK3-qa"
      },
      "outputs": [],
      "source": [
        "# Create a pipeline for preprocessing and model training in one step.\n",
        "# Convert categorical data to numeric using one-hot encoding\n",
        "categorical_features = ['CSDNAME','Type']\n",
        "categorical_transformer = Pipeline(steps=[\n",
        "    ('imputer', SimpleImputer(strategy='constant', fill_value='missing')),\n",
        "    ('onehot', OneHotEncoder(handle_unknown='ignore'))\n",
        "])"
      ]
    },
    {
      "cell_type": "code",
      "execution_count": null,
      "metadata": {
        "id": "vnug0vjY4I8X"
      },
      "outputs": [],
      "source": [
        "# Create a pipeline for preprocessing and model training in one step.\n",
        "\n",
        "# Preprocessing for numerical features\n",
        "numerical_features = ['Bedrooms', 'Bathrooms', 'Hydro', 'Heat', 'Water', 'Size']\n",
        "numerical_transformer = Pipeline(steps=[\n",
        "    ('imputer', SimpleImputer(strategy='mean')),\n",
        "    ('scaler', StandardScaler())\n",
        "])"
      ]
    },
    {
      "cell_type": "code",
      "execution_count": null,
      "metadata": {
        "id": "xWsj2xv04R77"
      },
      "outputs": [],
      "source": [
        "# Bundle preprocessing for numerical and categorical data\n",
        "preprocessor = ColumnTransformer(\n",
        "    transformers=[\n",
        "        ('num', numerical_transformer, numerical_features),\n",
        "        ('cat', categorical_transformer, categorical_features)\n",
        "    ])"
      ]
    },
    {
      "cell_type": "markdown",
      "metadata": {
        "id": "Uh0D0aZgvHi0"
      },
      "source": [
        "# Let's train the model"
      ]
    },
    {
      "cell_type": "code",
      "execution_count": null,
      "metadata": {
        "id": "GfjVfOX74VQK"
      },
      "outputs": [],
      "source": [
        "# Define feature matrix X and target y\n",
        "X = data.drop('Price', axis=1)\n",
        "y = data['Price']"
      ]
    },
    {
      "cell_type": "markdown",
      "metadata": {
        "id": "iHVRo2Txr6Bw"
      },
      "source": [
        "## Step 3: Split Data into Training and Test Sets"
      ]
    },
    {
      "cell_type": "code",
      "execution_count": null,
      "metadata": {
        "id": "Lbqk02zP11El"
      },
      "outputs": [],
      "source": [
        "# Split the dataset into 80% training and 20% testing subsets.\n",
        "# Splitting the dataset into the Training set and Test set\n",
        "X_train, X_test, y_train, y_test = train_test_split(X, y, test_size=0.2, random_state=0)\n"
      ]
    },
    {
      "cell_type": "markdown",
      "metadata": {
        "id": "mg9wXzd0vPs_"
      },
      "source": [
        "## Step 4: Initialize and Fit the Model"
      ]
    },
    {
      "cell_type": "code",
      "execution_count": null,
      "metadata": {
        "id": "NYxugolU170X"
      },
      "outputs": [],
      "source": [
        "# Create a pipeline for preprocessing and model training in one step.\n",
        "# Import Pipeline to create a sequential data processing pipeline.\n",
        "from sklearn.linear_model import LinearRegression\n",
        "from sklearn.metrics import mean_squared_error, r2_score\n",
        "from sklearn.pipeline import Pipeline\n",
        "\n",
        "# Create a pipeline that preprocesses the data and then fits a model\n",
        "model = Pipeline(steps=[('preprocessor', preprocessor),\n",
        "                        ('regressor', LinearRegression())])\n",
        "\n",
        "\n"
      ]
    },
    {
      "cell_type": "markdown",
      "metadata": {
        "id": "4-KvTCuE5DkC"
      },
      "source": [
        "## Fit/Train the model"
      ]
    },
    {
      "cell_type": "code",
      "execution_count": null,
      "metadata": {
        "colab": {
          "base_uri": "https://localhost:8080/",
          "height": 227
        },
        "id": "tSQOavg44_tO",
        "outputId": "ec978039-8a9d-493c-a419-d85dbc0fcad9"
      },
      "outputs": [
        {
          "data": {
            "text/html": [
              "<style>#sk-container-id-6 {color: black;background-color: white;}#sk-container-id-6 pre{padding: 0;}#sk-container-id-6 div.sk-toggleable {background-color: white;}#sk-container-id-6 label.sk-toggleable__label {cursor: pointer;display: block;width: 100%;margin-bottom: 0;padding: 0.3em;box-sizing: border-box;text-align: center;}#sk-container-id-6 label.sk-toggleable__label-arrow:before {content: \"▸\";float: left;margin-right: 0.25em;color: #696969;}#sk-container-id-6 label.sk-toggleable__label-arrow:hover:before {color: black;}#sk-container-id-6 div.sk-estimator:hover label.sk-toggleable__label-arrow:before {color: black;}#sk-container-id-6 div.sk-toggleable__content {max-height: 0;max-width: 0;overflow: hidden;text-align: left;background-color: #f0f8ff;}#sk-container-id-6 div.sk-toggleable__content pre {margin: 0.2em;color: black;border-radius: 0.25em;background-color: #f0f8ff;}#sk-container-id-6 input.sk-toggleable__control:checked~div.sk-toggleable__content {max-height: 200px;max-width: 100%;overflow: auto;}#sk-container-id-6 input.sk-toggleable__control:checked~label.sk-toggleable__label-arrow:before {content: \"▾\";}#sk-container-id-6 div.sk-estimator input.sk-toggleable__control:checked~label.sk-toggleable__label {background-color: #d4ebff;}#sk-container-id-6 div.sk-label input.sk-toggleable__control:checked~label.sk-toggleable__label {background-color: #d4ebff;}#sk-container-id-6 input.sk-hidden--visually {border: 0;clip: rect(1px 1px 1px 1px);clip: rect(1px, 1px, 1px, 1px);height: 1px;margin: -1px;overflow: hidden;padding: 0;position: absolute;width: 1px;}#sk-container-id-6 div.sk-estimator {font-family: monospace;background-color: #f0f8ff;border: 1px dotted black;border-radius: 0.25em;box-sizing: border-box;margin-bottom: 0.5em;}#sk-container-id-6 div.sk-estimator:hover {background-color: #d4ebff;}#sk-container-id-6 div.sk-parallel-item::after {content: \"\";width: 100%;border-bottom: 1px solid gray;flex-grow: 1;}#sk-container-id-6 div.sk-label:hover label.sk-toggleable__label {background-color: #d4ebff;}#sk-container-id-6 div.sk-serial::before {content: \"\";position: absolute;border-left: 1px solid gray;box-sizing: border-box;top: 0;bottom: 0;left: 50%;z-index: 0;}#sk-container-id-6 div.sk-serial {display: flex;flex-direction: column;align-items: center;background-color: white;padding-right: 0.2em;padding-left: 0.2em;position: relative;}#sk-container-id-6 div.sk-item {position: relative;z-index: 1;}#sk-container-id-6 div.sk-parallel {display: flex;align-items: stretch;justify-content: center;background-color: white;position: relative;}#sk-container-id-6 div.sk-item::before, #sk-container-id-6 div.sk-parallel-item::before {content: \"\";position: absolute;border-left: 1px solid gray;box-sizing: border-box;top: 0;bottom: 0;left: 50%;z-index: -1;}#sk-container-id-6 div.sk-parallel-item {display: flex;flex-direction: column;z-index: 1;position: relative;background-color: white;}#sk-container-id-6 div.sk-parallel-item:first-child::after {align-self: flex-end;width: 50%;}#sk-container-id-6 div.sk-parallel-item:last-child::after {align-self: flex-start;width: 50%;}#sk-container-id-6 div.sk-parallel-item:only-child::after {width: 0;}#sk-container-id-6 div.sk-dashed-wrapped {border: 1px dashed gray;margin: 0 0.4em 0.5em 0.4em;box-sizing: border-box;padding-bottom: 0.4em;background-color: white;}#sk-container-id-6 div.sk-label label {font-family: monospace;font-weight: bold;display: inline-block;line-height: 1.2em;}#sk-container-id-6 div.sk-label-container {text-align: center;}#sk-container-id-6 div.sk-container {/* jupyter's `normalize.less` sets `[hidden] { display: none; }` but bootstrap.min.css set `[hidden] { display: none !important; }` so we also need the `!important` here to be able to override the default hidden behavior on the sphinx rendered scikit-learn.org. See: https://github.com/scikit-learn/scikit-learn/issues/21755 */display: inline-block !important;position: relative;}#sk-container-id-6 div.sk-text-repr-fallback {display: none;}</style><div id=\"sk-container-id-6\" class=\"sk-top-container\"><div class=\"sk-text-repr-fallback\"><pre>Pipeline(steps=[(&#x27;preprocessor&#x27;,\n",
              "                 ColumnTransformer(transformers=[(&#x27;num&#x27;,\n",
              "                                                  Pipeline(steps=[(&#x27;imputer&#x27;,\n",
              "                                                                   SimpleImputer()),\n",
              "                                                                  (&#x27;scaler&#x27;,\n",
              "                                                                   StandardScaler())]),\n",
              "                                                  [&#x27;Bedrooms&#x27;, &#x27;Bathrooms&#x27;,\n",
              "                                                   &#x27;Hydro&#x27;, &#x27;Heat&#x27;, &#x27;Water&#x27;,\n",
              "                                                   &#x27;Size&#x27;]),\n",
              "                                                 (&#x27;cat&#x27;,\n",
              "                                                  Pipeline(steps=[(&#x27;imputer&#x27;,\n",
              "                                                                   SimpleImputer(fill_value=&#x27;missing&#x27;,\n",
              "                                                                                 strategy=&#x27;constant&#x27;)),\n",
              "                                                                  (&#x27;onehot&#x27;,\n",
              "                                                                   OneHotEncoder(handle_unknown=&#x27;ignore&#x27;))]),\n",
              "                                                  [&#x27;CSDNAME&#x27;, &#x27;Type&#x27;])])),\n",
              "                (&#x27;regressor&#x27;, LinearRegression())])</pre><b>In a Jupyter environment, please rerun this cell to show the HTML representation or trust the notebook. <br />On GitHub, the HTML representation is unable to render, please try loading this page with nbviewer.org.</b></div><div class=\"sk-container\" hidden><div class=\"sk-item sk-dashed-wrapped\"><div class=\"sk-label-container\"><div class=\"sk-label sk-toggleable\"><input class=\"sk-toggleable__control sk-hidden--visually\" id=\"sk-estimator-id-46\" type=\"checkbox\" ><label for=\"sk-estimator-id-46\" class=\"sk-toggleable__label sk-toggleable__label-arrow\">Pipeline</label><div class=\"sk-toggleable__content\"><pre>Pipeline(steps=[(&#x27;preprocessor&#x27;,\n",
              "                 ColumnTransformer(transformers=[(&#x27;num&#x27;,\n",
              "                                                  Pipeline(steps=[(&#x27;imputer&#x27;,\n",
              "                                                                   SimpleImputer()),\n",
              "                                                                  (&#x27;scaler&#x27;,\n",
              "                                                                   StandardScaler())]),\n",
              "                                                  [&#x27;Bedrooms&#x27;, &#x27;Bathrooms&#x27;,\n",
              "                                                   &#x27;Hydro&#x27;, &#x27;Heat&#x27;, &#x27;Water&#x27;,\n",
              "                                                   &#x27;Size&#x27;]),\n",
              "                                                 (&#x27;cat&#x27;,\n",
              "                                                  Pipeline(steps=[(&#x27;imputer&#x27;,\n",
              "                                                                   SimpleImputer(fill_value=&#x27;missing&#x27;,\n",
              "                                                                                 strategy=&#x27;constant&#x27;)),\n",
              "                                                                  (&#x27;onehot&#x27;,\n",
              "                                                                   OneHotEncoder(handle_unknown=&#x27;ignore&#x27;))]),\n",
              "                                                  [&#x27;CSDNAME&#x27;, &#x27;Type&#x27;])])),\n",
              "                (&#x27;regressor&#x27;, LinearRegression())])</pre></div></div></div><div class=\"sk-serial\"><div class=\"sk-item sk-dashed-wrapped\"><div class=\"sk-label-container\"><div class=\"sk-label sk-toggleable\"><input class=\"sk-toggleable__control sk-hidden--visually\" id=\"sk-estimator-id-47\" type=\"checkbox\" ><label for=\"sk-estimator-id-47\" class=\"sk-toggleable__label sk-toggleable__label-arrow\">preprocessor: ColumnTransformer</label><div class=\"sk-toggleable__content\"><pre>ColumnTransformer(transformers=[(&#x27;num&#x27;,\n",
              "                                 Pipeline(steps=[(&#x27;imputer&#x27;, SimpleImputer()),\n",
              "                                                 (&#x27;scaler&#x27;, StandardScaler())]),\n",
              "                                 [&#x27;Bedrooms&#x27;, &#x27;Bathrooms&#x27;, &#x27;Hydro&#x27;, &#x27;Heat&#x27;,\n",
              "                                  &#x27;Water&#x27;, &#x27;Size&#x27;]),\n",
              "                                (&#x27;cat&#x27;,\n",
              "                                 Pipeline(steps=[(&#x27;imputer&#x27;,\n",
              "                                                  SimpleImputer(fill_value=&#x27;missing&#x27;,\n",
              "                                                                strategy=&#x27;constant&#x27;)),\n",
              "                                                 (&#x27;onehot&#x27;,\n",
              "                                                  OneHotEncoder(handle_unknown=&#x27;ignore&#x27;))]),\n",
              "                                 [&#x27;CSDNAME&#x27;, &#x27;Type&#x27;])])</pre></div></div></div><div class=\"sk-parallel\"><div class=\"sk-parallel-item\"><div class=\"sk-item\"><div class=\"sk-label-container\"><div class=\"sk-label sk-toggleable\"><input class=\"sk-toggleable__control sk-hidden--visually\" id=\"sk-estimator-id-48\" type=\"checkbox\" ><label for=\"sk-estimator-id-48\" class=\"sk-toggleable__label sk-toggleable__label-arrow\">num</label><div class=\"sk-toggleable__content\"><pre>[&#x27;Bedrooms&#x27;, &#x27;Bathrooms&#x27;, &#x27;Hydro&#x27;, &#x27;Heat&#x27;, &#x27;Water&#x27;, &#x27;Size&#x27;]</pre></div></div></div><div class=\"sk-serial\"><div class=\"sk-item\"><div class=\"sk-serial\"><div class=\"sk-item\"><div class=\"sk-estimator sk-toggleable\"><input class=\"sk-toggleable__control sk-hidden--visually\" id=\"sk-estimator-id-49\" type=\"checkbox\" ><label for=\"sk-estimator-id-49\" class=\"sk-toggleable__label sk-toggleable__label-arrow\">SimpleImputer</label><div class=\"sk-toggleable__content\"><pre>SimpleImputer()</pre></div></div></div><div class=\"sk-item\"><div class=\"sk-estimator sk-toggleable\"><input class=\"sk-toggleable__control sk-hidden--visually\" id=\"sk-estimator-id-50\" type=\"checkbox\" ><label for=\"sk-estimator-id-50\" class=\"sk-toggleable__label sk-toggleable__label-arrow\">StandardScaler</label><div class=\"sk-toggleable__content\"><pre>StandardScaler()</pre></div></div></div></div></div></div></div></div><div class=\"sk-parallel-item\"><div class=\"sk-item\"><div class=\"sk-label-container\"><div class=\"sk-label sk-toggleable\"><input class=\"sk-toggleable__control sk-hidden--visually\" id=\"sk-estimator-id-51\" type=\"checkbox\" ><label for=\"sk-estimator-id-51\" class=\"sk-toggleable__label sk-toggleable__label-arrow\">cat</label><div class=\"sk-toggleable__content\"><pre>[&#x27;CSDNAME&#x27;, &#x27;Type&#x27;]</pre></div></div></div><div class=\"sk-serial\"><div class=\"sk-item\"><div class=\"sk-serial\"><div class=\"sk-item\"><div class=\"sk-estimator sk-toggleable\"><input class=\"sk-toggleable__control sk-hidden--visually\" id=\"sk-estimator-id-52\" type=\"checkbox\" ><label for=\"sk-estimator-id-52\" class=\"sk-toggleable__label sk-toggleable__label-arrow\">SimpleImputer</label><div class=\"sk-toggleable__content\"><pre>SimpleImputer(fill_value=&#x27;missing&#x27;, strategy=&#x27;constant&#x27;)</pre></div></div></div><div class=\"sk-item\"><div class=\"sk-estimator sk-toggleable\"><input class=\"sk-toggleable__control sk-hidden--visually\" id=\"sk-estimator-id-53\" type=\"checkbox\" ><label for=\"sk-estimator-id-53\" class=\"sk-toggleable__label sk-toggleable__label-arrow\">OneHotEncoder</label><div class=\"sk-toggleable__content\"><pre>OneHotEncoder(handle_unknown=&#x27;ignore&#x27;)</pre></div></div></div></div></div></div></div></div></div></div><div class=\"sk-item\"><div class=\"sk-estimator sk-toggleable\"><input class=\"sk-toggleable__control sk-hidden--visually\" id=\"sk-estimator-id-54\" type=\"checkbox\" ><label for=\"sk-estimator-id-54\" class=\"sk-toggleable__label sk-toggleable__label-arrow\">LinearRegression</label><div class=\"sk-toggleable__content\"><pre>LinearRegression()</pre></div></div></div></div></div></div></div>"
            ],
            "text/plain": [
              "Pipeline(steps=[('preprocessor',\n",
              "                 ColumnTransformer(transformers=[('num',\n",
              "                                                  Pipeline(steps=[('imputer',\n",
              "                                                                   SimpleImputer()),\n",
              "                                                                  ('scaler',\n",
              "                                                                   StandardScaler())]),\n",
              "                                                  ['Bedrooms', 'Bathrooms',\n",
              "                                                   'Hydro', 'Heat', 'Water',\n",
              "                                                   'Size']),\n",
              "                                                 ('cat',\n",
              "                                                  Pipeline(steps=[('imputer',\n",
              "                                                                   SimpleImputer(fill_value='missing',\n",
              "                                                                                 strategy='constant')),\n",
              "                                                                  ('onehot',\n",
              "                                                                   OneHotEncoder(handle_unknown='ignore'))]),\n",
              "                                                  ['CSDNAME', 'Type'])])),\n",
              "                ('regressor', LinearRegression())])"
            ]
          },
          "execution_count": 95,
          "metadata": {},
          "output_type": "execute_result"
        }
      ],
      "source": [
        "# Train the model\n",
        "model.fit(X_train, y_train)\n",
        "\n"
      ]
    },
    {
      "cell_type": "markdown",
      "metadata": {
        "id": "3s2sF35z5JaC"
      },
      "source": [
        "## Evaluate the model"
      ]
    },
    {
      "cell_type": "code",
      "execution_count": null,
      "metadata": {
        "colab": {
          "base_uri": "https://localhost:8080/"
        },
        "id": "0TWTdNL12KeB",
        "outputId": "6b83b546-d3f4-4aed-a680-d6689c3ba1ec"
      },
      "outputs": [
        {
          "name": "stdout",
          "output_type": "stream",
          "text": [
            "Mean Squared Error: 110431.71931762117\n",
            "R-squared: 0.6055556286003823\n"
          ]
        }
      ],
      "source": [
        "# Predicting the Test set results\n",
        "y_pred = model.predict(X_test)\n",
        "\n",
        "# Evaluate the model using both Mean Squared Error and R-squared\n",
        "mse = mean_squared_error(y_test, y_pred)\n",
        "r2 = r2_score(y_test, y_pred)\n",
        "\n",
        "print(f'Mean Squared Error: {mse}')\n",
        "print(f'R-squared: {r2}')\n"
      ]
    },
    {
      "cell_type": "markdown",
      "metadata": {
        "id": "vjVmA0zif7hE"
      },
      "source": [
        "# Compare with other Regressor Models"
      ]
    },
    {
      "cell_type": "code",
      "execution_count": null,
      "metadata": {
        "id": "PfNy4XwIgZVy"
      },
      "outputs": [],
      "source": [
        "from sklearn.preprocessing import StandardScaler\n",
        "from sklearn.tree import DecisionTreeRegressor\n",
        "from sklearn.neighbors import KNeighborsRegressor\n",
        "from sklearn.ensemble import RandomForestRegressor, GradientBoostingRegressor\n",
        "from sklearn.metrics import mean_squared_error, r2_score"
      ]
    },
    {
      "cell_type": "markdown",
      "metadata": {
        "id": "bzyU8pON2T9J"
      },
      "source": [
        "Decision Tree"
      ]
    },
    {
      "cell_type": "code",
      "execution_count": null,
      "metadata": {
        "colab": {
          "base_uri": "https://localhost:8080/",
          "height": 227
        },
        "id": "QG-hvaQF2XJM",
        "outputId": "54a70ee5-634d-43d6-807d-1e179c98e1a3"
      },
      "outputs": [
        {
          "data": {
            "text/html": [
              "<style>#sk-container-id-7 {color: black;background-color: white;}#sk-container-id-7 pre{padding: 0;}#sk-container-id-7 div.sk-toggleable {background-color: white;}#sk-container-id-7 label.sk-toggleable__label {cursor: pointer;display: block;width: 100%;margin-bottom: 0;padding: 0.3em;box-sizing: border-box;text-align: center;}#sk-container-id-7 label.sk-toggleable__label-arrow:before {content: \"▸\";float: left;margin-right: 0.25em;color: #696969;}#sk-container-id-7 label.sk-toggleable__label-arrow:hover:before {color: black;}#sk-container-id-7 div.sk-estimator:hover label.sk-toggleable__label-arrow:before {color: black;}#sk-container-id-7 div.sk-toggleable__content {max-height: 0;max-width: 0;overflow: hidden;text-align: left;background-color: #f0f8ff;}#sk-container-id-7 div.sk-toggleable__content pre {margin: 0.2em;color: black;border-radius: 0.25em;background-color: #f0f8ff;}#sk-container-id-7 input.sk-toggleable__control:checked~div.sk-toggleable__content {max-height: 200px;max-width: 100%;overflow: auto;}#sk-container-id-7 input.sk-toggleable__control:checked~label.sk-toggleable__label-arrow:before {content: \"▾\";}#sk-container-id-7 div.sk-estimator input.sk-toggleable__control:checked~label.sk-toggleable__label {background-color: #d4ebff;}#sk-container-id-7 div.sk-label input.sk-toggleable__control:checked~label.sk-toggleable__label {background-color: #d4ebff;}#sk-container-id-7 input.sk-hidden--visually {border: 0;clip: rect(1px 1px 1px 1px);clip: rect(1px, 1px, 1px, 1px);height: 1px;margin: -1px;overflow: hidden;padding: 0;position: absolute;width: 1px;}#sk-container-id-7 div.sk-estimator {font-family: monospace;background-color: #f0f8ff;border: 1px dotted black;border-radius: 0.25em;box-sizing: border-box;margin-bottom: 0.5em;}#sk-container-id-7 div.sk-estimator:hover {background-color: #d4ebff;}#sk-container-id-7 div.sk-parallel-item::after {content: \"\";width: 100%;border-bottom: 1px solid gray;flex-grow: 1;}#sk-container-id-7 div.sk-label:hover label.sk-toggleable__label {background-color: #d4ebff;}#sk-container-id-7 div.sk-serial::before {content: \"\";position: absolute;border-left: 1px solid gray;box-sizing: border-box;top: 0;bottom: 0;left: 50%;z-index: 0;}#sk-container-id-7 div.sk-serial {display: flex;flex-direction: column;align-items: center;background-color: white;padding-right: 0.2em;padding-left: 0.2em;position: relative;}#sk-container-id-7 div.sk-item {position: relative;z-index: 1;}#sk-container-id-7 div.sk-parallel {display: flex;align-items: stretch;justify-content: center;background-color: white;position: relative;}#sk-container-id-7 div.sk-item::before, #sk-container-id-7 div.sk-parallel-item::before {content: \"\";position: absolute;border-left: 1px solid gray;box-sizing: border-box;top: 0;bottom: 0;left: 50%;z-index: -1;}#sk-container-id-7 div.sk-parallel-item {display: flex;flex-direction: column;z-index: 1;position: relative;background-color: white;}#sk-container-id-7 div.sk-parallel-item:first-child::after {align-self: flex-end;width: 50%;}#sk-container-id-7 div.sk-parallel-item:last-child::after {align-self: flex-start;width: 50%;}#sk-container-id-7 div.sk-parallel-item:only-child::after {width: 0;}#sk-container-id-7 div.sk-dashed-wrapped {border: 1px dashed gray;margin: 0 0.4em 0.5em 0.4em;box-sizing: border-box;padding-bottom: 0.4em;background-color: white;}#sk-container-id-7 div.sk-label label {font-family: monospace;font-weight: bold;display: inline-block;line-height: 1.2em;}#sk-container-id-7 div.sk-label-container {text-align: center;}#sk-container-id-7 div.sk-container {/* jupyter's `normalize.less` sets `[hidden] { display: none; }` but bootstrap.min.css set `[hidden] { display: none !important; }` so we also need the `!important` here to be able to override the default hidden behavior on the sphinx rendered scikit-learn.org. See: https://github.com/scikit-learn/scikit-learn/issues/21755 */display: inline-block !important;position: relative;}#sk-container-id-7 div.sk-text-repr-fallback {display: none;}</style><div id=\"sk-container-id-7\" class=\"sk-top-container\"><div class=\"sk-text-repr-fallback\"><pre>Pipeline(steps=[(&#x27;preprocessor&#x27;,\n",
              "                 ColumnTransformer(transformers=[(&#x27;num&#x27;,\n",
              "                                                  Pipeline(steps=[(&#x27;imputer&#x27;,\n",
              "                                                                   SimpleImputer()),\n",
              "                                                                  (&#x27;scaler&#x27;,\n",
              "                                                                   StandardScaler())]),\n",
              "                                                  [&#x27;Bedrooms&#x27;, &#x27;Bathrooms&#x27;,\n",
              "                                                   &#x27;Hydro&#x27;, &#x27;Heat&#x27;, &#x27;Water&#x27;,\n",
              "                                                   &#x27;Size&#x27;]),\n",
              "                                                 (&#x27;cat&#x27;,\n",
              "                                                  Pipeline(steps=[(&#x27;imputer&#x27;,\n",
              "                                                                   SimpleImputer(fill_value=&#x27;missing&#x27;,\n",
              "                                                                                 strategy=&#x27;constant&#x27;)),\n",
              "                                                                  (&#x27;onehot&#x27;,\n",
              "                                                                   OneHotEncoder(handle_unknown=&#x27;ignore&#x27;))]),\n",
              "                                                  [&#x27;CSDNAME&#x27;, &#x27;Type&#x27;])])),\n",
              "                (&#x27;regressor&#x27;, DecisionTreeRegressor())])</pre><b>In a Jupyter environment, please rerun this cell to show the HTML representation or trust the notebook. <br />On GitHub, the HTML representation is unable to render, please try loading this page with nbviewer.org.</b></div><div class=\"sk-container\" hidden><div class=\"sk-item sk-dashed-wrapped\"><div class=\"sk-label-container\"><div class=\"sk-label sk-toggleable\"><input class=\"sk-toggleable__control sk-hidden--visually\" id=\"sk-estimator-id-55\" type=\"checkbox\" ><label for=\"sk-estimator-id-55\" class=\"sk-toggleable__label sk-toggleable__label-arrow\">Pipeline</label><div class=\"sk-toggleable__content\"><pre>Pipeline(steps=[(&#x27;preprocessor&#x27;,\n",
              "                 ColumnTransformer(transformers=[(&#x27;num&#x27;,\n",
              "                                                  Pipeline(steps=[(&#x27;imputer&#x27;,\n",
              "                                                                   SimpleImputer()),\n",
              "                                                                  (&#x27;scaler&#x27;,\n",
              "                                                                   StandardScaler())]),\n",
              "                                                  [&#x27;Bedrooms&#x27;, &#x27;Bathrooms&#x27;,\n",
              "                                                   &#x27;Hydro&#x27;, &#x27;Heat&#x27;, &#x27;Water&#x27;,\n",
              "                                                   &#x27;Size&#x27;]),\n",
              "                                                 (&#x27;cat&#x27;,\n",
              "                                                  Pipeline(steps=[(&#x27;imputer&#x27;,\n",
              "                                                                   SimpleImputer(fill_value=&#x27;missing&#x27;,\n",
              "                                                                                 strategy=&#x27;constant&#x27;)),\n",
              "                                                                  (&#x27;onehot&#x27;,\n",
              "                                                                   OneHotEncoder(handle_unknown=&#x27;ignore&#x27;))]),\n",
              "                                                  [&#x27;CSDNAME&#x27;, &#x27;Type&#x27;])])),\n",
              "                (&#x27;regressor&#x27;, DecisionTreeRegressor())])</pre></div></div></div><div class=\"sk-serial\"><div class=\"sk-item sk-dashed-wrapped\"><div class=\"sk-label-container\"><div class=\"sk-label sk-toggleable\"><input class=\"sk-toggleable__control sk-hidden--visually\" id=\"sk-estimator-id-56\" type=\"checkbox\" ><label for=\"sk-estimator-id-56\" class=\"sk-toggleable__label sk-toggleable__label-arrow\">preprocessor: ColumnTransformer</label><div class=\"sk-toggleable__content\"><pre>ColumnTransformer(transformers=[(&#x27;num&#x27;,\n",
              "                                 Pipeline(steps=[(&#x27;imputer&#x27;, SimpleImputer()),\n",
              "                                                 (&#x27;scaler&#x27;, StandardScaler())]),\n",
              "                                 [&#x27;Bedrooms&#x27;, &#x27;Bathrooms&#x27;, &#x27;Hydro&#x27;, &#x27;Heat&#x27;,\n",
              "                                  &#x27;Water&#x27;, &#x27;Size&#x27;]),\n",
              "                                (&#x27;cat&#x27;,\n",
              "                                 Pipeline(steps=[(&#x27;imputer&#x27;,\n",
              "                                                  SimpleImputer(fill_value=&#x27;missing&#x27;,\n",
              "                                                                strategy=&#x27;constant&#x27;)),\n",
              "                                                 (&#x27;onehot&#x27;,\n",
              "                                                  OneHotEncoder(handle_unknown=&#x27;ignore&#x27;))]),\n",
              "                                 [&#x27;CSDNAME&#x27;, &#x27;Type&#x27;])])</pre></div></div></div><div class=\"sk-parallel\"><div class=\"sk-parallel-item\"><div class=\"sk-item\"><div class=\"sk-label-container\"><div class=\"sk-label sk-toggleable\"><input class=\"sk-toggleable__control sk-hidden--visually\" id=\"sk-estimator-id-57\" type=\"checkbox\" ><label for=\"sk-estimator-id-57\" class=\"sk-toggleable__label sk-toggleable__label-arrow\">num</label><div class=\"sk-toggleable__content\"><pre>[&#x27;Bedrooms&#x27;, &#x27;Bathrooms&#x27;, &#x27;Hydro&#x27;, &#x27;Heat&#x27;, &#x27;Water&#x27;, &#x27;Size&#x27;]</pre></div></div></div><div class=\"sk-serial\"><div class=\"sk-item\"><div class=\"sk-serial\"><div class=\"sk-item\"><div class=\"sk-estimator sk-toggleable\"><input class=\"sk-toggleable__control sk-hidden--visually\" id=\"sk-estimator-id-58\" type=\"checkbox\" ><label for=\"sk-estimator-id-58\" class=\"sk-toggleable__label sk-toggleable__label-arrow\">SimpleImputer</label><div class=\"sk-toggleable__content\"><pre>SimpleImputer()</pre></div></div></div><div class=\"sk-item\"><div class=\"sk-estimator sk-toggleable\"><input class=\"sk-toggleable__control sk-hidden--visually\" id=\"sk-estimator-id-59\" type=\"checkbox\" ><label for=\"sk-estimator-id-59\" class=\"sk-toggleable__label sk-toggleable__label-arrow\">StandardScaler</label><div class=\"sk-toggleable__content\"><pre>StandardScaler()</pre></div></div></div></div></div></div></div></div><div class=\"sk-parallel-item\"><div class=\"sk-item\"><div class=\"sk-label-container\"><div class=\"sk-label sk-toggleable\"><input class=\"sk-toggleable__control sk-hidden--visually\" id=\"sk-estimator-id-60\" type=\"checkbox\" ><label for=\"sk-estimator-id-60\" class=\"sk-toggleable__label sk-toggleable__label-arrow\">cat</label><div class=\"sk-toggleable__content\"><pre>[&#x27;CSDNAME&#x27;, &#x27;Type&#x27;]</pre></div></div></div><div class=\"sk-serial\"><div class=\"sk-item\"><div class=\"sk-serial\"><div class=\"sk-item\"><div class=\"sk-estimator sk-toggleable\"><input class=\"sk-toggleable__control sk-hidden--visually\" id=\"sk-estimator-id-61\" type=\"checkbox\" ><label for=\"sk-estimator-id-61\" class=\"sk-toggleable__label sk-toggleable__label-arrow\">SimpleImputer</label><div class=\"sk-toggleable__content\"><pre>SimpleImputer(fill_value=&#x27;missing&#x27;, strategy=&#x27;constant&#x27;)</pre></div></div></div><div class=\"sk-item\"><div class=\"sk-estimator sk-toggleable\"><input class=\"sk-toggleable__control sk-hidden--visually\" id=\"sk-estimator-id-62\" type=\"checkbox\" ><label for=\"sk-estimator-id-62\" class=\"sk-toggleable__label sk-toggleable__label-arrow\">OneHotEncoder</label><div class=\"sk-toggleable__content\"><pre>OneHotEncoder(handle_unknown=&#x27;ignore&#x27;)</pre></div></div></div></div></div></div></div></div></div></div><div class=\"sk-item\"><div class=\"sk-estimator sk-toggleable\"><input class=\"sk-toggleable__control sk-hidden--visually\" id=\"sk-estimator-id-63\" type=\"checkbox\" ><label for=\"sk-estimator-id-63\" class=\"sk-toggleable__label sk-toggleable__label-arrow\">DecisionTreeRegressor</label><div class=\"sk-toggleable__content\"><pre>DecisionTreeRegressor()</pre></div></div></div></div></div></div></div>"
            ],
            "text/plain": [
              "Pipeline(steps=[('preprocessor',\n",
              "                 ColumnTransformer(transformers=[('num',\n",
              "                                                  Pipeline(steps=[('imputer',\n",
              "                                                                   SimpleImputer()),\n",
              "                                                                  ('scaler',\n",
              "                                                                   StandardScaler())]),\n",
              "                                                  ['Bedrooms', 'Bathrooms',\n",
              "                                                   'Hydro', 'Heat', 'Water',\n",
              "                                                   'Size']),\n",
              "                                                 ('cat',\n",
              "                                                  Pipeline(steps=[('imputer',\n",
              "                                                                   SimpleImputer(fill_value='missing',\n",
              "                                                                                 strategy='constant')),\n",
              "                                                                  ('onehot',\n",
              "                                                                   OneHotEncoder(handle_unknown='ignore'))]),\n",
              "                                                  ['CSDNAME', 'Type'])])),\n",
              "                ('regressor', DecisionTreeRegressor())])"
            ]
          },
          "execution_count": 98,
          "metadata": {},
          "output_type": "execute_result"
        }
      ],
      "source": [
        "# Create a pipeline for preprocessing and model training in one step.\n",
        "# Using pipeline format defined previously\n",
        "\n",
        "# Decision Tree Regressor Pipeline\n",
        "dtree_model = Pipeline(steps=[('preprocessor', preprocessor),\n",
        "                              ('regressor', DecisionTreeRegressor())])\n",
        "dtree_model.fit(X_train, y_train)\n"
      ]
    },
    {
      "cell_type": "code",
      "execution_count": null,
      "metadata": {
        "colab": {
          "base_uri": "https://localhost:8080/"
        },
        "id": "tnYiT3bs2h5_",
        "outputId": "ba073092-d516-4138-819d-db167289ac25"
      },
      "outputs": [
        {
          "name": "stdout",
          "output_type": "stream",
          "text": [
            "Mean Squared Error: 154598.62018291454\n",
            "R-squared: 0.4477985497816337\n"
          ]
        }
      ],
      "source": [
        "# Predicting the Test set results\n",
        "y_pred = dtree_model.predict(X_test)\n",
        "\n",
        "# Evaluate the model using both Mean Squared Error and R-squared\n",
        "mse = mean_squared_error(y_test, y_pred)\n",
        "r2 = r2_score(y_test, y_pred)\n",
        "\n",
        "print(f'Mean Squared Error: {mse}')\n",
        "print(f'R-squared: {r2}')\n"
      ]
    },
    {
      "cell_type": "markdown",
      "metadata": {
        "id": "p4U_EzF_2xBr"
      },
      "source": [
        "# KNN"
      ]
    },
    {
      "cell_type": "code",
      "execution_count": null,
      "metadata": {
        "colab": {
          "base_uri": "https://localhost:8080/",
          "height": 227
        },
        "id": "YXcqN9gj2sCK",
        "outputId": "c0b75dec-98bc-4e90-8135-7f6c53204628"
      },
      "outputs": [
        {
          "data": {
            "text/html": [
              "<style>#sk-container-id-8 {color: black;background-color: white;}#sk-container-id-8 pre{padding: 0;}#sk-container-id-8 div.sk-toggleable {background-color: white;}#sk-container-id-8 label.sk-toggleable__label {cursor: pointer;display: block;width: 100%;margin-bottom: 0;padding: 0.3em;box-sizing: border-box;text-align: center;}#sk-container-id-8 label.sk-toggleable__label-arrow:before {content: \"▸\";float: left;margin-right: 0.25em;color: #696969;}#sk-container-id-8 label.sk-toggleable__label-arrow:hover:before {color: black;}#sk-container-id-8 div.sk-estimator:hover label.sk-toggleable__label-arrow:before {color: black;}#sk-container-id-8 div.sk-toggleable__content {max-height: 0;max-width: 0;overflow: hidden;text-align: left;background-color: #f0f8ff;}#sk-container-id-8 div.sk-toggleable__content pre {margin: 0.2em;color: black;border-radius: 0.25em;background-color: #f0f8ff;}#sk-container-id-8 input.sk-toggleable__control:checked~div.sk-toggleable__content {max-height: 200px;max-width: 100%;overflow: auto;}#sk-container-id-8 input.sk-toggleable__control:checked~label.sk-toggleable__label-arrow:before {content: \"▾\";}#sk-container-id-8 div.sk-estimator input.sk-toggleable__control:checked~label.sk-toggleable__label {background-color: #d4ebff;}#sk-container-id-8 div.sk-label input.sk-toggleable__control:checked~label.sk-toggleable__label {background-color: #d4ebff;}#sk-container-id-8 input.sk-hidden--visually {border: 0;clip: rect(1px 1px 1px 1px);clip: rect(1px, 1px, 1px, 1px);height: 1px;margin: -1px;overflow: hidden;padding: 0;position: absolute;width: 1px;}#sk-container-id-8 div.sk-estimator {font-family: monospace;background-color: #f0f8ff;border: 1px dotted black;border-radius: 0.25em;box-sizing: border-box;margin-bottom: 0.5em;}#sk-container-id-8 div.sk-estimator:hover {background-color: #d4ebff;}#sk-container-id-8 div.sk-parallel-item::after {content: \"\";width: 100%;border-bottom: 1px solid gray;flex-grow: 1;}#sk-container-id-8 div.sk-label:hover label.sk-toggleable__label {background-color: #d4ebff;}#sk-container-id-8 div.sk-serial::before {content: \"\";position: absolute;border-left: 1px solid gray;box-sizing: border-box;top: 0;bottom: 0;left: 50%;z-index: 0;}#sk-container-id-8 div.sk-serial {display: flex;flex-direction: column;align-items: center;background-color: white;padding-right: 0.2em;padding-left: 0.2em;position: relative;}#sk-container-id-8 div.sk-item {position: relative;z-index: 1;}#sk-container-id-8 div.sk-parallel {display: flex;align-items: stretch;justify-content: center;background-color: white;position: relative;}#sk-container-id-8 div.sk-item::before, #sk-container-id-8 div.sk-parallel-item::before {content: \"\";position: absolute;border-left: 1px solid gray;box-sizing: border-box;top: 0;bottom: 0;left: 50%;z-index: -1;}#sk-container-id-8 div.sk-parallel-item {display: flex;flex-direction: column;z-index: 1;position: relative;background-color: white;}#sk-container-id-8 div.sk-parallel-item:first-child::after {align-self: flex-end;width: 50%;}#sk-container-id-8 div.sk-parallel-item:last-child::after {align-self: flex-start;width: 50%;}#sk-container-id-8 div.sk-parallel-item:only-child::after {width: 0;}#sk-container-id-8 div.sk-dashed-wrapped {border: 1px dashed gray;margin: 0 0.4em 0.5em 0.4em;box-sizing: border-box;padding-bottom: 0.4em;background-color: white;}#sk-container-id-8 div.sk-label label {font-family: monospace;font-weight: bold;display: inline-block;line-height: 1.2em;}#sk-container-id-8 div.sk-label-container {text-align: center;}#sk-container-id-8 div.sk-container {/* jupyter's `normalize.less` sets `[hidden] { display: none; }` but bootstrap.min.css set `[hidden] { display: none !important; }` so we also need the `!important` here to be able to override the default hidden behavior on the sphinx rendered scikit-learn.org. See: https://github.com/scikit-learn/scikit-learn/issues/21755 */display: inline-block !important;position: relative;}#sk-container-id-8 div.sk-text-repr-fallback {display: none;}</style><div id=\"sk-container-id-8\" class=\"sk-top-container\"><div class=\"sk-text-repr-fallback\"><pre>Pipeline(steps=[(&#x27;preprocessor&#x27;,\n",
              "                 ColumnTransformer(transformers=[(&#x27;num&#x27;,\n",
              "                                                  Pipeline(steps=[(&#x27;imputer&#x27;,\n",
              "                                                                   SimpleImputer()),\n",
              "                                                                  (&#x27;scaler&#x27;,\n",
              "                                                                   StandardScaler())]),\n",
              "                                                  [&#x27;Bedrooms&#x27;, &#x27;Bathrooms&#x27;,\n",
              "                                                   &#x27;Hydro&#x27;, &#x27;Heat&#x27;, &#x27;Water&#x27;,\n",
              "                                                   &#x27;Size&#x27;]),\n",
              "                                                 (&#x27;cat&#x27;,\n",
              "                                                  Pipeline(steps=[(&#x27;imputer&#x27;,\n",
              "                                                                   SimpleImputer(fill_value=&#x27;missing&#x27;,\n",
              "                                                                                 strategy=&#x27;constant&#x27;)),\n",
              "                                                                  (&#x27;onehot&#x27;,\n",
              "                                                                   OneHotEncoder(handle_unknown=&#x27;ignore&#x27;))]),\n",
              "                                                  [&#x27;CSDNAME&#x27;, &#x27;Type&#x27;])])),\n",
              "                (&#x27;regressor&#x27;, KNeighborsRegressor())])</pre><b>In a Jupyter environment, please rerun this cell to show the HTML representation or trust the notebook. <br />On GitHub, the HTML representation is unable to render, please try loading this page with nbviewer.org.</b></div><div class=\"sk-container\" hidden><div class=\"sk-item sk-dashed-wrapped\"><div class=\"sk-label-container\"><div class=\"sk-label sk-toggleable\"><input class=\"sk-toggleable__control sk-hidden--visually\" id=\"sk-estimator-id-64\" type=\"checkbox\" ><label for=\"sk-estimator-id-64\" class=\"sk-toggleable__label sk-toggleable__label-arrow\">Pipeline</label><div class=\"sk-toggleable__content\"><pre>Pipeline(steps=[(&#x27;preprocessor&#x27;,\n",
              "                 ColumnTransformer(transformers=[(&#x27;num&#x27;,\n",
              "                                                  Pipeline(steps=[(&#x27;imputer&#x27;,\n",
              "                                                                   SimpleImputer()),\n",
              "                                                                  (&#x27;scaler&#x27;,\n",
              "                                                                   StandardScaler())]),\n",
              "                                                  [&#x27;Bedrooms&#x27;, &#x27;Bathrooms&#x27;,\n",
              "                                                   &#x27;Hydro&#x27;, &#x27;Heat&#x27;, &#x27;Water&#x27;,\n",
              "                                                   &#x27;Size&#x27;]),\n",
              "                                                 (&#x27;cat&#x27;,\n",
              "                                                  Pipeline(steps=[(&#x27;imputer&#x27;,\n",
              "                                                                   SimpleImputer(fill_value=&#x27;missing&#x27;,\n",
              "                                                                                 strategy=&#x27;constant&#x27;)),\n",
              "                                                                  (&#x27;onehot&#x27;,\n",
              "                                                                   OneHotEncoder(handle_unknown=&#x27;ignore&#x27;))]),\n",
              "                                                  [&#x27;CSDNAME&#x27;, &#x27;Type&#x27;])])),\n",
              "                (&#x27;regressor&#x27;, KNeighborsRegressor())])</pre></div></div></div><div class=\"sk-serial\"><div class=\"sk-item sk-dashed-wrapped\"><div class=\"sk-label-container\"><div class=\"sk-label sk-toggleable\"><input class=\"sk-toggleable__control sk-hidden--visually\" id=\"sk-estimator-id-65\" type=\"checkbox\" ><label for=\"sk-estimator-id-65\" class=\"sk-toggleable__label sk-toggleable__label-arrow\">preprocessor: ColumnTransformer</label><div class=\"sk-toggleable__content\"><pre>ColumnTransformer(transformers=[(&#x27;num&#x27;,\n",
              "                                 Pipeline(steps=[(&#x27;imputer&#x27;, SimpleImputer()),\n",
              "                                                 (&#x27;scaler&#x27;, StandardScaler())]),\n",
              "                                 [&#x27;Bedrooms&#x27;, &#x27;Bathrooms&#x27;, &#x27;Hydro&#x27;, &#x27;Heat&#x27;,\n",
              "                                  &#x27;Water&#x27;, &#x27;Size&#x27;]),\n",
              "                                (&#x27;cat&#x27;,\n",
              "                                 Pipeline(steps=[(&#x27;imputer&#x27;,\n",
              "                                                  SimpleImputer(fill_value=&#x27;missing&#x27;,\n",
              "                                                                strategy=&#x27;constant&#x27;)),\n",
              "                                                 (&#x27;onehot&#x27;,\n",
              "                                                  OneHotEncoder(handle_unknown=&#x27;ignore&#x27;))]),\n",
              "                                 [&#x27;CSDNAME&#x27;, &#x27;Type&#x27;])])</pre></div></div></div><div class=\"sk-parallel\"><div class=\"sk-parallel-item\"><div class=\"sk-item\"><div class=\"sk-label-container\"><div class=\"sk-label sk-toggleable\"><input class=\"sk-toggleable__control sk-hidden--visually\" id=\"sk-estimator-id-66\" type=\"checkbox\" ><label for=\"sk-estimator-id-66\" class=\"sk-toggleable__label sk-toggleable__label-arrow\">num</label><div class=\"sk-toggleable__content\"><pre>[&#x27;Bedrooms&#x27;, &#x27;Bathrooms&#x27;, &#x27;Hydro&#x27;, &#x27;Heat&#x27;, &#x27;Water&#x27;, &#x27;Size&#x27;]</pre></div></div></div><div class=\"sk-serial\"><div class=\"sk-item\"><div class=\"sk-serial\"><div class=\"sk-item\"><div class=\"sk-estimator sk-toggleable\"><input class=\"sk-toggleable__control sk-hidden--visually\" id=\"sk-estimator-id-67\" type=\"checkbox\" ><label for=\"sk-estimator-id-67\" class=\"sk-toggleable__label sk-toggleable__label-arrow\">SimpleImputer</label><div class=\"sk-toggleable__content\"><pre>SimpleImputer()</pre></div></div></div><div class=\"sk-item\"><div class=\"sk-estimator sk-toggleable\"><input class=\"sk-toggleable__control sk-hidden--visually\" id=\"sk-estimator-id-68\" type=\"checkbox\" ><label for=\"sk-estimator-id-68\" class=\"sk-toggleable__label sk-toggleable__label-arrow\">StandardScaler</label><div class=\"sk-toggleable__content\"><pre>StandardScaler()</pre></div></div></div></div></div></div></div></div><div class=\"sk-parallel-item\"><div class=\"sk-item\"><div class=\"sk-label-container\"><div class=\"sk-label sk-toggleable\"><input class=\"sk-toggleable__control sk-hidden--visually\" id=\"sk-estimator-id-69\" type=\"checkbox\" ><label for=\"sk-estimator-id-69\" class=\"sk-toggleable__label sk-toggleable__label-arrow\">cat</label><div class=\"sk-toggleable__content\"><pre>[&#x27;CSDNAME&#x27;, &#x27;Type&#x27;]</pre></div></div></div><div class=\"sk-serial\"><div class=\"sk-item\"><div class=\"sk-serial\"><div class=\"sk-item\"><div class=\"sk-estimator sk-toggleable\"><input class=\"sk-toggleable__control sk-hidden--visually\" id=\"sk-estimator-id-70\" type=\"checkbox\" ><label for=\"sk-estimator-id-70\" class=\"sk-toggleable__label sk-toggleable__label-arrow\">SimpleImputer</label><div class=\"sk-toggleable__content\"><pre>SimpleImputer(fill_value=&#x27;missing&#x27;, strategy=&#x27;constant&#x27;)</pre></div></div></div><div class=\"sk-item\"><div class=\"sk-estimator sk-toggleable\"><input class=\"sk-toggleable__control sk-hidden--visually\" id=\"sk-estimator-id-71\" type=\"checkbox\" ><label for=\"sk-estimator-id-71\" class=\"sk-toggleable__label sk-toggleable__label-arrow\">OneHotEncoder</label><div class=\"sk-toggleable__content\"><pre>OneHotEncoder(handle_unknown=&#x27;ignore&#x27;)</pre></div></div></div></div></div></div></div></div></div></div><div class=\"sk-item\"><div class=\"sk-estimator sk-toggleable\"><input class=\"sk-toggleable__control sk-hidden--visually\" id=\"sk-estimator-id-72\" type=\"checkbox\" ><label for=\"sk-estimator-id-72\" class=\"sk-toggleable__label sk-toggleable__label-arrow\">KNeighborsRegressor</label><div class=\"sk-toggleable__content\"><pre>KNeighborsRegressor()</pre></div></div></div></div></div></div></div>"
            ],
            "text/plain": [
              "Pipeline(steps=[('preprocessor',\n",
              "                 ColumnTransformer(transformers=[('num',\n",
              "                                                  Pipeline(steps=[('imputer',\n",
              "                                                                   SimpleImputer()),\n",
              "                                                                  ('scaler',\n",
              "                                                                   StandardScaler())]),\n",
              "                                                  ['Bedrooms', 'Bathrooms',\n",
              "                                                   'Hydro', 'Heat', 'Water',\n",
              "                                                   'Size']),\n",
              "                                                 ('cat',\n",
              "                                                  Pipeline(steps=[('imputer',\n",
              "                                                                   SimpleImputer(fill_value='missing',\n",
              "                                                                                 strategy='constant')),\n",
              "                                                                  ('onehot',\n",
              "                                                                   OneHotEncoder(handle_unknown='ignore'))]),\n",
              "                                                  ['CSDNAME', 'Type'])])),\n",
              "                ('regressor', KNeighborsRegressor())])"
            ]
          },
          "execution_count": 100,
          "metadata": {},
          "output_type": "execute_result"
        }
      ],
      "source": [
        "# Create a pipeline for preprocessing and model training in one step.\n",
        "\n",
        "# K-Neighbors Regressor Pipeline\n",
        "knn_model = Pipeline(steps=[('preprocessor', preprocessor),\n",
        "                            ('regressor', KNeighborsRegressor())])\n",
        "kn\n",
        "n_model.fit(X_train, y_train)\n"
      ]
    },
    {
      "cell_type": "code",
      "execution_count": null,
      "metadata": {
        "colab": {
          "base_uri": "https://localhost:8080/"
        },
        "id": "X60bp15C22EL",
        "outputId": "f635ddb3-706e-4541-fa10-7d864efef0a6"
      },
      "outputs": [
        {
          "name": "stdout",
          "output_type": "stream",
          "text": [
            "Mean Squared Error: 127842.67173459717\n",
            "R-squared: 0.5433665019253717\n"
          ]
        }
      ],
      "source": [
        "# Predicting the Test set results\n",
        "y_pred = knn_model.predict(X_test)\n",
        "\n",
        "# Evaluate the model using both Mean Squared Error and R-squared\n",
        "mse = mean_squared_error(y_test, y_pred)\n",
        "r2 = r2_score(y_test, y_pred)\n",
        "\n",
        "print(f'Mean Squared Error: {mse}')\n",
        "print(f'R-squared: {r2}')\n"
      ]
    },
    {
      "cell_type": "markdown",
      "metadata": {
        "id": "hw2YB5vz3MR5"
      },
      "source": [
        "# Random Forest"
      ]
    },
    {
      "cell_type": "code",
      "execution_count": null,
      "metadata": {
        "colab": {
          "base_uri": "https://localhost:8080/",
          "height": 227
        },
        "id": "VDSjyyy03OfC",
        "outputId": "7d63ce66-fcef-4544-f777-2970df8eedc4"
      },
      "outputs": [
        {
          "data": {
            "text/html": [
              "<style>#sk-container-id-9 {color: black;background-color: white;}#sk-container-id-9 pre{padding: 0;}#sk-container-id-9 div.sk-toggleable {background-color: white;}#sk-container-id-9 label.sk-toggleable__label {cursor: pointer;display: block;width: 100%;margin-bottom: 0;padding: 0.3em;box-sizing: border-box;text-align: center;}#sk-container-id-9 label.sk-toggleable__label-arrow:before {content: \"▸\";float: left;margin-right: 0.25em;color: #696969;}#sk-container-id-9 label.sk-toggleable__label-arrow:hover:before {color: black;}#sk-container-id-9 div.sk-estimator:hover label.sk-toggleable__label-arrow:before {color: black;}#sk-container-id-9 div.sk-toggleable__content {max-height: 0;max-width: 0;overflow: hidden;text-align: left;background-color: #f0f8ff;}#sk-container-id-9 div.sk-toggleable__content pre {margin: 0.2em;color: black;border-radius: 0.25em;background-color: #f0f8ff;}#sk-container-id-9 input.sk-toggleable__control:checked~div.sk-toggleable__content {max-height: 200px;max-width: 100%;overflow: auto;}#sk-container-id-9 input.sk-toggleable__control:checked~label.sk-toggleable__label-arrow:before {content: \"▾\";}#sk-container-id-9 div.sk-estimator input.sk-toggleable__control:checked~label.sk-toggleable__label {background-color: #d4ebff;}#sk-container-id-9 div.sk-label input.sk-toggleable__control:checked~label.sk-toggleable__label {background-color: #d4ebff;}#sk-container-id-9 input.sk-hidden--visually {border: 0;clip: rect(1px 1px 1px 1px);clip: rect(1px, 1px, 1px, 1px);height: 1px;margin: -1px;overflow: hidden;padding: 0;position: absolute;width: 1px;}#sk-container-id-9 div.sk-estimator {font-family: monospace;background-color: #f0f8ff;border: 1px dotted black;border-radius: 0.25em;box-sizing: border-box;margin-bottom: 0.5em;}#sk-container-id-9 div.sk-estimator:hover {background-color: #d4ebff;}#sk-container-id-9 div.sk-parallel-item::after {content: \"\";width: 100%;border-bottom: 1px solid gray;flex-grow: 1;}#sk-container-id-9 div.sk-label:hover label.sk-toggleable__label {background-color: #d4ebff;}#sk-container-id-9 div.sk-serial::before {content: \"\";position: absolute;border-left: 1px solid gray;box-sizing: border-box;top: 0;bottom: 0;left: 50%;z-index: 0;}#sk-container-id-9 div.sk-serial {display: flex;flex-direction: column;align-items: center;background-color: white;padding-right: 0.2em;padding-left: 0.2em;position: relative;}#sk-container-id-9 div.sk-item {position: relative;z-index: 1;}#sk-container-id-9 div.sk-parallel {display: flex;align-items: stretch;justify-content: center;background-color: white;position: relative;}#sk-container-id-9 div.sk-item::before, #sk-container-id-9 div.sk-parallel-item::before {content: \"\";position: absolute;border-left: 1px solid gray;box-sizing: border-box;top: 0;bottom: 0;left: 50%;z-index: -1;}#sk-container-id-9 div.sk-parallel-item {display: flex;flex-direction: column;z-index: 1;position: relative;background-color: white;}#sk-container-id-9 div.sk-parallel-item:first-child::after {align-self: flex-end;width: 50%;}#sk-container-id-9 div.sk-parallel-item:last-child::after {align-self: flex-start;width: 50%;}#sk-container-id-9 div.sk-parallel-item:only-child::after {width: 0;}#sk-container-id-9 div.sk-dashed-wrapped {border: 1px dashed gray;margin: 0 0.4em 0.5em 0.4em;box-sizing: border-box;padding-bottom: 0.4em;background-color: white;}#sk-container-id-9 div.sk-label label {font-family: monospace;font-weight: bold;display: inline-block;line-height: 1.2em;}#sk-container-id-9 div.sk-label-container {text-align: center;}#sk-container-id-9 div.sk-container {/* jupyter's `normalize.less` sets `[hidden] { display: none; }` but bootstrap.min.css set `[hidden] { display: none !important; }` so we also need the `!important` here to be able to override the default hidden behavior on the sphinx rendered scikit-learn.org. See: https://github.com/scikit-learn/scikit-learn/issues/21755 */display: inline-block !important;position: relative;}#sk-container-id-9 div.sk-text-repr-fallback {display: none;}</style><div id=\"sk-container-id-9\" class=\"sk-top-container\"><div class=\"sk-text-repr-fallback\"><pre>Pipeline(steps=[(&#x27;preprocessor&#x27;,\n",
              "                 ColumnTransformer(transformers=[(&#x27;num&#x27;,\n",
              "                                                  Pipeline(steps=[(&#x27;imputer&#x27;,\n",
              "                                                                   SimpleImputer()),\n",
              "                                                                  (&#x27;scaler&#x27;,\n",
              "                                                                   StandardScaler())]),\n",
              "                                                  [&#x27;Bedrooms&#x27;, &#x27;Bathrooms&#x27;,\n",
              "                                                   &#x27;Hydro&#x27;, &#x27;Heat&#x27;, &#x27;Water&#x27;,\n",
              "                                                   &#x27;Size&#x27;]),\n",
              "                                                 (&#x27;cat&#x27;,\n",
              "                                                  Pipeline(steps=[(&#x27;imputer&#x27;,\n",
              "                                                                   SimpleImputer(fill_value=&#x27;missing&#x27;,\n",
              "                                                                                 strategy=&#x27;constant&#x27;)),\n",
              "                                                                  (&#x27;onehot&#x27;,\n",
              "                                                                   OneHotEncoder(handle_unknown=&#x27;ignore&#x27;))]),\n",
              "                                                  [&#x27;CSDNAME&#x27;, &#x27;Type&#x27;])])),\n",
              "                (&#x27;regressor&#x27;, RandomForestRegressor())])</pre><b>In a Jupyter environment, please rerun this cell to show the HTML representation or trust the notebook. <br />On GitHub, the HTML representation is unable to render, please try loading this page with nbviewer.org.</b></div><div class=\"sk-container\" hidden><div class=\"sk-item sk-dashed-wrapped\"><div class=\"sk-label-container\"><div class=\"sk-label sk-toggleable\"><input class=\"sk-toggleable__control sk-hidden--visually\" id=\"sk-estimator-id-73\" type=\"checkbox\" ><label for=\"sk-estimator-id-73\" class=\"sk-toggleable__label sk-toggleable__label-arrow\">Pipeline</label><div class=\"sk-toggleable__content\"><pre>Pipeline(steps=[(&#x27;preprocessor&#x27;,\n",
              "                 ColumnTransformer(transformers=[(&#x27;num&#x27;,\n",
              "                                                  Pipeline(steps=[(&#x27;imputer&#x27;,\n",
              "                                                                   SimpleImputer()),\n",
              "                                                                  (&#x27;scaler&#x27;,\n",
              "                                                                   StandardScaler())]),\n",
              "                                                  [&#x27;Bedrooms&#x27;, &#x27;Bathrooms&#x27;,\n",
              "                                                   &#x27;Hydro&#x27;, &#x27;Heat&#x27;, &#x27;Water&#x27;,\n",
              "                                                   &#x27;Size&#x27;]),\n",
              "                                                 (&#x27;cat&#x27;,\n",
              "                                                  Pipeline(steps=[(&#x27;imputer&#x27;,\n",
              "                                                                   SimpleImputer(fill_value=&#x27;missing&#x27;,\n",
              "                                                                                 strategy=&#x27;constant&#x27;)),\n",
              "                                                                  (&#x27;onehot&#x27;,\n",
              "                                                                   OneHotEncoder(handle_unknown=&#x27;ignore&#x27;))]),\n",
              "                                                  [&#x27;CSDNAME&#x27;, &#x27;Type&#x27;])])),\n",
              "                (&#x27;regressor&#x27;, RandomForestRegressor())])</pre></div></div></div><div class=\"sk-serial\"><div class=\"sk-item sk-dashed-wrapped\"><div class=\"sk-label-container\"><div class=\"sk-label sk-toggleable\"><input class=\"sk-toggleable__control sk-hidden--visually\" id=\"sk-estimator-id-74\" type=\"checkbox\" ><label for=\"sk-estimator-id-74\" class=\"sk-toggleable__label sk-toggleable__label-arrow\">preprocessor: ColumnTransformer</label><div class=\"sk-toggleable__content\"><pre>ColumnTransformer(transformers=[(&#x27;num&#x27;,\n",
              "                                 Pipeline(steps=[(&#x27;imputer&#x27;, SimpleImputer()),\n",
              "                                                 (&#x27;scaler&#x27;, StandardScaler())]),\n",
              "                                 [&#x27;Bedrooms&#x27;, &#x27;Bathrooms&#x27;, &#x27;Hydro&#x27;, &#x27;Heat&#x27;,\n",
              "                                  &#x27;Water&#x27;, &#x27;Size&#x27;]),\n",
              "                                (&#x27;cat&#x27;,\n",
              "                                 Pipeline(steps=[(&#x27;imputer&#x27;,\n",
              "                                                  SimpleImputer(fill_value=&#x27;missing&#x27;,\n",
              "                                                                strategy=&#x27;constant&#x27;)),\n",
              "                                                 (&#x27;onehot&#x27;,\n",
              "                                                  OneHotEncoder(handle_unknown=&#x27;ignore&#x27;))]),\n",
              "                                 [&#x27;CSDNAME&#x27;, &#x27;Type&#x27;])])</pre></div></div></div><div class=\"sk-parallel\"><div class=\"sk-parallel-item\"><div class=\"sk-item\"><div class=\"sk-label-container\"><div class=\"sk-label sk-toggleable\"><input class=\"sk-toggleable__control sk-hidden--visually\" id=\"sk-estimator-id-75\" type=\"checkbox\" ><label for=\"sk-estimator-id-75\" class=\"sk-toggleable__label sk-toggleable__label-arrow\">num</label><div class=\"sk-toggleable__content\"><pre>[&#x27;Bedrooms&#x27;, &#x27;Bathrooms&#x27;, &#x27;Hydro&#x27;, &#x27;Heat&#x27;, &#x27;Water&#x27;, &#x27;Size&#x27;]</pre></div></div></div><div class=\"sk-serial\"><div class=\"sk-item\"><div class=\"sk-serial\"><div class=\"sk-item\"><div class=\"sk-estimator sk-toggleable\"><input class=\"sk-toggleable__control sk-hidden--visually\" id=\"sk-estimator-id-76\" type=\"checkbox\" ><label for=\"sk-estimator-id-76\" class=\"sk-toggleable__label sk-toggleable__label-arrow\">SimpleImputer</label><div class=\"sk-toggleable__content\"><pre>SimpleImputer()</pre></div></div></div><div class=\"sk-item\"><div class=\"sk-estimator sk-toggleable\"><input class=\"sk-toggleable__control sk-hidden--visually\" id=\"sk-estimator-id-77\" type=\"checkbox\" ><label for=\"sk-estimator-id-77\" class=\"sk-toggleable__label sk-toggleable__label-arrow\">StandardScaler</label><div class=\"sk-toggleable__content\"><pre>StandardScaler()</pre></div></div></div></div></div></div></div></div><div class=\"sk-parallel-item\"><div class=\"sk-item\"><div class=\"sk-label-container\"><div class=\"sk-label sk-toggleable\"><input class=\"sk-toggleable__control sk-hidden--visually\" id=\"sk-estimator-id-78\" type=\"checkbox\" ><label for=\"sk-estimator-id-78\" class=\"sk-toggleable__label sk-toggleable__label-arrow\">cat</label><div class=\"sk-toggleable__content\"><pre>[&#x27;CSDNAME&#x27;, &#x27;Type&#x27;]</pre></div></div></div><div class=\"sk-serial\"><div class=\"sk-item\"><div class=\"sk-serial\"><div class=\"sk-item\"><div class=\"sk-estimator sk-toggleable\"><input class=\"sk-toggleable__control sk-hidden--visually\" id=\"sk-estimator-id-79\" type=\"checkbox\" ><label for=\"sk-estimator-id-79\" class=\"sk-toggleable__label sk-toggleable__label-arrow\">SimpleImputer</label><div class=\"sk-toggleable__content\"><pre>SimpleImputer(fill_value=&#x27;missing&#x27;, strategy=&#x27;constant&#x27;)</pre></div></div></div><div class=\"sk-item\"><div class=\"sk-estimator sk-toggleable\"><input class=\"sk-toggleable__control sk-hidden--visually\" id=\"sk-estimator-id-80\" type=\"checkbox\" ><label for=\"sk-estimator-id-80\" class=\"sk-toggleable__label sk-toggleable__label-arrow\">OneHotEncoder</label><div class=\"sk-toggleable__content\"><pre>OneHotEncoder(handle_unknown=&#x27;ignore&#x27;)</pre></div></div></div></div></div></div></div></div></div></div><div class=\"sk-item\"><div class=\"sk-estimator sk-toggleable\"><input class=\"sk-toggleable__control sk-hidden--visually\" id=\"sk-estimator-id-81\" type=\"checkbox\" ><label for=\"sk-estimator-id-81\" class=\"sk-toggleable__label sk-toggleable__label-arrow\">RandomForestRegressor</label><div class=\"sk-toggleable__content\"><pre>RandomForestRegressor()</pre></div></div></div></div></div></div></div>"
            ],
            "text/plain": [
              "Pipeline(steps=[('preprocessor',\n",
              "                 ColumnTransformer(transformers=[('num',\n",
              "                                                  Pipeline(steps=[('imputer',\n",
              "                                                                   SimpleImputer()),\n",
              "                                                                  ('scaler',\n",
              "                                                                   StandardScaler())]),\n",
              "                                                  ['Bedrooms', 'Bathrooms',\n",
              "                                                   'Hydro', 'Heat', 'Water',\n",
              "                                                   'Size']),\n",
              "                                                 ('cat',\n",
              "                                                  Pipeline(steps=[('imputer',\n",
              "                                                                   SimpleImputer(fill_value='missing',\n",
              "                                                                                 strategy='constant')),\n",
              "                                                                  ('onehot',\n",
              "                                                                   OneHotEncoder(handle_unknown='ignore'))]),\n",
              "                                                  ['CSDNAME', 'Type'])])),\n",
              "                ('regressor', RandomForestRegressor())])"
            ]
          },
          "execution_count": 102,
          "metadata": {},
          "output_type": "execute_result"
        }
      ],
      "source": [
        "# Create a pipeline for preprocessing and model training in one step.\n",
        "\n",
        "# Random Forest Regressor Pipeline\n",
        "rf_model = Pipeline(steps=[('preprocessor', preprocessor),\n",
        "                           ('regressor', RandomForestRegressor())])\n",
        "rf_model.fit(X_train, y_train)\n"
      ]
    },
    {
      "cell_type": "code",
      "execution_count": null,
      "metadata": {
        "colab": {
          "base_uri": "https://localhost:8080/"
        },
        "id": "om-tcWF73TQw",
        "outputId": "ea5b31b2-d1c0-4317-927c-6a5cf95d309a"
      },
      "outputs": [
        {
          "name": "stdout",
          "output_type": "stream",
          "text": [
            "Mean Squared Error: 112947.98322423556\n",
            "R-squared: 0.5965679379164639\n"
          ]
        }
      ],
      "source": [
        "# Predicting the Test set results\n",
        "y_pred = rf_model.predict(X_test)\n",
        "\n",
        "# Evaluate the model using both Mean Squared Error and R-squared\n",
        "mse = mean_squared_error(y_test, y_pred)\n",
        "r2 = r2_score(y_test, y_pred)\n",
        "\n",
        "print(f'Mean Squared Error: {mse}')\n",
        "print(f'R-squared: {r2}')\n"
      ]
    },
    {
      "cell_type": "markdown",
      "metadata": {
        "id": "N1Rpcr9w3WsX"
      },
      "source": [
        "# Gradient Boost"
      ]
    },
    {
      "cell_type": "code",
      "execution_count": null,
      "metadata": {
        "colab": {
          "base_uri": "https://localhost:8080/",
          "height": 227
        },
        "id": "UO5QvXe_3ZkX",
        "outputId": "2213adcf-363d-481b-aa98-6e47a0500b36"
      },
      "outputs": [
        {
          "data": {
            "text/html": [
              "<style>#sk-container-id-10 {color: black;background-color: white;}#sk-container-id-10 pre{padding: 0;}#sk-container-id-10 div.sk-toggleable {background-color: white;}#sk-container-id-10 label.sk-toggleable__label {cursor: pointer;display: block;width: 100%;margin-bottom: 0;padding: 0.3em;box-sizing: border-box;text-align: center;}#sk-container-id-10 label.sk-toggleable__label-arrow:before {content: \"▸\";float: left;margin-right: 0.25em;color: #696969;}#sk-container-id-10 label.sk-toggleable__label-arrow:hover:before {color: black;}#sk-container-id-10 div.sk-estimator:hover label.sk-toggleable__label-arrow:before {color: black;}#sk-container-id-10 div.sk-toggleable__content {max-height: 0;max-width: 0;overflow: hidden;text-align: left;background-color: #f0f8ff;}#sk-container-id-10 div.sk-toggleable__content pre {margin: 0.2em;color: black;border-radius: 0.25em;background-color: #f0f8ff;}#sk-container-id-10 input.sk-toggleable__control:checked~div.sk-toggleable__content {max-height: 200px;max-width: 100%;overflow: auto;}#sk-container-id-10 input.sk-toggleable__control:checked~label.sk-toggleable__label-arrow:before {content: \"▾\";}#sk-container-id-10 div.sk-estimator input.sk-toggleable__control:checked~label.sk-toggleable__label {background-color: #d4ebff;}#sk-container-id-10 div.sk-label input.sk-toggleable__control:checked~label.sk-toggleable__label {background-color: #d4ebff;}#sk-container-id-10 input.sk-hidden--visually {border: 0;clip: rect(1px 1px 1px 1px);clip: rect(1px, 1px, 1px, 1px);height: 1px;margin: -1px;overflow: hidden;padding: 0;position: absolute;width: 1px;}#sk-container-id-10 div.sk-estimator {font-family: monospace;background-color: #f0f8ff;border: 1px dotted black;border-radius: 0.25em;box-sizing: border-box;margin-bottom: 0.5em;}#sk-container-id-10 div.sk-estimator:hover {background-color: #d4ebff;}#sk-container-id-10 div.sk-parallel-item::after {content: \"\";width: 100%;border-bottom: 1px solid gray;flex-grow: 1;}#sk-container-id-10 div.sk-label:hover label.sk-toggleable__label {background-color: #d4ebff;}#sk-container-id-10 div.sk-serial::before {content: \"\";position: absolute;border-left: 1px solid gray;box-sizing: border-box;top: 0;bottom: 0;left: 50%;z-index: 0;}#sk-container-id-10 div.sk-serial {display: flex;flex-direction: column;align-items: center;background-color: white;padding-right: 0.2em;padding-left: 0.2em;position: relative;}#sk-container-id-10 div.sk-item {position: relative;z-index: 1;}#sk-container-id-10 div.sk-parallel {display: flex;align-items: stretch;justify-content: center;background-color: white;position: relative;}#sk-container-id-10 div.sk-item::before, #sk-container-id-10 div.sk-parallel-item::before {content: \"\";position: absolute;border-left: 1px solid gray;box-sizing: border-box;top: 0;bottom: 0;left: 50%;z-index: -1;}#sk-container-id-10 div.sk-parallel-item {display: flex;flex-direction: column;z-index: 1;position: relative;background-color: white;}#sk-container-id-10 div.sk-parallel-item:first-child::after {align-self: flex-end;width: 50%;}#sk-container-id-10 div.sk-parallel-item:last-child::after {align-self: flex-start;width: 50%;}#sk-container-id-10 div.sk-parallel-item:only-child::after {width: 0;}#sk-container-id-10 div.sk-dashed-wrapped {border: 1px dashed gray;margin: 0 0.4em 0.5em 0.4em;box-sizing: border-box;padding-bottom: 0.4em;background-color: white;}#sk-container-id-10 div.sk-label label {font-family: monospace;font-weight: bold;display: inline-block;line-height: 1.2em;}#sk-container-id-10 div.sk-label-container {text-align: center;}#sk-container-id-10 div.sk-container {/* jupyter's `normalize.less` sets `[hidden] { display: none; }` but bootstrap.min.css set `[hidden] { display: none !important; }` so we also need the `!important` here to be able to override the default hidden behavior on the sphinx rendered scikit-learn.org. See: https://github.com/scikit-learn/scikit-learn/issues/21755 */display: inline-block !important;position: relative;}#sk-container-id-10 div.sk-text-repr-fallback {display: none;}</style><div id=\"sk-container-id-10\" class=\"sk-top-container\"><div class=\"sk-text-repr-fallback\"><pre>Pipeline(steps=[(&#x27;preprocessor&#x27;,\n",
              "                 ColumnTransformer(transformers=[(&#x27;num&#x27;,\n",
              "                                                  Pipeline(steps=[(&#x27;imputer&#x27;,\n",
              "                                                                   SimpleImputer()),\n",
              "                                                                  (&#x27;scaler&#x27;,\n",
              "                                                                   StandardScaler())]),\n",
              "                                                  [&#x27;Bedrooms&#x27;, &#x27;Bathrooms&#x27;,\n",
              "                                                   &#x27;Hydro&#x27;, &#x27;Heat&#x27;, &#x27;Water&#x27;,\n",
              "                                                   &#x27;Size&#x27;]),\n",
              "                                                 (&#x27;cat&#x27;,\n",
              "                                                  Pipeline(steps=[(&#x27;imputer&#x27;,\n",
              "                                                                   SimpleImputer(fill_value=&#x27;missing&#x27;,\n",
              "                                                                                 strategy=&#x27;constant&#x27;)),\n",
              "                                                                  (&#x27;onehot&#x27;,\n",
              "                                                                   OneHotEncoder(handle_unknown=&#x27;ignore&#x27;))]),\n",
              "                                                  [&#x27;CSDNAME&#x27;, &#x27;Type&#x27;])])),\n",
              "                (&#x27;regressor&#x27;, GradientBoostingRegressor())])</pre><b>In a Jupyter environment, please rerun this cell to show the HTML representation or trust the notebook. <br />On GitHub, the HTML representation is unable to render, please try loading this page with nbviewer.org.</b></div><div class=\"sk-container\" hidden><div class=\"sk-item sk-dashed-wrapped\"><div class=\"sk-label-container\"><div class=\"sk-label sk-toggleable\"><input class=\"sk-toggleable__control sk-hidden--visually\" id=\"sk-estimator-id-82\" type=\"checkbox\" ><label for=\"sk-estimator-id-82\" class=\"sk-toggleable__label sk-toggleable__label-arrow\">Pipeline</label><div class=\"sk-toggleable__content\"><pre>Pipeline(steps=[(&#x27;preprocessor&#x27;,\n",
              "                 ColumnTransformer(transformers=[(&#x27;num&#x27;,\n",
              "                                                  Pipeline(steps=[(&#x27;imputer&#x27;,\n",
              "                                                                   SimpleImputer()),\n",
              "                                                                  (&#x27;scaler&#x27;,\n",
              "                                                                   StandardScaler())]),\n",
              "                                                  [&#x27;Bedrooms&#x27;, &#x27;Bathrooms&#x27;,\n",
              "                                                   &#x27;Hydro&#x27;, &#x27;Heat&#x27;, &#x27;Water&#x27;,\n",
              "                                                   &#x27;Size&#x27;]),\n",
              "                                                 (&#x27;cat&#x27;,\n",
              "                                                  Pipeline(steps=[(&#x27;imputer&#x27;,\n",
              "                                                                   SimpleImputer(fill_value=&#x27;missing&#x27;,\n",
              "                                                                                 strategy=&#x27;constant&#x27;)),\n",
              "                                                                  (&#x27;onehot&#x27;,\n",
              "                                                                   OneHotEncoder(handle_unknown=&#x27;ignore&#x27;))]),\n",
              "                                                  [&#x27;CSDNAME&#x27;, &#x27;Type&#x27;])])),\n",
              "                (&#x27;regressor&#x27;, GradientBoostingRegressor())])</pre></div></div></div><div class=\"sk-serial\"><div class=\"sk-item sk-dashed-wrapped\"><div class=\"sk-label-container\"><div class=\"sk-label sk-toggleable\"><input class=\"sk-toggleable__control sk-hidden--visually\" id=\"sk-estimator-id-83\" type=\"checkbox\" ><label for=\"sk-estimator-id-83\" class=\"sk-toggleable__label sk-toggleable__label-arrow\">preprocessor: ColumnTransformer</label><div class=\"sk-toggleable__content\"><pre>ColumnTransformer(transformers=[(&#x27;num&#x27;,\n",
              "                                 Pipeline(steps=[(&#x27;imputer&#x27;, SimpleImputer()),\n",
              "                                                 (&#x27;scaler&#x27;, StandardScaler())]),\n",
              "                                 [&#x27;Bedrooms&#x27;, &#x27;Bathrooms&#x27;, &#x27;Hydro&#x27;, &#x27;Heat&#x27;,\n",
              "                                  &#x27;Water&#x27;, &#x27;Size&#x27;]),\n",
              "                                (&#x27;cat&#x27;,\n",
              "                                 Pipeline(steps=[(&#x27;imputer&#x27;,\n",
              "                                                  SimpleImputer(fill_value=&#x27;missing&#x27;,\n",
              "                                                                strategy=&#x27;constant&#x27;)),\n",
              "                                                 (&#x27;onehot&#x27;,\n",
              "                                                  OneHotEncoder(handle_unknown=&#x27;ignore&#x27;))]),\n",
              "                                 [&#x27;CSDNAME&#x27;, &#x27;Type&#x27;])])</pre></div></div></div><div class=\"sk-parallel\"><div class=\"sk-parallel-item\"><div class=\"sk-item\"><div class=\"sk-label-container\"><div class=\"sk-label sk-toggleable\"><input class=\"sk-toggleable__control sk-hidden--visually\" id=\"sk-estimator-id-84\" type=\"checkbox\" ><label for=\"sk-estimator-id-84\" class=\"sk-toggleable__label sk-toggleable__label-arrow\">num</label><div class=\"sk-toggleable__content\"><pre>[&#x27;Bedrooms&#x27;, &#x27;Bathrooms&#x27;, &#x27;Hydro&#x27;, &#x27;Heat&#x27;, &#x27;Water&#x27;, &#x27;Size&#x27;]</pre></div></div></div><div class=\"sk-serial\"><div class=\"sk-item\"><div class=\"sk-serial\"><div class=\"sk-item\"><div class=\"sk-estimator sk-toggleable\"><input class=\"sk-toggleable__control sk-hidden--visually\" id=\"sk-estimator-id-85\" type=\"checkbox\" ><label for=\"sk-estimator-id-85\" class=\"sk-toggleable__label sk-toggleable__label-arrow\">SimpleImputer</label><div class=\"sk-toggleable__content\"><pre>SimpleImputer()</pre></div></div></div><div class=\"sk-item\"><div class=\"sk-estimator sk-toggleable\"><input class=\"sk-toggleable__control sk-hidden--visually\" id=\"sk-estimator-id-86\" type=\"checkbox\" ><label for=\"sk-estimator-id-86\" class=\"sk-toggleable__label sk-toggleable__label-arrow\">StandardScaler</label><div class=\"sk-toggleable__content\"><pre>StandardScaler()</pre></div></div></div></div></div></div></div></div><div class=\"sk-parallel-item\"><div class=\"sk-item\"><div class=\"sk-label-container\"><div class=\"sk-label sk-toggleable\"><input class=\"sk-toggleable__control sk-hidden--visually\" id=\"sk-estimator-id-87\" type=\"checkbox\" ><label for=\"sk-estimator-id-87\" class=\"sk-toggleable__label sk-toggleable__label-arrow\">cat</label><div class=\"sk-toggleable__content\"><pre>[&#x27;CSDNAME&#x27;, &#x27;Type&#x27;]</pre></div></div></div><div class=\"sk-serial\"><div class=\"sk-item\"><div class=\"sk-serial\"><div class=\"sk-item\"><div class=\"sk-estimator sk-toggleable\"><input class=\"sk-toggleable__control sk-hidden--visually\" id=\"sk-estimator-id-88\" type=\"checkbox\" ><label for=\"sk-estimator-id-88\" class=\"sk-toggleable__label sk-toggleable__label-arrow\">SimpleImputer</label><div class=\"sk-toggleable__content\"><pre>SimpleImputer(fill_value=&#x27;missing&#x27;, strategy=&#x27;constant&#x27;)</pre></div></div></div><div class=\"sk-item\"><div class=\"sk-estimator sk-toggleable\"><input class=\"sk-toggleable__control sk-hidden--visually\" id=\"sk-estimator-id-89\" type=\"checkbox\" ><label for=\"sk-estimator-id-89\" class=\"sk-toggleable__label sk-toggleable__label-arrow\">OneHotEncoder</label><div class=\"sk-toggleable__content\"><pre>OneHotEncoder(handle_unknown=&#x27;ignore&#x27;)</pre></div></div></div></div></div></div></div></div></div></div><div class=\"sk-item\"><div class=\"sk-estimator sk-toggleable\"><input class=\"sk-toggleable__control sk-hidden--visually\" id=\"sk-estimator-id-90\" type=\"checkbox\" ><label for=\"sk-estimator-id-90\" class=\"sk-toggleable__label sk-toggleable__label-arrow\">GradientBoostingRegressor</label><div class=\"sk-toggleable__content\"><pre>GradientBoostingRegressor()</pre></div></div></div></div></div></div></div>"
            ],
            "text/plain": [
              "Pipeline(steps=[('preprocessor',\n",
              "                 ColumnTransformer(transformers=[('num',\n",
              "                                                  Pipeline(steps=[('imputer',\n",
              "                                                                   SimpleImputer()),\n",
              "                                                                  ('scaler',\n",
              "                                                                   StandardScaler())]),\n",
              "                                                  ['Bedrooms', 'Bathrooms',\n",
              "                                                   'Hydro', 'Heat', 'Water',\n",
              "                                                   'Size']),\n",
              "                                                 ('cat',\n",
              "                                                  Pipeline(steps=[('imputer',\n",
              "                                                                   SimpleImputer(fill_value='missing',\n",
              "                                                                                 strategy='constant')),\n",
              "                                                                  ('onehot',\n",
              "                                                                   OneHotEncoder(handle_unknown='ignore'))]),\n",
              "                                                  ['CSDNAME', 'Type'])])),\n",
              "                ('regressor', GradientBoostingRegressor())])"
            ]
          },
          "execution_count": 104,
          "metadata": {},
          "output_type": "execute_result"
        }
      ],
      "source": [
        "# Create a pipeline for preprocessing and model training in one step.\n",
        "\n",
        "# Gradient Boosting Regressor Pipeline\n",
        "gb_model = Pipeline(steps=[('preprocessor', preprocessor),\n",
        "                           ('regressor', GradientBoostingRegressor())])\n",
        "gb_model.fit(X_train, y_train)\n"
      ]
    },
    {
      "cell_type": "code",
      "execution_count": null,
      "metadata": {
        "colab": {
          "base_uri": "https://localhost:8080/"
        },
        "id": "y5oeY4WD3jTi",
        "outputId": "739c7e96-f3b7-4787-a9ff-774ed64c893b"
      },
      "outputs": [
        {
          "name": "stdout",
          "output_type": "stream",
          "text": [
            "Mean Squared Error: 106604.50317622062\n",
            "R-squared: 0.6192258301913152\n"
          ]
        }
      ],
      "source": [
        "# Predicting the Test set results\n",
        "y_pred = gb_model.predict(X_test)\n",
        "\n",
        "# Evaluate the model using both Mean Squared Error and R-squared\n",
        "mse = mean_squared_error(y_test, y_pred)\n",
        "r2 = r2_score(y_test, y_pred)\n",
        "\n",
        "print(f'Mean Squared Error: {mse}')\n",
        "print(f'R-squared: {r2}')"
      ]
    },
    {
      "cell_type": "markdown",
      "metadata": {
        "id": "HNvK1BGA30VV"
      },
      "source": [
        "# Looping through all models"
      ]
    },
    {
      "cell_type": "code",
      "execution_count": null,
      "metadata": {
        "colab": {
          "base_uri": "https://localhost:8080/"
        },
        "id": "AU5lddZd4Vi-",
        "outputId": "00d23def-c86a-46e0-f363-f617f5f41c31"
      },
      "outputs": [
        {
          "name": "stdout",
          "output_type": "stream",
          "text": [
            "Linear Regression: Mean Squared Error = 110431.71931762117, R-squared = 0.6055556286003823\n",
            "Decision Tree: Mean Squared Error = 154434.40166329898, R-squared = 0.448385111968134\n",
            "K-Nearest Neighbors: Mean Squared Error = 127842.67173459717, R-squared = 0.5433665019253717\n",
            "Random Forest: Mean Squared Error = 112628.10004585498, R-squared = 0.5977105092718435\n",
            "Gradient Boosting: Mean Squared Error = 106604.39938771697, R-squared = 0.6192262009071868\n"
          ]
        }
      ],
      "source": [
        "# Create a pipeline for preprocessing and model training in one step.\n",
        "def evaluate_models(models, preprocessor, X_train, y_train, X_test, y_test):\n",
        "    results = {}\n",
        "\n",
        "    for model_name, model in models.items():\n",
        "        # Create a pipeline with the preprocessor and the model\n",
        "        pipeline = Pipeline(steps=[('preprocessor', preprocessor),\n",
        "                                   ('regressor', model)])\n",
        "\n",
        "        # Fit the model\n",
        "        pipeline.fit(X_train, y_train)\n",
        "\n",
        "        # Predict and evaluate\n",
        "        y_pred = pipeline.predict(X_test)\n",
        "        mse = mean_squared_error(y_test, y_pred)\n",
        "        r2 = r2_score(y_test, y_pred)\n",
        "\n",
        "        results[model_name] = {'MSE': mse, 'R2': r2}\n",
        "        print(f\"{model_name}: Mean Squared Error = {mse}, R-squared = {r2}\")\n",
        "\n",
        "    return results\n",
        "\n",
        "# List of models to evaluate\n",
        "models = {\n",
        "    \"Linear Regression\": LinearRegression(),\n",
        "    \"Decision Tree\": DecisionTreeRegressor(),\n",
        "    \"K-Nearest Neighbors\": KNeighborsRegressor(),\n",
        "    \"Random Forest\": RandomForestRegressor(),\n",
        "    \"Gradient Boosting\": GradientBoostingRegressor()\n",
        "}\n",
        "\n",
        "# show model results\n",
        "model_results = evaluate_models(models, preprocessor, X_train, y_train, X_test, y_test)\n"
      ]
    },
    {
      "cell_type": "markdown",
      "metadata": {
        "id": "__nWl5nbmR4y"
      },
      "source": [
        "# Save the best performing model"
      ]
    },
    {
      "cell_type": "code",
      "execution_count": null,
      "metadata": {
        "colab": {
          "base_uri": "https://localhost:8080/"
        },
        "id": "IGFPPWN7muD_",
        "outputId": "ade76faf-a091-46a6-cf1f-6937216e7409"
      },
      "outputs": [
        {
          "name": "stdout",
          "output_type": "stream",
          "text": [
            "Requirement already satisfied: joblib in /usr/local/lib/python3.10/dist-packages (1.3.2)\n"
          ]
        }
      ],
      "source": [
        "!pip install joblib\n"
      ]
    },
    {
      "cell_type": "code",
      "execution_count": null,
      "metadata": {
        "colab": {
          "base_uri": "https://localhost:8080/"
        },
        "id": "OUpTaweAmU00",
        "outputId": "4addb8eb-f5cf-41e9-ae41-63c9017b02cc"
      },
      "outputs": [
        {
          "data": {
            "text/plain": [
              "['gradient_boost_regressor_model.pkl']"
            ]
          },
          "execution_count": 108,
          "metadata": {},
          "output_type": "execute_result"
        }
      ],
      "source": [
        "import joblib\n",
        "\n",
        "# Assuming 'random_forest' is your best trained Random Forest Regressor model\n",
        "model = gb_model  # Replace with your actual model\n",
        "\n",
        "# Specify the file path where you want to save the model\n",
        "model_filename = 'gradient_boost_regressor_model.pkl'\n",
        "\n",
        "# Save the model to a .pkl file\n",
        "joblib.dump(model, model_filename)\n"
      ]
    },
    {
      "cell_type": "markdown",
      "metadata": {
        "id": "dejtJmkRg4yI"
      },
      "source": [
        "# Determine Feature Imporance- Regression Models"
      ]
    },
    {
      "cell_type": "code",
      "execution_count": null,
      "metadata": {
        "colab": {
          "base_uri": "https://localhost:8080/"
        },
        "id": "0Xo27kayLnIM",
        "outputId": "ec92e062-7e24-4ed5-a109-ee5289daf611"
      },
      "outputs": [
        {
          "name": "stdout",
          "output_type": "stream",
          "text": [
            "Feature Importances:\n",
            "CSDNAME: 0.14071649007244252\n",
            "Type: 0.09465173945285293\n",
            "Bedrooms: 0.01880655766323491\n",
            "Bathrooms: 0.021068341929294482\n",
            "Hydro: 0.014836267387780976\n",
            "Heat: 0.18326309023260037\n",
            "Water: 0.0001628468395999331\n",
            "Size: 0.0003789613590333108\n"
          ]
        }
      ],
      "source": [
        "#get feature importance for dtree_model\n",
        "\n",
        "print(f'Feature Importances:')\n",
        "for name, importance in zip(X_train.columns, dtree_model['regressor'].feature_importances_):\n",
        "  print(f'{name}: {importance}')"
      ]
    },
    {
      "cell_type": "code",
      "execution_count": null,
      "metadata": {
        "colab": {
          "base_uri": "https://localhost:8080/"
        },
        "id": "TZ3nBiUDQUNN",
        "outputId": "b8b4d610-6508-415a-a2e5-14be4c4693e4"
      },
      "outputs": [
        {
          "name": "stdout",
          "output_type": "stream",
          "text": [
            "[('CSDNAME', 0.14071649007244252), ('Type', 0.09465173945285293), ('Bedrooms', 0.01880655766323491), ('Bathrooms', 0.021068341929294482), ('Hydro', 0.014836267387780976), ('Heat', 0.18326309023260037), ('Water', 0.0001628468395999331), ('Size', 0.0003789613590333108)]\n"
          ]
        }
      ],
      "source": [
        "# #extract feature importances and as a list\n",
        "\n",
        "importances = dtree_model['regressor'].feature_importances_\n",
        "feature_names = X_train.columns\n",
        "feature_importances = list(zip(feature_names, importances))\n",
        "print(feature_importances)\n"
      ]
    },
    {
      "cell_type": "markdown",
      "metadata": {
        "id": "qp6TAtCUY9c0"
      },
      "source": [
        "# Visualize feature_importances\n",
        "\n"
      ]
    },
    {
      "cell_type": "code",
      "execution_count": null,
      "metadata": {
        "id": "mjRbeT3MY-tE"
      },
      "outputs": [],
      "source": [
        "import matplotlib.pyplot as plt"
      ]
    },
    {
      "cell_type": "code",
      "execution_count": null,
      "metadata": {
        "colab": {
          "base_uri": "https://localhost:8080/",
          "height": 607
        },
        "id": "Nlv2oG4bX6pm",
        "outputId": "284d1e65-1343-4d55-eb6f-7cc116df8846"
      },
      "outputs": [
        {
          "data": {
            "image/png": "[encoded data removed]",
            "text/plain": [
              "<Figure size 1000x600 with 1 Axes>"
            ]
          },
          "metadata": {},
          "output_type": "display_data"
        }
      ],
      "source": [
        "\n",
        "\n",
        "# Sort the features by importance\n",
        "feature_importances = sorted(feature_importances, key=lambda x: x[1], reverse=True)\n",
        "\n",
        "# Extract feature names and importances\n",
        "feature_names, importances = zip(*feature_importances)\n",
        "\n",
        "# Create a bar plot\n",
        "plt.figure(figsize=(10, 6))\n",
        "plt.title(\"Feature Importances (Decision Tree)\")\n",
        "plt.bar(range(len(feature_names)), importances, color=\"r\", align=\"center\")\n",
        "plt.xticks(range(len(feature_names)), feature_names, rotation=90)\n",
        "plt.tight_layout()\n",
        "plt.show()\n"
      ]
    },
    {
      "cell_type": "code",
      "execution_count": null,
      "metadata": {
        "colab": {
          "base_uri": "https://localhost:8080/",
          "height": 607
        },
        "id": "s1e0T9A2YKJL",
        "outputId": "9ababa1a-b133-4e35-d7a5-9514c840f767"
      },
      "outputs": [
        {
          "data": {
            "image/png": "[encoded data removed]",
            "text/plain": [
              "<Figure size 1000x600 with 1 Axes>"
            ]
          },
          "metadata": {},
          "output_type": "display_data"
        }
      ],
      "source": [
        "\n",
        "# Sort the features by importance\n",
        "feature_importances = sorted(feature_importances, key=lambda x: x[1], reverse=False)\n",
        "\n",
        "# Extract feature names and importances\n",
        "feature_names, importances = zip(*feature_importances)\n",
        "\n",
        "# Create a bar plot\n",
        "plt.figure(figsize=(10, 6))\n",
        "plt.title(\"Feature Importances (Decision Tree)\")\n",
        "plt.barh(range(len(feature_names)), importances, color=\"r\", align=\"center\")\n",
        "plt.yticks(range(len(feature_names)), feature_names)\n",
        "plt.tight_layout()\n",
        "plt.show()\n"
      ]
    },
    {
      "cell_type": "code",
      "execution_count": null,
      "metadata": {
        "colab": {
          "base_uri": "https://localhost:8080/"
        },
        "id": "fUhExjtrQO0N",
        "outputId": "b41eb81a-2bde-4728-ab6f-8bf20c01ac25"
      },
      "outputs": [
        {
          "name": "stdout",
          "output_type": "stream",
          "text": [
            "Feature Importances:\n",
            "CSDNAME: 0.16675323373520104\n",
            "Type: 0.17960511485085476\n",
            "Bedrooms: 0.007299882315164795\n",
            "Bathrooms: 0.0007120675013957749\n",
            "Hydro: 0.00939130119763851\n",
            "Heat: 0.06524069888346455\n",
            "Water: 0.0\n",
            "Size: 0.0\n"
          ]
        }
      ],
      "source": [
        "#get feature importance for Gradient boost _model\n",
        "\n",
        "print(f'Feature Importances:')\n",
        "for name, importance in zip(X_train.columns, gb_model['regressor'].feature_importances_):\n",
        "  print(f'{name}: {importance}')"
      ]
    },
    {
      "cell_type": "code",
      "execution_count": null,
      "metadata": {
        "id": "szvFNKgAZPO3"
      },
      "outputs": [],
      "source": [
        "# #extract feature importances and as a list\n",
        "\n",
        "importances = gb_model['regressor'].feature_importances_\n",
        "feature_names = X_train.columns\n",
        "feature_importances = list(zip(feature_names, importances))\n"
      ]
    },
    {
      "cell_type": "code",
      "execution_count": null,
      "metadata": {
        "colab": {
          "base_uri": "https://localhost:8080/",
          "height": 607
        },
        "id": "PtEcvGaFZn0t",
        "outputId": "75aefa0c-f3d5-44cf-ac2f-1d9f4aee3a3c"
      },
      "outputs": [
        {
          "data": {
            "image/png": "[encoded data removed]",
            "text/plain": [
              "<Figure size 1000x600 with 1 Axes>"
            ]
          },
          "metadata": {},
          "output_type": "display_data"
        }
      ],
      "source": [
        "#Visualize\n",
        "# Sort the features by importance\n",
        "feature_importances = sorted(feature_importances, key=lambda x: x[1], reverse=False)\n",
        "\n",
        "# Extract feature names and importances\n",
        "feature_names, importances = zip(*feature_importances)\n",
        "\n",
        "# Create a bar plot\n",
        "plt.figure(figsize=(10, 6))\n",
        "plt.title(\"Feature Importances (Decision Tree)\")\n",
        "plt.barh(range(len(feature_names)), importances, color=\"r\", align=\"center\")\n",
        "plt.yticks(range(len(feature_names)), feature_names)\n",
        "plt.tight_layout()\n",
        "plt.show()\n"
      ]
    },
    {
      "cell_type": "markdown",
      "metadata": {
        "id": "3eXFrqWYg4yL"
      },
      "source": [
        "# Solution 2: Convert to a Classification Problem"
      ]
    },
    {
      "cell_type": "markdown",
      "metadata": {
        "id": "lh_IPwI1g4yM"
      },
      "source": [
        "# Define Price Categories\n",
        "\n",
        "For example, you can categorize properties into 'low', 'medium', and 'high' price ranges based on the value of the 'Price' column."
      ]
    },
    {
      "cell_type": "code",
      "execution_count": null,
      "metadata": {
        "id": "TtW4zdRNg4yM"
      },
      "outputs": [],
      "source": [
        "data['Price Category'] = pd.cut(data['Price'],\n",
        "                                bins=[0, 1500, 2500, float('inf')],\n",
        "                                labels=['low', 'medium', 'high'])\n"
      ]
    },
    {
      "cell_type": "markdown",
      "metadata": {
        "id": "k2qsuMDxg4yM"
      },
      "source": [
        "# Check for Data imbalance"
      ]
    },
    {
      "cell_type": "code",
      "execution_count": null,
      "metadata": {
        "id": "vmj8HOPJg4yM"
      },
      "outputs": [],
      "source": [
        "import matplotlib.pyplot as plt\n",
        "\n",
        "# Calculate value counts for the 'Success' column\n",
        "success_counts = data['Price Category'].value_counts()\n",
        "\n",
        "\n"
      ]
    },
    {
      "cell_type": "code",
      "execution_count": null,
      "metadata": {
        "colab": {
          "base_uri": "https://localhost:8080/",
          "height": 410
        },
        "id": "5TkJ0bkgg4yM",
        "outputId": "02ee652c-4cc8-40a3-9e62-7589f99ab9e4"
      },
      "outputs": [
        {
          "data": {
            "image/png": "[encoded data removed]",
            "text/plain": [
              "<Figure size 600x400 with 1 Axes>"
            ]
          },
          "metadata": {},
          "output_type": "display_data"
        }
      ],
      "source": [
        "# Plotting the bar plot\n",
        "plt.figure(figsize=(6, 4))\n",
        "success_counts.plot(kind='bar', color=['purple', 'orange','blue'])\n",
        "plt.title('Price Category Distribution')\n",
        "plt.xlabel('Price Category')\n",
        "plt.ylabel('Count')\n",
        "plt.xticks(rotation=0)\n",
        "plt.show()"
      ]
    },
    {
      "cell_type": "markdown",
      "metadata": {
        "id": "54-KVvOFg4yM"
      },
      "source": [
        "Consider reducing your threshold for better balance. First bin must always be 0 to capture all price ranges\n",
        "\n"
      ]
    },
    {
      "cell_type": "markdown",
      "metadata": {
        "id": "KLf2g4fUb_Fd"
      },
      "source": [
        "Rerun visualization to see if we have a balance with the new price thresholds"
      ]
    },
    {
      "cell_type": "markdown",
      "metadata": {
        "id": "XsxowmUJg4yM"
      },
      "source": [
        "## Data Preprocessing"
      ]
    },
    {
      "cell_type": "code",
      "execution_count": null,
      "metadata": {
        "id": "a8S7tTEtg4yM"
      },
      "outputs": [],
      "source": [
        "# Create a pipeline for preprocessing and model training in one step.\n",
        "# Convert categorical data to numeric using one-hot encoding\n",
        "categorical_features = ['CSDNAME','Type']\n",
        "categorical_transformer = Pipeline(steps=[\n",
        "    ('imputer', SimpleImputer(strategy='constant', fill_value='missing')),\n",
        "    ('onehot', OneHotEncoder(handle_unknown='ignore'))\n",
        "])"
      ]
    },
    {
      "cell_type": "code",
      "execution_count": null,
      "metadata": {
        "id": "pGHBOYaWg4yM"
      },
      "outputs": [],
      "source": [
        "# Create a pipeline for preprocessing and model training in one step.\n",
        "\n",
        "# Preprocessing for numerical features\n",
        "numerical_features = ['Bedrooms', 'Bathrooms', 'Hydro', 'Heat', 'Water', 'Size']\n",
        "numerical_transformer = Pipeline(steps=[\n",
        "    ('imputer', SimpleImputer(strategy='mean')),\n",
        "    ('scaler', StandardScaler())\n",
        "])"
      ]
    },
    {
      "cell_type": "code",
      "execution_count": null,
      "metadata": {
        "id": "aIgGE9kdg4yN"
      },
      "outputs": [],
      "source": [
        "# Bundle preprocessing for numerical and categorical data\n",
        "preprocessor = ColumnTransformer(\n",
        "    transformers=[\n",
        "        ('num', numerical_transformer, numerical_features),\n",
        "        ('cat', categorical_transformer, categorical_features)\n",
        "    ])"
      ]
    },
    {
      "cell_type": "markdown",
      "metadata": {
        "id": "DioczJoLg4yN"
      },
      "source": [
        "# Let's train the model"
      ]
    },
    {
      "cell_type": "markdown",
      "metadata": {
        "id": "PZe3hIKbg4yN"
      },
      "source": [
        "# Import Classifier Models"
      ]
    },
    {
      "cell_type": "code",
      "execution_count": null,
      "metadata": {
        "id": "vOW0HcYgg4yN"
      },
      "outputs": [],
      "source": [
        "from sklearn.ensemble import RandomForestClassifier\n",
        "from sklearn.linear_model import LogisticRegression\n",
        "from sklearn.tree import DecisionTreeClassifier\n",
        "from sklearn.metrics import accuracy_score, classification_report"
      ]
    },
    {
      "cell_type": "code",
      "execution_count": null,
      "metadata": {
        "id": "8y5QIjQkg4yN"
      },
      "outputs": [],
      "source": [
        "# Random Forest model initialization.\n",
        "# Decision Tree model initialization.\n",
        "# Logistic Regression model initialization.\n",
        "# Update your models dictionary\n",
        "models = {\n",
        "    \"Logistic Regression\": LogisticRegression(),\n",
        "    \"Decision Tree\": DecisionTreeClassifier(),\n",
        "    \"Random Forest\": RandomForestClassifier()\n",
        "\n",
        "}\n"
      ]
    },
    {
      "cell_type": "code",
      "execution_count": null,
      "metadata": {
        "id": "144FWaavg4yN"
      },
      "outputs": [],
      "source": [
        "# Define your target and features\n",
        "X = data.drop(['Price', 'Price Category'], axis=1)  # Drop the original Price column\n",
        "y = data['Price Category']\n"
      ]
    },
    {
      "cell_type": "markdown",
      "metadata": {
        "id": "NtGqpRTXg4yN"
      },
      "source": [
        "## Step 3: Split Data into Training and Test Sets"
      ]
    },
    {
      "cell_type": "code",
      "execution_count": null,
      "metadata": {
        "id": "uA9RGX6rg4yN"
      },
      "outputs": [],
      "source": [
        "# Split the dataset into 80% training and 20% testing subsets.\n",
        "# Splitting the dataset into the Training set and Test set\n",
        "X_train, X_test, y_train, y_test = train_test_split(X, y, test_size=0.2, random_state=0)\n"
      ]
    },
    {
      "cell_type": "code",
      "execution_count": null,
      "metadata": {
        "colab": {
          "base_uri": "https://localhost:8080/"
        },
        "id": "OYXZ4NV-g4yN",
        "outputId": "b491247d-8244-446b-810a-63a6125dcf0d"
      },
      "outputs": [
        {
          "name": "stderr",
          "output_type": "stream",
          "text": [
            "/usr/local/lib/python3.10/dist-packages/sklearn/linear_model/_logistic.py:458: ConvergenceWarning: lbfgs failed to converge (status=1):\n",
            "STOP: TOTAL NO. of ITERATIONS REACHED LIMIT.\n",
            "\n",
            "Increase the number of iterations (max_iter) or scale the data as shown in:\n",
            "    https://scikit-learn.org/stable/modules/preprocessing.html\n",
            "Please also refer to the documentation for alternative solver options:\n",
            "    https://scikit-learn.org/stable/modules/linear_model.html#logistic-regression\n",
            "  n_iter_i = _check_optimize_result(\n"
          ]
        },
        {
          "name": "stdout",
          "output_type": "stream",
          "text": [
            "Logistic Regression Classification Report:\n",
            "\n",
            "              precision    recall  f1-score   support\n",
            "\n",
            "        high       0.77      0.57      0.66       200\n",
            "         low       0.75      0.64      0.69       591\n",
            "      medium       0.80      0.88      0.84      1319\n",
            "\n",
            "    accuracy                           0.79      2110\n",
            "   macro avg       0.77      0.70      0.73      2110\n",
            "weighted avg       0.78      0.79      0.78      2110\n",
            "\n",
            "Decision Tree Classification Report:\n",
            "\n",
            "              precision    recall  f1-score   support\n",
            "\n",
            "        high       0.57      0.65      0.61       200\n",
            "         low       0.67      0.70      0.68       591\n",
            "      medium       0.81      0.78      0.80      1319\n",
            "\n",
            "    accuracy                           0.75      2110\n",
            "   macro avg       0.69      0.71      0.70      2110\n",
            "weighted avg       0.75      0.75      0.75      2110\n",
            "\n",
            "Random Forest Classification Report:\n",
            "\n",
            "              precision    recall  f1-score   support\n",
            "\n",
            "        high       0.64      0.61      0.63       200\n",
            "         low       0.69      0.65      0.67       591\n",
            "      medium       0.80      0.83      0.81      1319\n",
            "\n",
            "    accuracy                           0.76      2110\n",
            "   macro avg       0.71      0.70      0.70      2110\n",
            "weighted avg       0.76      0.76      0.76      2110\n",
            "\n"
          ]
        }
      ],
      "source": [
        "# Create a pipeline for preprocessing and model training in one step.\n",
        "# Train and evaluate models\n",
        "for model_name, model in models.items():\n",
        "    pipeline = Pipeline(steps=[('preprocessor', preprocessor),  # Use your preprocessor\n",
        "                               ('classifier', model)])\n",
        "    pipeline.fit(X_train, y_train)\n",
        "    y_pred = pipeline.predict(X_test)\n",
        "    print(f\"{model_name} Classification Report:\\n\")\n",
        "    print(classification_report(y_test, y_pred))"
      ]
    },
    {
      "cell_type": "markdown",
      "metadata": {
        "id": "AcQKfL0ag4yN"
      },
      "source": [
        "*Which model performed best?*"
      ]
    },
    {
      "cell_type": "markdown",
      "metadata": {
        "id": "tHG54LIqg4yN"
      },
      "source": [
        "# Save the best performing model"
      ]
    },
    {
      "cell_type": "code",
      "execution_count": null,
      "metadata": {
        "colab": {
          "base_uri": "https://localhost:8080/"
        },
        "id": "Db5k9a9cg4yN",
        "outputId": "ab696a8a-c5dc-412a-fdd8-b268bcd122f7"
      },
      "outputs": [
        {
          "data": {
            "text/plain": [
              "['random_forest_classifier_model.pkl']"
            ]
          },
          "execution_count": 128,
          "metadata": {},
          "output_type": "execute_result"
        }
      ],
      "source": [
        "\n",
        "\n",
        "# Assuming 'random_forest_classifier' is your best trained Random Forest Classifier model\n",
        "model = 'Random Forest'  # Replace with your actual model\n",
        "\n",
        "# Specify the file path where you want to save the model\n",
        "model_filename = 'random_forest_classifier_model.pkl'\n",
        "\n",
        "# Save the model to a .pkl file\n",
        "joblib.dump(model, model_filename)\n"
      ]
    }
  ],
  "metadata": {
    "colab": {
      "provenance": []
    },
    "kernelspec": {
      "display_name": "Python 3",
      "name": "python3"
    },
    "language_info": {
      "name": "python"
    }
  },
  "nbformat": 4,
  "nbformat_minor": 0
}